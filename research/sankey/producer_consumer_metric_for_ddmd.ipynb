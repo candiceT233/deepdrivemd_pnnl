{
 "cells": [
  {
   "cell_type": "code",
   "execution_count": 1,
   "id": "2de7035d",
   "metadata": {},
   "outputs": [],
   "source": [
    "import yaml\n",
    "import sys\n",
    "from pprint import pprint\n",
    "import argparse\n",
    "import os, glob, re\n",
    "import numpy as np\n",
    "import pandas as pd\n",
    "import networkx as nx\n",
    "# plotting\n",
    "import plotly.graph_objects as go\n",
    "import matplotlib.pyplot as plt\n",
    "from IPython.display import Markdown, display"
   ]
  },
  {
   "cell_type": "code",
   "execution_count": 2,
   "id": "8610d9d5",
   "metadata": {},
   "outputs": [],
   "source": [
    "#metric = 'frequency'\n",
    "#metric_ = metric + ' (avg)'\n",
    "\n",
    "#metric = 'frequency'\n",
    "#metric_ = metric + ' (sum)'\n",
    "\n",
    "#metric = 'access_size'\n",
    "#metric_ = metric + ' (avg)'\n",
    "\n",
    "#metric = 'access_size'\n",
    "#metric_ = metric + ' (sum)'\n",
    "\n",
    "metric = 'weighted_access_size'\n",
    "metric_ = metric + ' (sum)'\n",
    "\n",
    "filtered_file_ext = 'h5'\n"
   ]
  },
  {
   "cell_type": "code",
   "execution_count": 3,
   "id": "c1dee0d3",
   "metadata": {},
   "outputs": [],
   "source": [
    "def printmd(string):\n",
    "    display(Markdown(string))"
   ]
  },
  {
   "cell_type": "code",
   "execution_count": 4,
   "id": "c0f16a4b",
   "metadata": {},
   "outputs": [],
   "source": [
    "def convert2Dict(dlist, id_name):\n",
    "    return {x[id_name]: x for x in dlist}\n",
    "\n",
    "def import_yaml(fname):\n",
    "    with open(fname) as f:\n",
    "        return yaml.safe_load(f)"
   ]
  },
  {
   "cell_type": "code",
   "execution_count": 5,
   "id": "690e74eb",
   "metadata": {},
   "outputs": [],
   "source": [
    "class Conversion(object):\n",
    "\n",
    "    data = None\n",
    "    job_dependency = None\n",
    "    tasks = None\n",
    "    cmds = None\n",
    "    files = None\n",
    "\n",
    "    def user_input(self):\n",
    "        parser = argparse.ArgumentParser('Pegasus DAX Parser')\n",
    "        parser.add_argument('-w', '--workflow_yml')\n",
    "        parser.add_argument('-r', '--replica_yml')\n",
    "        parser.add_argument('-t', '--transformation_yml')\n",
    "        parser.add_argument('-p', '--radical_pst_yml', help='output yaml filename')\n",
    "        parser.add_argument('-o', '--output', help='shell script output')\n",
    "        args = parser.parse_args()\n",
    "        self.args = args\n",
    "        return args\n",
    "\n",
    "\n",
    "    def import_dax(self):\n",
    "\n",
    "        data = None\n",
    "        jdep = None\n",
    "        tasks = None\n",
    "        files = None\n",
    "        cmds = None\n",
    "\n",
    "        if self.args.workflow_yml:\n",
    "            data = import_yaml(self.args.workflow_yml)\n",
    "            jdep = data['jobDependencies']\n",
    "\n",
    "            if 'transformationCatalog' in data:\n",
    "                tasks = convert2Dict(data['transformationCatalog']['transformations'], 'name')\n",
    "            if 'jobs' in data:\n",
    "                cmds = convert2Dict(data['jobs'], 'id')\n",
    "            if 'replicaCatalog' in data:\n",
    "                files = convert2Dict(data['replicaCatalog']['replicas'], 'lfn')\n",
    "        if self.args.replica_yml:\n",
    "            repl = import_yaml(self.args.replica_yml)\n",
    "            files = convert2Dict(repl['replicas'], 'lfn')\n",
    "        if self.args.transformation_yml:\n",
    "            trans = import_yaml(self.args.transformation_yml)\n",
    "            tasks = convert2Dict(trans['transformations'], 'name')\n",
    "\n",
    "        self.data = data\n",
    "        self.job_dependency = jdep\n",
    "        self.tasks = tasks\n",
    "        self.cmds = cmds\n",
    "        self.files = files\n",
    "\n",
    "\n",
    "    def get_jdep(self):\n",
    "        dict_dep = {}\n",
    "\n",
    "        for i in self.job_dependency:\n",
    "            dict_dep[i['id']] = i['children']\n",
    "\n",
    "        ordered = {}\n",
    "        for pjob_id, child_ids in dict_dep.items():\n",
    "            if pjob_id not in ordered:\n",
    "               ordered[pjob_id] = 1\n",
    "            for cjob_id in child_ids:\n",
    "                if cjob_id not in ordered:\n",
    "                   ordered[cjob_id] = ordered[pjob_id] + 1\n",
    "                else:\n",
    "                   ordered[cjob_id] = max(ordered[pjob_id] + 1, ordered[cjob_id])\n",
    "        self.ordered = ordered\n",
    "        self.ordered_by_val = {k: v for k, v in sorted(ordered.items(), key=lambda item: item[1])}\n",
    "\n",
    "\n",
    "    def get_cmd(self, cid):\n",
    "        cname = self.cmds[cid]['name']\n",
    "        #     {'name': 'mConvert', 'sites': [{'name': 'local', 'pfn':\n",
    "        #     '/files0/oddite/leeh736/Montage/bin/mConvert', 'type': 'stageable'}],\n",
    "        #     'profiles': {'condor': {'request_memory': '1 GB'}, 'env': {'PATH':\n",
    "        #     '/usr/bin:/bin:.'}}}\n",
    "        t_path = self.tasks[cname]['sites'][0]['pfn']\n",
    "        return t_path\n",
    "\n",
    "\n",
    "    def get_arguments(self, cid):\n",
    "        return self.cmds[cid]['arguments']\n",
    "\n",
    "\n",
    "    def get_data(self, cid):\n",
    "\n",
    "        inputs = []\n",
    "        outputs = []\n",
    "        pre_exec = []\n",
    "\n",
    "        flist = self.cmds[cid]['uses']\n",
    "        # uses: \n",
    "        # - lfn: pposs2ukstu_blue_001_002_area.fits\n",
    "        #   type: output\n",
    "        #   stageOut: false\n",
    "        #   registerReplica: true\n",
    "        # - lfn: poss2ukstu_blue_001_002.fits\n",
    "        #   type: input\n",
    "        for v in flist:\n",
    "            fname = v['lfn']\n",
    "            ftype = v['type']\n",
    "            # - lfn: region-oversized.hdr\n",
    "            #   pfns:\n",
    "            #   - site: local\n",
    "            #     pfn: file:///files0/oddite/leeh736/montage-workflow-v3/data/region-oversized.hdr\n",
    "            if fname in self.files:\n",
    "                fobj = self.files[fname]\n",
    "                flocation = fobj['pfns'][0]['site']\n",
    "                fpath = fobj['pfns'][0]['pfn']\n",
    "                if flocation == \"local\":\n",
    "                    # local copy to cwd\n",
    "                    if fpath[:7] == \"file://\":\n",
    "                        sp = 7\n",
    "                    else:\n",
    "                        sp = 0\n",
    "                    cmd = [\"/bin/cp\", fpath[sp:], \"./\"] # '7:', removing the `file://` protocol by indexing counts\n",
    "                else: # ipac\n",
    "                    # remote download to cwd\n",
    "                    cmd = [\"/bin/curl\", \"-o\", fname, f\"'{fpath}'\"]\n",
    "                pre_exec.append(cmd)\n",
    "            if ftype == \"output\":\n",
    "                outputs.append(fname)\n",
    "                if v['registerReplica']:\n",
    "                    self.files[fname] = {'pfns': [{'site': 'local', 'pfn': f'file://${cid}/{fname}'}]}\n",
    "            else:\n",
    "                inputs.append(fname)\n",
    "        return {'inputs': inputs,\n",
    "                'outputs': outputs,\n",
    "                'pre_exec': pre_exec}\n",
    "\n",
    "\n",
    "    def retrieve_cmd_info(self, cid):\n",
    "        t_exec = self.get_cmd(cid)\n",
    "        args = self.get_arguments(cid)\n",
    "        tmp = self.get_data(cid)\n",
    "        return {'exec': t_exec, 'args': args, 'inputs': tmp['inputs'], 'outputs':\n",
    "                tmp['outputs'], 'pre_exec': tmp['pre_exec']}\n",
    "\n",
    "\n",
    "    def update_id_map_to_pst(self, t_info, m_info):\n",
    "        pre_exec = t_info['pre_exec']\n",
    "        for cmd in pre_exec:\n",
    "            idx = 0\n",
    "            for element in cmd:\n",
    "                if element[0] == \"$\":\n",
    "                    idname, rest = element.split(\"/\",1)\n",
    "                    tmp = m_info[idname[1:]]\n",
    "                    cmd[idx] = \"%s/%s\" % (tmp, rest)\n",
    "                idx += 1\n",
    "\n",
    "    def convert_to_pst(self):\n",
    "        pst = {}\n",
    "        t_cnt = 0\n",
    "        id_map_to_pst = {}\n",
    "        for k, v in self.ordered_by_val.items():\n",
    "            t_info = self.retrieve_cmd_info(k)\n",
    "            s_name = 'stage_%s' % v\n",
    "            t_name = 'task_%s' % t_cnt\n",
    "            id_map_to_pst[k] = f'$pipeline_0_{s_name}_{t_name}'\n",
    "            self.update_id_map_to_pst(t_info, id_map_to_pst)\n",
    "            task = { t_name : t_info }\n",
    "            if s_name in pst:\n",
    "                pst[s_name].append(task)\n",
    "            else:\n",
    "                pst[s_name] = [task]\n",
    "            t_cnt += 1\n",
    "\n",
    "        pprint(pst, indent=4)\n",
    "        self.pst = pst\n",
    "\n",
    "    def save_pst_yml(self):\n",
    "        outfname = self.args.radical_pst_yml\n",
    "        if outfname:\n",
    "            with open(outfname, 'w') as outfile:\n",
    "                yaml.dump(self.pst, outfile, default_flow_style=False)\n",
    "\n",
    "    def save_shell_script(self):\n",
    "        outfname = self.args.output\n",
    "        if outfname:\n",
    "            with open(outfname, 'w') as outfile:\n",
    "                lines = []\n",
    "                for k, v in self.ordered_by_val.items():\n",
    "                    t_info = self.retrieve_cmd_info(k)\n",
    "                    for l in t_info['pre_exec']:\n",
    "                        outfile.write(\" \".join(l) + \"\\n\")\n",
    "                    line = \"%s %s \" % (t_info['exec'], \" \".join(t_info['args']))\n",
    "                    outfile.write(f\"{line}\\n\")\n"
   ]
  },
  {
   "cell_type": "code",
   "execution_count": 6,
   "id": "3d210bdb",
   "metadata": {},
   "outputs": [],
   "source": [
    "class args():\n",
    "    workflow_yml = None\n",
    "    replica_yml = None\n",
    "    transformation_yml = None\n",
    "\n",
    "args = args()\n",
    "args.workflow_yml = 'ddmd_workflow_360k.yml'"
   ]
  },
  {
   "cell_type": "code",
   "execution_count": 7,
   "id": "ecd92401",
   "metadata": {},
   "outputs": [],
   "source": [
    "obj = Conversion()\n",
    "obj.args = args\n",
    "obj.import_dax()\n",
    "obj.get_jdep()"
   ]
  },
  {
   "cell_type": "code",
   "execution_count": 8,
   "id": "dce85b51",
   "metadata": {},
   "outputs": [],
   "source": [
    "# loading tazer stat files into pandas dataframe\n",
    "def stat_to_df(fname):\n",
    "\n",
    "    df = pd.read_csv(fname, sep=' ', names=['block_idx', 'frequency', 'access_size'], skiprows=1)\n",
    "    return df\n",
    "\n",
    "def read_tazer_stats(dpath):\n",
    "\n",
    "    agg_sum = {'frequency':'sum', 'access_size':'sum', 'weighted_access_size': 'sum'}\n",
    "    agg_avg = {'frequency':'mean', 'access_size':'mean', 'weighted_access_size': 'mean'}\n",
    "    agg_sum_rename = {'frequency': 'frequency (sum)', \n",
    "                      'access_size': 'access_size (sum)', \n",
    "                      'weighted_access_size': 'weighted_access_size (sum)'}\n",
    "    agg_avg_rename = {'frequency': 'frequency (avg)', \n",
    "                      'access_size': 'access_size (avg)',\n",
    "                      'weighted_access_size': 'weighted_access_size (avg)'}\n",
    "\n",
    "    df_all = {}\n",
    "\n",
    "    for fpath in glob.glob(dpath + \"/*/*_stat\"):\n",
    "\n",
    "        # ignore trace stats but for r/w stat\n",
    "        if fpath[-10:] == \"trace_stat\":\n",
    "            continue\n",
    "        df = stat_to_df(fpath)\n",
    "        if df.empty is True:\n",
    "            continue\n",
    "            \n",
    "        df['weighted_access_size'] = df['frequency'] * df['access_size']\n",
    "        task_name = os.path.basename(os.path.dirname(fpath))\n",
    "        stat_filename = os.path.basename(fpath)\n",
    "        series = df.agg(agg_sum)\n",
    "        df_sum = pd.DataFrame(series).transpose().rename(columns=agg_sum_rename)\n",
    "        series = df.agg(agg_avg)\n",
    "        df_avg = pd.DataFrame(series).transpose().rename(columns=agg_avg_rename)\n",
    "        df = pd.concat([df_sum, df_avg], axis=1)\n",
    "        if task_name in df_all:\n",
    "            if stat_filename in df_all[task_name]:\n",
    "                print(fname, \"==duplicate==\")\n",
    "            df_all[task_name][stat_filename] = df\n",
    "        else:\n",
    "            df_all[task_name] = {stat_filename: df}\n",
    "            \n",
    "    return df_all"
   ]
  },
  {
   "cell_type": "code",
   "execution_count": 9,
   "id": "657e2757",
   "metadata": {},
   "outputs": [],
   "source": [
    "# custom func for ddmd (non-pegasus)\n",
    "def parse_strace_stdout(strace_log_fname, filter_fname_ext):\n",
    "\n",
    "    fd_dict = {}\n",
    "    stat_dict = {}\n",
    "\n",
    "    with open(strace_log_fname) as f:\n",
    "        lines = f.readlines()\n",
    "    for line in lines:\n",
    "        fmode = \"\"\n",
    "        fperm = \"\"\n",
    "        fm = \"\"\n",
    "        func_name = line.split(\"(\")[0]\n",
    "        if func_name == \"open\":\n",
    "            func, ret = line.rsplit(\"=\", 1)\n",
    "            _, fname, __ = func.split('\"')\n",
    "            tmp = __.split(\",\")\n",
    "            if len(tmp) > 2:\n",
    "                fmode, fperm = tmp[1], tmp[2]\n",
    "            else:\n",
    "                fmode = tmp[1]\n",
    "            fmode = fmode.strip()\n",
    "            if \"O_RDONLY\" in fmode:\n",
    "                fm = \"r\"\n",
    "            else:\n",
    "                fm = \"w\"\n",
    "            ret = ret.strip()\n",
    "            try:\n",
    "                if int(ret) < 0:\n",
    "                    continue\n",
    "            except ValueError: # -1 ENOENT (No such file or directory)\n",
    "                continue\n",
    "            fname_ext = os.path.basename(fname).split(\".\")[-1]\n",
    "            #print(line, fname_ext)\n",
    "            if fname_ext != filter_fname_ext:\n",
    "                continue\n",
    "            if ret not in fd_dict:\n",
    "                fd_dict[ret] = {'fname':fname, 'func_stat': func_name, \n",
    "                                'fmode': fm, 'fmode_ori': fmode, 'fperm': fperm,\n",
    "                               'stat_w':[], 'stat_r':[]}\n",
    "            else:\n",
    "                print(\"fd is duplicate!:\", ret, fname)\n",
    "            #print(fname, ret, fext, line)\n",
    "        elif func_name == \"read\" or func_name == \"pread64\":\n",
    "            func, ret = line.rsplit('=', 1)\n",
    "            tmp = func.split(\",\")\n",
    "            fd = tmp[0]\n",
    "            if len(tmp) >= 3:\n",
    "                msg, size, _ = tmp[1], tmp[2], tmp[3:]\n",
    "            fd = fd.split(\"(\")[1]\n",
    "            size = size.strip()[:-1] # removing \")\" by [:-1]\n",
    "            ret = ret.strip()\n",
    "            #print(fd, size, ret, line)\n",
    "            if fd not in fd_dict:\n",
    "                #print (\"%s is not in the list\" % fd)\n",
    "                continue\n",
    "            #print(line)\n",
    "            fd_dict[fd]['stat_r'].append(ret)\n",
    "            #print(        fd_dict[fd]['stat'])\n",
    "        elif func_name == \"write\" or func_name == \"pwrite64\":\n",
    "            func, ret = line.rsplit('=', 1)\n",
    "            tmp = func.split(\",\")\n",
    "            fd = tmp[0]\n",
    "            if len(tmp) >= 3:\n",
    "                msg, size, _ = tmp[1], tmp[2], tmp[3:]\n",
    "            fd = fd.split(\"(\")[1]\n",
    "            size = size.strip()[:-1] # removing \")\" by [:-1]\n",
    "            ret = ret.strip()\n",
    "            #print(fd, size, ret, line)\n",
    "            if fd not in fd_dict:\n",
    "                #print (\"%s is not in the list\" % fd)\n",
    "                continue\n",
    "            #print(line)\n",
    "            fd_dict[fd]['stat_w'].append(ret)\n",
    "            #print(        fd_dict[fd]['stat'])        \n",
    "        elif func_name == \"close\":\n",
    "            fd = line.split(\"(\")[1].split(\")\")[0]\n",
    "            #print(fd, line)\n",
    "            if fd not in fd_dict:\n",
    "                #print (fd, \" is not in the list\")\n",
    "                continue\n",
    "            fname = fd_dict[fd]['fname']\n",
    "            if fname in stat_dict:\n",
    "                #print (\"already exist!\", fname)\n",
    "                stat_dict[fname]['stat_w'] += fd_dict[fd]['stat_w']\n",
    "                stat_dict[fname]['stat_r'] += fd_dict[fd]['stat_r']            \n",
    "            else:\n",
    "                stat_dict[fname] = fd_dict[fd]\n",
    "            #print(\"deleting:\", fd, fd_dict[fd])\n",
    "            del(fd_dict[fd])\n",
    "            #break\n",
    "    return stat_dict"
   ]
  },
  {
   "cell_type": "code",
   "execution_count": 10,
   "id": "1faa6ab5",
   "metadata": {},
   "outputs": [],
   "source": [
    "ddmd_stat_train = parse_strace_stdout('tazer_stat/ddmd/strace_train_no_tazer_on_cpu_node_local.1st.log', filter_fname_ext=\"h5\")"
   ]
  },
  {
   "cell_type": "code",
   "execution_count": 11,
   "id": "6b674f2d",
   "metadata": {},
   "outputs": [],
   "source": [
    "ddmd_stat_agent = parse_strace_stdout('tazer_stat/ddmd/strace_agent_no_tazer.rand.log', filter_fname_ext=\"h5\")"
   ]
  },
  {
   "cell_type": "code",
   "execution_count": 12,
   "id": "d8aa1519",
   "metadata": {},
   "outputs": [],
   "source": [
    "ddmd_stat_agg = parse_strace_stdout('tazer_stat/ddmd/strace_agg_output.rand.log', filter_fname_ext=\"h5\")"
   ]
  },
  {
   "cell_type": "code",
   "execution_count": 13,
   "id": "7c55241c",
   "metadata": {},
   "outputs": [],
   "source": [
    "def build_df_from_strace(stat_dict, task_name):\n",
    "\n",
    "    df_all = {task_name:{}}\n",
    "    for k, v in stat_dict.items():\n",
    "        #print(k,v)\n",
    "        for ftype in [\"r\", \"w\"]:\n",
    "            stat_filename = os.path.basename(k) + \"_%s_stat\" % ftype\n",
    "            df = pd.DataFrame(stat_dict[k][f'stat_{ftype}'], columns=['access_size'])\n",
    "            df = df.astype({'access_size':'int'})\n",
    "            df['frequency'] = 1\n",
    "            df['block_idx'] = df.index\n",
    "\n",
    "            agg_sum = {'frequency':'sum', 'access_size':'sum', 'weighted_access_size': 'sum'}\n",
    "            agg_avg = {'frequency':'mean', 'access_size':'mean', 'weighted_access_size': 'mean'}\n",
    "            agg_sum_rename = {'frequency': 'frequency (sum)', \n",
    "                              'access_size': 'access_size (sum)', \n",
    "                              'weighted_access_size': 'weighted_access_size (sum)'}\n",
    "            agg_avg_rename = {'frequency': 'frequency (avg)', \n",
    "                              'access_size': 'access_size (avg)',\n",
    "                              'weighted_access_size': 'weighted_access_size (avg)'}\n",
    "\n",
    "            if df.empty is True:\n",
    "                continue\n",
    "            #print(df.dtypes)\n",
    "\n",
    "            df['weighted_access_size'] = df['frequency'] * df['access_size']\n",
    "            series = df.agg(agg_sum)\n",
    "            df_sum = pd.DataFrame(series).transpose().rename(columns=agg_sum_rename)\n",
    "            series = df.agg(agg_avg)\n",
    "            df_avg = pd.DataFrame(series).transpose().rename(columns=agg_avg_rename)\n",
    "            df = pd.concat([df_sum, df_avg], axis=1)\n",
    "            \n",
    "            if stat_filename in df_all[task_name]:\n",
    "                df_prev = df_all[task_name][stat_filename]\n",
    "                #tmp = pd.concat([df, df_prev],axis=0, ignore_index=True)\n",
    "                df = pd.concat([df, df_prev],axis=0).groupby(level=0).mean()\n",
    "                #tmp['block_idx'] = tmp.index\n",
    "                #df = tmp\n",
    "                #print(df)            \n",
    "            df_all[task_name][stat_filename] = df\n",
    "            #print(task_name, stat_filename)\n",
    "    return df_all"
   ]
  },
  {
   "cell_type": "code",
   "execution_count": 14,
   "id": "78dd3a23",
   "metadata": {},
   "outputs": [],
   "source": [
    "df_all_train = build_df_from_strace(ddmd_stat_train, task_name=\"train_py\")"
   ]
  },
  {
   "cell_type": "code",
   "execution_count": 15,
   "id": "f0842bfa",
   "metadata": {},
   "outputs": [],
   "source": [
    "df_all_agent = build_df_from_strace(ddmd_stat_agent, task_name=\"lof_py\")"
   ]
  },
  {
   "cell_type": "code",
   "execution_count": 16,
   "id": "dd6ebbd7",
   "metadata": {},
   "outputs": [],
   "source": [
    "df_all_agg = build_df_from_strace(ddmd_stat_agg, task_name=\"aggregate_py\")"
   ]
  },
  {
   "cell_type": "code",
   "execution_count": 17,
   "id": "cb780dcf",
   "metadata": {},
   "outputs": [],
   "source": [
    "df_all = {**df_all_train, **df_all_agent, **df_all_agg}\n"
   ]
  },
  {
   "cell_type": "code",
   "execution_count": 55,
   "id": "7519bedb",
   "metadata": {},
   "outputs": [],
   "source": [
    "def get_graph(data, df, metric_=metric_):\n",
    "    print(\"Building a graph with this metric:\", metric_)\n",
    "    _pos = (0, -1)\n",
    "    G = nx.DiGraph()\n",
    "    prev_v = 1\n",
    "    cnt = 0\n",
    "    for k, v in data.ordered_by_val.items():\n",
    "        if prev_v == v:\n",
    "            cnt += 1\n",
    "        else:\n",
    "            cnt = 0\n",
    "        if cnt > 10000:\n",
    "            prev_v = v\n",
    "            continue\n",
    "        t_info = data.retrieve_cmd_info(k)\n",
    "        tname = os.path.basename(t_info['exec'])\n",
    "        tnodename = \"%s (%s)\" % (tname, k)\n",
    "        if prev_v == v:\n",
    "            _pos = (_pos[0], _pos[1] + 1)\n",
    "        else:\n",
    "            _pos = (v + 2, 0)\n",
    "        G.add_node(tnodename, ntype='task', pos=_pos)\n",
    "        #rint(tnodename)\n",
    "        prev_v = v\n",
    "        __pos = _pos\n",
    "        for ftype in ['inputs', 'outputs']:\n",
    "\n",
    "            bnames = [x for x in t_info[ftype] if x.split('.')[1] == filtered_file_ext]\n",
    "            __pos = (_pos[0] + 2.5, __pos[1])\n",
    "            for bname in bnames:\n",
    "                sname = bname + \"_r_stat\" if ftype == 'inputs' else bname + \"_w_stat\"\n",
    "                if tname not in df:\n",
    "                    print (tname, \"--missing--\")\n",
    "                    continue\n",
    "                if sname not in df[tname]:\n",
    "                    print(tname, sname , \"==missing==\")\n",
    "                    continue\n",
    "                stat = df[tname][sname]\n",
    "                frequency = stat[metric_][0]\n",
    "                frequency_sum = stat['frequency (sum)'][0]\n",
    "                if G.has_node(bname) is False:\n",
    "                    G.add_node(bname, pos=__pos)\n",
    "                    __pos = (__pos[0], __pos[1] + 1)\n",
    "                if ftype == 'inputs':\n",
    "                    G.add_edge(bname, tnodename, value=frequency, frequency_sum=frequency_sum)\n",
    "                else:\n",
    "                    G.add_edge(tnodename, bname, value=frequency, frequency_sum=frequency_sum)\n",
    "        _pos = (_pos[0], __pos[1])\n",
    "        #_pos = (_pos[0] + 1, 0) \n",
    "    return G, _pos"
   ]
  },
  {
   "cell_type": "code",
   "execution_count": 19,
   "id": "c4c8cef4",
   "metadata": {},
   "outputs": [],
   "source": [
    "df_md = read_tazer_stats('tazer_stat/ddmd/tazer/')"
   ]
  },
  {
   "cell_type": "code",
   "execution_count": 20,
   "id": "8e72eae0",
   "metadata": {},
   "outputs": [],
   "source": [
    "df_all_ = { **df_md, **df_all}"
   ]
  },
  {
   "cell_type": "code",
   "execution_count": 84,
   "id": "4214b798",
   "metadata": {},
   "outputs": [
    {
     "name": "stdout",
     "output_type": "stream",
     "text": [
      "Building a graph with this metric: weighted_access_size (sum)\n",
      "train_py stage0000_task0000.h5_r_stat ==missing==\n",
      "train_py stage0000_task0001.h5_r_stat ==missing==\n",
      "Building a graph with this metric: frequency (avg)\n",
      "train_py stage0000_task0000.h5_r_stat ==missing==\n",
      "train_py stage0000_task0001.h5_r_stat ==missing==\n"
     ]
    }
   ],
   "source": [
    "#df_all = read_tazer_stats(\"tazer_stat/montage\")\n",
    "G, _pos = get_graph(obj, df_all_)\n",
    "metric_frequency_avg = 'frequency (avg)'\n",
    "G_, __pos = get_graph(obj, df_all_, metric_=metric_frequency_avg)"
   ]
  },
  {
   "cell_type": "code",
   "execution_count": 22,
   "id": "f83eb499",
   "metadata": {},
   "outputs": [],
   "source": [
    "color_map = {\"task\": \"red\",\n",
    "                 \"file\": \"blue\",\n",
    "                 \"none\": \"grey\",\n",
    "                }\n",
    "def get_nodes_for_sankey(G, color_map=color_map):\n",
    "    node_dict_ref = {}\n",
    "    node_dict_for_sankey = {'label': [], 'color':[], 'x':[], 'y':[]}\n",
    "\n",
    "    for idx, (node_name, attr) in enumerate(G.nodes(data=True)):\n",
    "        node_type = 'file' if node_name[-len(filtered_file_ext):] == filtered_file_ext else 'task'\n",
    "        if node_name in node_dict_ref:\n",
    "            print(node_name, \"==duplicate==\")\n",
    "        node_dict_ref[node_name] = {'idx':idx, 'type':node_type}\n",
    "\n",
    "        if \"producer\" in color_map and \"consumer\" in color_map:\n",
    "            if(node_type == \"task\" and len(G.in_edges(node_name)) < 1):\n",
    "                node_type = \"producer\"\n",
    "            elif(node_type == \"task\" and len(G.out_edges(node_name)) < 1):\n",
    "                node_type = \"consumer\"\n",
    "        #sankey\n",
    "        node_dict_for_sankey['label'].append(node_name)\n",
    "        node_dict_for_sankey['color'].append(color_map[node_type])\n",
    "        #node_dict_for_sankey['x'].append(attr['pos'][0]/10.0)\n",
    "        #node_dict_for_sankey['y'].append(attr['pos'][1]/10.0)\n",
    "    return node_dict_for_sankey, node_dict_ref\n",
    "\n",
    "def get_links_for_sankey(G, node_dict_ref, metric='value'):\n",
    "    link_dict_for_sankey = {'source':[], 'target':[], 'value':[]}\n",
    "    for u, v, attr in G.edges(data=True):\n",
    "        #print(u, v, attr)\n",
    "        u_idx = node_dict_ref[u]['idx']\n",
    "        v_idx = node_dict_ref[v]['idx']\n",
    "        link_dict_for_sankey['source'].append(u_idx)\n",
    "        link_dict_for_sankey['target'].append(v_idx)\n",
    "        link_dict_for_sankey['value'].append(attr[metric])\n",
    "    return link_dict_for_sankey"
   ]
  },
  {
   "cell_type": "code",
   "execution_count": 23,
   "id": "9d004d4e",
   "metadata": {},
   "outputs": [],
   "source": [
    "%matplotlib inline"
   ]
  },
  {
   "cell_type": "code",
   "execution_count": 106,
   "id": "999d4d05",
   "metadata": {},
   "outputs": [
    {
     "data": {
      "application/vnd.plotly.v1+json": {
       "config": {
        "plotlyServerURL": "https://plot.ly"
       },
       "data": [
        {
         "link": {
          "source": [
           0,
           1,
           1,
           2,
           3,
           3,
           4,
           5,
           5,
           5,
           6,
           7,
           7,
           7,
           8,
           9,
           9,
           9,
           10,
           11,
           11,
           11,
           12,
           13,
           13,
           13,
           14,
           15,
           15,
           15,
           16,
           17,
           17,
           17,
           18,
           19,
           19,
           19,
           20,
           21,
           21,
           21,
           22,
           23,
           23,
           23,
           24,
           26,
           26,
           26,
           26,
           26,
           26,
           26,
           26,
           26,
           26
          ],
          "target": [
           1,
           24,
           37,
           3,
           24,
           37,
           5,
           24,
           26,
           37,
           7,
           24,
           26,
           37,
           9,
           24,
           26,
           37,
           11,
           24,
           26,
           37,
           13,
           24,
           26,
           37,
           15,
           24,
           26,
           37,
           17,
           24,
           26,
           37,
           19,
           24,
           26,
           37,
           21,
           24,
           26,
           37,
           23,
           24,
           26,
           37,
           25,
           27,
           28,
           29,
           30,
           31,
           32,
           33,
           34,
           35,
           36
          ],
          "value": [
           1,
           1,
           1,
           1,
           1,
           1,
           1,
           1,
           1,
           1,
           1,
           1,
           1,
           1,
           1,
           1,
           1,
           1,
           1,
           1,
           1,
           1,
           1,
           1,
           1,
           1,
           1,
           1,
           1,
           1,
           1,
           1,
           1,
           1,
           1,
           1,
           1,
           1,
           1,
           1,
           1,
           1,
           1,
           1,
           1,
           1,
           1,
           1,
           1,
           1,
           1,
           1,
           1,
           1,
           1,
           1,
           1
          ]
         },
         "node": {
          "color": [
           "red",
           "blue",
           "red",
           "blue",
           "red",
           "blue",
           "red",
           "blue",
           "red",
           "blue",
           "red",
           "blue",
           "red",
           "blue",
           "red",
           "blue",
           "red",
           "blue",
           "red",
           "blue",
           "red",
           "blue",
           "red",
           "blue",
           "red",
           "blue",
           "red",
           "blue",
           "blue",
           "blue",
           "blue",
           "blue",
           "blue",
           "blue",
           "blue",
           "blue",
           "blue",
           "red"
          ],
          "label": [
           "run_openmm_py (ID0000001)",
           "stage0000_task0000.h5",
           "run_openmm_py (ID0000002)",
           "stage0000_task0001.h5",
           "run_openmm_py (ID0000003)",
           "stage0000_task0002.h5",
           "run_openmm_py (ID0000004)",
           "stage0000_task0003.h5",
           "run_openmm_py (ID0000005)",
           "stage0000_task0004.h5",
           "run_openmm_py (ID0000006)",
           "stage0000_task0005.h5",
           "run_openmm_py (ID0000007)",
           "stage0000_task0006.h5",
           "run_openmm_py (ID0000008)",
           "stage0000_task0007.h5",
           "run_openmm_py (ID0000009)",
           "stage0000_task0008.h5",
           "run_openmm_py (ID0000010)",
           "stage0000_task0009.h5",
           "run_openmm_py (ID0000011)",
           "stage0000_task0010.h5",
           "run_openmm_py (ID0000012)",
           "stage0000_task0011.h5",
           "aggregate_py (ID0000013)",
           "aggregated.h5",
           "train_py (ID0000014)",
           "embeddings-epoch-1-20230110-081347.h5",
           "embeddings-epoch-2-20230110-081642.h5",
           "embeddings-epoch-3-20230110-081932.h5",
           "embeddings-epoch-4-20230110-082222.h5",
           "embeddings-epoch-5-20230110-082513.h5",
           "embeddings-epoch-6-20230110-082931.h5",
           "embeddings-epoch-7-20230110-083220.h5",
           "embeddings-epoch-8-20230110-083511.h5",
           "embeddings-epoch-9-20230110-083801.h5",
           "embeddings-epoch-10-20230110-084052.h5",
           "lof_py (ID0000015)"
          ],
          "x": [],
          "y": []
         },
         "orientation": "h",
         "type": "sankey"
        }
       ],
       "layout": {
        "template": {
         "data": {
          "bar": [
           {
            "error_x": {
             "color": "#2a3f5f"
            },
            "error_y": {
             "color": "#2a3f5f"
            },
            "marker": {
             "line": {
              "color": "#E5ECF6",
              "width": 0.5
             },
             "pattern": {
              "fillmode": "overlay",
              "size": 10,
              "solidity": 0.2
             }
            },
            "type": "bar"
           }
          ],
          "barpolar": [
           {
            "marker": {
             "line": {
              "color": "#E5ECF6",
              "width": 0.5
             },
             "pattern": {
              "fillmode": "overlay",
              "size": 10,
              "solidity": 0.2
             }
            },
            "type": "barpolar"
           }
          ],
          "carpet": [
           {
            "aaxis": {
             "endlinecolor": "#2a3f5f",
             "gridcolor": "white",
             "linecolor": "white",
             "minorgridcolor": "white",
             "startlinecolor": "#2a3f5f"
            },
            "baxis": {
             "endlinecolor": "#2a3f5f",
             "gridcolor": "white",
             "linecolor": "white",
             "minorgridcolor": "white",
             "startlinecolor": "#2a3f5f"
            },
            "type": "carpet"
           }
          ],
          "choropleth": [
           {
            "colorbar": {
             "outlinewidth": 0,
             "ticks": ""
            },
            "type": "choropleth"
           }
          ],
          "contour": [
           {
            "colorbar": {
             "outlinewidth": 0,
             "ticks": ""
            },
            "colorscale": [
             [
              0,
              "#0d0887"
             ],
             [
              0.1111111111111111,
              "#46039f"
             ],
             [
              0.2222222222222222,
              "#7201a8"
             ],
             [
              0.3333333333333333,
              "#9c179e"
             ],
             [
              0.4444444444444444,
              "#bd3786"
             ],
             [
              0.5555555555555556,
              "#d8576b"
             ],
             [
              0.6666666666666666,
              "#ed7953"
             ],
             [
              0.7777777777777778,
              "#fb9f3a"
             ],
             [
              0.8888888888888888,
              "#fdca26"
             ],
             [
              1,
              "#f0f921"
             ]
            ],
            "type": "contour"
           }
          ],
          "contourcarpet": [
           {
            "colorbar": {
             "outlinewidth": 0,
             "ticks": ""
            },
            "type": "contourcarpet"
           }
          ],
          "heatmap": [
           {
            "colorbar": {
             "outlinewidth": 0,
             "ticks": ""
            },
            "colorscale": [
             [
              0,
              "#0d0887"
             ],
             [
              0.1111111111111111,
              "#46039f"
             ],
             [
              0.2222222222222222,
              "#7201a8"
             ],
             [
              0.3333333333333333,
              "#9c179e"
             ],
             [
              0.4444444444444444,
              "#bd3786"
             ],
             [
              0.5555555555555556,
              "#d8576b"
             ],
             [
              0.6666666666666666,
              "#ed7953"
             ],
             [
              0.7777777777777778,
              "#fb9f3a"
             ],
             [
              0.8888888888888888,
              "#fdca26"
             ],
             [
              1,
              "#f0f921"
             ]
            ],
            "type": "heatmap"
           }
          ],
          "heatmapgl": [
           {
            "colorbar": {
             "outlinewidth": 0,
             "ticks": ""
            },
            "colorscale": [
             [
              0,
              "#0d0887"
             ],
             [
              0.1111111111111111,
              "#46039f"
             ],
             [
              0.2222222222222222,
              "#7201a8"
             ],
             [
              0.3333333333333333,
              "#9c179e"
             ],
             [
              0.4444444444444444,
              "#bd3786"
             ],
             [
              0.5555555555555556,
              "#d8576b"
             ],
             [
              0.6666666666666666,
              "#ed7953"
             ],
             [
              0.7777777777777778,
              "#fb9f3a"
             ],
             [
              0.8888888888888888,
              "#fdca26"
             ],
             [
              1,
              "#f0f921"
             ]
            ],
            "type": "heatmapgl"
           }
          ],
          "histogram": [
           {
            "marker": {
             "pattern": {
              "fillmode": "overlay",
              "size": 10,
              "solidity": 0.2
             }
            },
            "type": "histogram"
           }
          ],
          "histogram2d": [
           {
            "colorbar": {
             "outlinewidth": 0,
             "ticks": ""
            },
            "colorscale": [
             [
              0,
              "#0d0887"
             ],
             [
              0.1111111111111111,
              "#46039f"
             ],
             [
              0.2222222222222222,
              "#7201a8"
             ],
             [
              0.3333333333333333,
              "#9c179e"
             ],
             [
              0.4444444444444444,
              "#bd3786"
             ],
             [
              0.5555555555555556,
              "#d8576b"
             ],
             [
              0.6666666666666666,
              "#ed7953"
             ],
             [
              0.7777777777777778,
              "#fb9f3a"
             ],
             [
              0.8888888888888888,
              "#fdca26"
             ],
             [
              1,
              "#f0f921"
             ]
            ],
            "type": "histogram2d"
           }
          ],
          "histogram2dcontour": [
           {
            "colorbar": {
             "outlinewidth": 0,
             "ticks": ""
            },
            "colorscale": [
             [
              0,
              "#0d0887"
             ],
             [
              0.1111111111111111,
              "#46039f"
             ],
             [
              0.2222222222222222,
              "#7201a8"
             ],
             [
              0.3333333333333333,
              "#9c179e"
             ],
             [
              0.4444444444444444,
              "#bd3786"
             ],
             [
              0.5555555555555556,
              "#d8576b"
             ],
             [
              0.6666666666666666,
              "#ed7953"
             ],
             [
              0.7777777777777778,
              "#fb9f3a"
             ],
             [
              0.8888888888888888,
              "#fdca26"
             ],
             [
              1,
              "#f0f921"
             ]
            ],
            "type": "histogram2dcontour"
           }
          ],
          "mesh3d": [
           {
            "colorbar": {
             "outlinewidth": 0,
             "ticks": ""
            },
            "type": "mesh3d"
           }
          ],
          "parcoords": [
           {
            "line": {
             "colorbar": {
              "outlinewidth": 0,
              "ticks": ""
             }
            },
            "type": "parcoords"
           }
          ],
          "pie": [
           {
            "automargin": true,
            "type": "pie"
           }
          ],
          "scatter": [
           {
            "fillpattern": {
             "fillmode": "overlay",
             "size": 10,
             "solidity": 0.2
            },
            "type": "scatter"
           }
          ],
          "scatter3d": [
           {
            "line": {
             "colorbar": {
              "outlinewidth": 0,
              "ticks": ""
             }
            },
            "marker": {
             "colorbar": {
              "outlinewidth": 0,
              "ticks": ""
             }
            },
            "type": "scatter3d"
           }
          ],
          "scattercarpet": [
           {
            "marker": {
             "colorbar": {
              "outlinewidth": 0,
              "ticks": ""
             }
            },
            "type": "scattercarpet"
           }
          ],
          "scattergeo": [
           {
            "marker": {
             "colorbar": {
              "outlinewidth": 0,
              "ticks": ""
             }
            },
            "type": "scattergeo"
           }
          ],
          "scattergl": [
           {
            "marker": {
             "colorbar": {
              "outlinewidth": 0,
              "ticks": ""
             }
            },
            "type": "scattergl"
           }
          ],
          "scattermapbox": [
           {
            "marker": {
             "colorbar": {
              "outlinewidth": 0,
              "ticks": ""
             }
            },
            "type": "scattermapbox"
           }
          ],
          "scatterpolar": [
           {
            "marker": {
             "colorbar": {
              "outlinewidth": 0,
              "ticks": ""
             }
            },
            "type": "scatterpolar"
           }
          ],
          "scatterpolargl": [
           {
            "marker": {
             "colorbar": {
              "outlinewidth": 0,
              "ticks": ""
             }
            },
            "type": "scatterpolargl"
           }
          ],
          "scatterternary": [
           {
            "marker": {
             "colorbar": {
              "outlinewidth": 0,
              "ticks": ""
             }
            },
            "type": "scatterternary"
           }
          ],
          "surface": [
           {
            "colorbar": {
             "outlinewidth": 0,
             "ticks": ""
            },
            "colorscale": [
             [
              0,
              "#0d0887"
             ],
             [
              0.1111111111111111,
              "#46039f"
             ],
             [
              0.2222222222222222,
              "#7201a8"
             ],
             [
              0.3333333333333333,
              "#9c179e"
             ],
             [
              0.4444444444444444,
              "#bd3786"
             ],
             [
              0.5555555555555556,
              "#d8576b"
             ],
             [
              0.6666666666666666,
              "#ed7953"
             ],
             [
              0.7777777777777778,
              "#fb9f3a"
             ],
             [
              0.8888888888888888,
              "#fdca26"
             ],
             [
              1,
              "#f0f921"
             ]
            ],
            "type": "surface"
           }
          ],
          "table": [
           {
            "cells": {
             "fill": {
              "color": "#EBF0F8"
             },
             "line": {
              "color": "white"
             }
            },
            "header": {
             "fill": {
              "color": "#C8D4E3"
             },
             "line": {
              "color": "white"
             }
            },
            "type": "table"
           }
          ]
         },
         "layout": {
          "annotationdefaults": {
           "arrowcolor": "#2a3f5f",
           "arrowhead": 0,
           "arrowwidth": 1
          },
          "autotypenumbers": "strict",
          "coloraxis": {
           "colorbar": {
            "outlinewidth": 0,
            "ticks": ""
           }
          },
          "colorscale": {
           "diverging": [
            [
             0,
             "#8e0152"
            ],
            [
             0.1,
             "#c51b7d"
            ],
            [
             0.2,
             "#de77ae"
            ],
            [
             0.3,
             "#f1b6da"
            ],
            [
             0.4,
             "#fde0ef"
            ],
            [
             0.5,
             "#f7f7f7"
            ],
            [
             0.6,
             "#e6f5d0"
            ],
            [
             0.7,
             "#b8e186"
            ],
            [
             0.8,
             "#7fbc41"
            ],
            [
             0.9,
             "#4d9221"
            ],
            [
             1,
             "#276419"
            ]
           ],
           "sequential": [
            [
             0,
             "#0d0887"
            ],
            [
             0.1111111111111111,
             "#46039f"
            ],
            [
             0.2222222222222222,
             "#7201a8"
            ],
            [
             0.3333333333333333,
             "#9c179e"
            ],
            [
             0.4444444444444444,
             "#bd3786"
            ],
            [
             0.5555555555555556,
             "#d8576b"
            ],
            [
             0.6666666666666666,
             "#ed7953"
            ],
            [
             0.7777777777777778,
             "#fb9f3a"
            ],
            [
             0.8888888888888888,
             "#fdca26"
            ],
            [
             1,
             "#f0f921"
            ]
           ],
           "sequentialminus": [
            [
             0,
             "#0d0887"
            ],
            [
             0.1111111111111111,
             "#46039f"
            ],
            [
             0.2222222222222222,
             "#7201a8"
            ],
            [
             0.3333333333333333,
             "#9c179e"
            ],
            [
             0.4444444444444444,
             "#bd3786"
            ],
            [
             0.5555555555555556,
             "#d8576b"
            ],
            [
             0.6666666666666666,
             "#ed7953"
            ],
            [
             0.7777777777777778,
             "#fb9f3a"
            ],
            [
             0.8888888888888888,
             "#fdca26"
            ],
            [
             1,
             "#f0f921"
            ]
           ]
          },
          "colorway": [
           "#636efa",
           "#EF553B",
           "#00cc96",
           "#ab63fa",
           "#FFA15A",
           "#19d3f3",
           "#FF6692",
           "#B6E880",
           "#FF97FF",
           "#FECB52"
          ],
          "font": {
           "color": "#2a3f5f"
          },
          "geo": {
           "bgcolor": "white",
           "lakecolor": "white",
           "landcolor": "#E5ECF6",
           "showlakes": true,
           "showland": true,
           "subunitcolor": "white"
          },
          "hoverlabel": {
           "align": "left"
          },
          "hovermode": "closest",
          "mapbox": {
           "style": "light"
          },
          "paper_bgcolor": "white",
          "plot_bgcolor": "#E5ECF6",
          "polar": {
           "angularaxis": {
            "gridcolor": "white",
            "linecolor": "white",
            "ticks": ""
           },
           "bgcolor": "#E5ECF6",
           "radialaxis": {
            "gridcolor": "white",
            "linecolor": "white",
            "ticks": ""
           }
          },
          "scene": {
           "xaxis": {
            "backgroundcolor": "#E5ECF6",
            "gridcolor": "white",
            "gridwidth": 2,
            "linecolor": "white",
            "showbackground": true,
            "ticks": "",
            "zerolinecolor": "white"
           },
           "yaxis": {
            "backgroundcolor": "#E5ECF6",
            "gridcolor": "white",
            "gridwidth": 2,
            "linecolor": "white",
            "showbackground": true,
            "ticks": "",
            "zerolinecolor": "white"
           },
           "zaxis": {
            "backgroundcolor": "#E5ECF6",
            "gridcolor": "white",
            "gridwidth": 2,
            "linecolor": "white",
            "showbackground": true,
            "ticks": "",
            "zerolinecolor": "white"
           }
          },
          "shapedefaults": {
           "line": {
            "color": "#2a3f5f"
           }
          },
          "ternary": {
           "aaxis": {
            "gridcolor": "white",
            "linecolor": "white",
            "ticks": ""
           },
           "baxis": {
            "gridcolor": "white",
            "linecolor": "white",
            "ticks": ""
           },
           "bgcolor": "#E5ECF6",
           "caxis": {
            "gridcolor": "white",
            "linecolor": "white",
            "ticks": ""
           }
          },
          "title": {
           "x": 0.05
          },
          "xaxis": {
           "automargin": true,
           "gridcolor": "white",
           "linecolor": "white",
           "ticks": "",
           "title": {
            "standoff": 15
           },
           "zerolinecolor": "white",
           "zerolinewidth": 2
          },
          "yaxis": {
           "automargin": true,
           "gridcolor": "white",
           "linecolor": "white",
           "ticks": "",
           "title": {
            "standoff": 15
           },
           "zerolinecolor": "white",
           "zerolinewidth": 2
          }
         }
        },
        "title": {
         "text": "Visualizing data lifecycle of DeepdriveMD<br>edge:frequency (avg)",
         "x": 0.45,
         "xanchor": "center",
         "y": 0.9,
         "yanchor": "top"
        }
       }
      },
      "text/html": [
       "<div>                            <div id=\"886598af-8cc5-4454-85a7-63f4bdbeb849\" class=\"plotly-graph-div\" style=\"height:525px; width:100%;\"></div>            <script type=\"text/javascript\">                require([\"plotly\"], function(Plotly) {                    window.PLOTLYENV=window.PLOTLYENV || {};                                    if (document.getElementById(\"886598af-8cc5-4454-85a7-63f4bdbeb849\")) {                    Plotly.newPlot(                        \"886598af-8cc5-4454-85a7-63f4bdbeb849\",                        [{\"link\":{\"source\":[0,1,1,2,3,3,4,5,5,5,6,7,7,7,8,9,9,9,10,11,11,11,12,13,13,13,14,15,15,15,16,17,17,17,18,19,19,19,20,21,21,21,22,23,23,23,24,26,26,26,26,26,26,26,26,26,26],\"target\":[1,24,37,3,24,37,5,24,26,37,7,24,26,37,9,24,26,37,11,24,26,37,13,24,26,37,15,24,26,37,17,24,26,37,19,24,26,37,21,24,26,37,23,24,26,37,25,27,28,29,30,31,32,33,34,35,36],\"value\":[1.0,1.0,1.0,1.0,1.0,1.0,1.0,1.0,1.0,1.0,1.0,1.0,1.0,1.0,1.0,1.0,1.0,1.0,1.0,1.0,1.0,1.0,1.0,1.0,1.0,1.0,1.0,1.0,1.0,1.0,1.0,1.0,1.0,1.0,1.0,1.0,1.0,1.0,1.0,1.0,1.0,1.0,1.0,1.0,1.0,1.0,1.0,1.0,1.0,1.0,1.0,1.0,1.0,1.0,1.0,1.0,1.0]},\"node\":{\"color\":[\"red\",\"blue\",\"red\",\"blue\",\"red\",\"blue\",\"red\",\"blue\",\"red\",\"blue\",\"red\",\"blue\",\"red\",\"blue\",\"red\",\"blue\",\"red\",\"blue\",\"red\",\"blue\",\"red\",\"blue\",\"red\",\"blue\",\"red\",\"blue\",\"red\",\"blue\",\"blue\",\"blue\",\"blue\",\"blue\",\"blue\",\"blue\",\"blue\",\"blue\",\"blue\",\"red\"],\"label\":[\"run_openmm_py (ID0000001)\",\"stage0000_task0000.h5\",\"run_openmm_py (ID0000002)\",\"stage0000_task0001.h5\",\"run_openmm_py (ID0000003)\",\"stage0000_task0002.h5\",\"run_openmm_py (ID0000004)\",\"stage0000_task0003.h5\",\"run_openmm_py (ID0000005)\",\"stage0000_task0004.h5\",\"run_openmm_py (ID0000006)\",\"stage0000_task0005.h5\",\"run_openmm_py (ID0000007)\",\"stage0000_task0006.h5\",\"run_openmm_py (ID0000008)\",\"stage0000_task0007.h5\",\"run_openmm_py (ID0000009)\",\"stage0000_task0008.h5\",\"run_openmm_py (ID0000010)\",\"stage0000_task0009.h5\",\"run_openmm_py (ID0000011)\",\"stage0000_task0010.h5\",\"run_openmm_py (ID0000012)\",\"stage0000_task0011.h5\",\"aggregate_py (ID0000013)\",\"aggregated.h5\",\"train_py (ID0000014)\",\"embeddings-epoch-1-20230110-081347.h5\",\"embeddings-epoch-2-20230110-081642.h5\",\"embeddings-epoch-3-20230110-081932.h5\",\"embeddings-epoch-4-20230110-082222.h5\",\"embeddings-epoch-5-20230110-082513.h5\",\"embeddings-epoch-6-20230110-082931.h5\",\"embeddings-epoch-7-20230110-083220.h5\",\"embeddings-epoch-8-20230110-083511.h5\",\"embeddings-epoch-9-20230110-083801.h5\",\"embeddings-epoch-10-20230110-084052.h5\",\"lof_py (ID0000015)\"],\"x\":[],\"y\":[]},\"orientation\":\"h\",\"type\":\"sankey\"}],                        {\"template\":{\"data\":{\"histogram2dcontour\":[{\"type\":\"histogram2dcontour\",\"colorbar\":{\"outlinewidth\":0,\"ticks\":\"\"},\"colorscale\":[[0.0,\"#0d0887\"],[0.1111111111111111,\"#46039f\"],[0.2222222222222222,\"#7201a8\"],[0.3333333333333333,\"#9c179e\"],[0.4444444444444444,\"#bd3786\"],[0.5555555555555556,\"#d8576b\"],[0.6666666666666666,\"#ed7953\"],[0.7777777777777778,\"#fb9f3a\"],[0.8888888888888888,\"#fdca26\"],[1.0,\"#f0f921\"]]}],\"choropleth\":[{\"type\":\"choropleth\",\"colorbar\":{\"outlinewidth\":0,\"ticks\":\"\"}}],\"histogram2d\":[{\"type\":\"histogram2d\",\"colorbar\":{\"outlinewidth\":0,\"ticks\":\"\"},\"colorscale\":[[0.0,\"#0d0887\"],[0.1111111111111111,\"#46039f\"],[0.2222222222222222,\"#7201a8\"],[0.3333333333333333,\"#9c179e\"],[0.4444444444444444,\"#bd3786\"],[0.5555555555555556,\"#d8576b\"],[0.6666666666666666,\"#ed7953\"],[0.7777777777777778,\"#fb9f3a\"],[0.8888888888888888,\"#fdca26\"],[1.0,\"#f0f921\"]]}],\"heatmap\":[{\"type\":\"heatmap\",\"colorbar\":{\"outlinewidth\":0,\"ticks\":\"\"},\"colorscale\":[[0.0,\"#0d0887\"],[0.1111111111111111,\"#46039f\"],[0.2222222222222222,\"#7201a8\"],[0.3333333333333333,\"#9c179e\"],[0.4444444444444444,\"#bd3786\"],[0.5555555555555556,\"#d8576b\"],[0.6666666666666666,\"#ed7953\"],[0.7777777777777778,\"#fb9f3a\"],[0.8888888888888888,\"#fdca26\"],[1.0,\"#f0f921\"]]}],\"heatmapgl\":[{\"type\":\"heatmapgl\",\"colorbar\":{\"outlinewidth\":0,\"ticks\":\"\"},\"colorscale\":[[0.0,\"#0d0887\"],[0.1111111111111111,\"#46039f\"],[0.2222222222222222,\"#7201a8\"],[0.3333333333333333,\"#9c179e\"],[0.4444444444444444,\"#bd3786\"],[0.5555555555555556,\"#d8576b\"],[0.6666666666666666,\"#ed7953\"],[0.7777777777777778,\"#fb9f3a\"],[0.8888888888888888,\"#fdca26\"],[1.0,\"#f0f921\"]]}],\"contourcarpet\":[{\"type\":\"contourcarpet\",\"colorbar\":{\"outlinewidth\":0,\"ticks\":\"\"}}],\"contour\":[{\"type\":\"contour\",\"colorbar\":{\"outlinewidth\":0,\"ticks\":\"\"},\"colorscale\":[[0.0,\"#0d0887\"],[0.1111111111111111,\"#46039f\"],[0.2222222222222222,\"#7201a8\"],[0.3333333333333333,\"#9c179e\"],[0.4444444444444444,\"#bd3786\"],[0.5555555555555556,\"#d8576b\"],[0.6666666666666666,\"#ed7953\"],[0.7777777777777778,\"#fb9f3a\"],[0.8888888888888888,\"#fdca26\"],[1.0,\"#f0f921\"]]}],\"surface\":[{\"type\":\"surface\",\"colorbar\":{\"outlinewidth\":0,\"ticks\":\"\"},\"colorscale\":[[0.0,\"#0d0887\"],[0.1111111111111111,\"#46039f\"],[0.2222222222222222,\"#7201a8\"],[0.3333333333333333,\"#9c179e\"],[0.4444444444444444,\"#bd3786\"],[0.5555555555555556,\"#d8576b\"],[0.6666666666666666,\"#ed7953\"],[0.7777777777777778,\"#fb9f3a\"],[0.8888888888888888,\"#fdca26\"],[1.0,\"#f0f921\"]]}],\"mesh3d\":[{\"type\":\"mesh3d\",\"colorbar\":{\"outlinewidth\":0,\"ticks\":\"\"}}],\"scatter\":[{\"fillpattern\":{\"fillmode\":\"overlay\",\"size\":10,\"solidity\":0.2},\"type\":\"scatter\"}],\"parcoords\":[{\"type\":\"parcoords\",\"line\":{\"colorbar\":{\"outlinewidth\":0,\"ticks\":\"\"}}}],\"scatterpolargl\":[{\"type\":\"scatterpolargl\",\"marker\":{\"colorbar\":{\"outlinewidth\":0,\"ticks\":\"\"}}}],\"bar\":[{\"error_x\":{\"color\":\"#2a3f5f\"},\"error_y\":{\"color\":\"#2a3f5f\"},\"marker\":{\"line\":{\"color\":\"#E5ECF6\",\"width\":0.5},\"pattern\":{\"fillmode\":\"overlay\",\"size\":10,\"solidity\":0.2}},\"type\":\"bar\"}],\"scattergeo\":[{\"type\":\"scattergeo\",\"marker\":{\"colorbar\":{\"outlinewidth\":0,\"ticks\":\"\"}}}],\"scatterpolar\":[{\"type\":\"scatterpolar\",\"marker\":{\"colorbar\":{\"outlinewidth\":0,\"ticks\":\"\"}}}],\"histogram\":[{\"marker\":{\"pattern\":{\"fillmode\":\"overlay\",\"size\":10,\"solidity\":0.2}},\"type\":\"histogram\"}],\"scattergl\":[{\"type\":\"scattergl\",\"marker\":{\"colorbar\":{\"outlinewidth\":0,\"ticks\":\"\"}}}],\"scatter3d\":[{\"type\":\"scatter3d\",\"line\":{\"colorbar\":{\"outlinewidth\":0,\"ticks\":\"\"}},\"marker\":{\"colorbar\":{\"outlinewidth\":0,\"ticks\":\"\"}}}],\"scattermapbox\":[{\"type\":\"scattermapbox\",\"marker\":{\"colorbar\":{\"outlinewidth\":0,\"ticks\":\"\"}}}],\"scatterternary\":[{\"type\":\"scatterternary\",\"marker\":{\"colorbar\":{\"outlinewidth\":0,\"ticks\":\"\"}}}],\"scattercarpet\":[{\"type\":\"scattercarpet\",\"marker\":{\"colorbar\":{\"outlinewidth\":0,\"ticks\":\"\"}}}],\"carpet\":[{\"aaxis\":{\"endlinecolor\":\"#2a3f5f\",\"gridcolor\":\"white\",\"linecolor\":\"white\",\"minorgridcolor\":\"white\",\"startlinecolor\":\"#2a3f5f\"},\"baxis\":{\"endlinecolor\":\"#2a3f5f\",\"gridcolor\":\"white\",\"linecolor\":\"white\",\"minorgridcolor\":\"white\",\"startlinecolor\":\"#2a3f5f\"},\"type\":\"carpet\"}],\"table\":[{\"cells\":{\"fill\":{\"color\":\"#EBF0F8\"},\"line\":{\"color\":\"white\"}},\"header\":{\"fill\":{\"color\":\"#C8D4E3\"},\"line\":{\"color\":\"white\"}},\"type\":\"table\"}],\"barpolar\":[{\"marker\":{\"line\":{\"color\":\"#E5ECF6\",\"width\":0.5},\"pattern\":{\"fillmode\":\"overlay\",\"size\":10,\"solidity\":0.2}},\"type\":\"barpolar\"}],\"pie\":[{\"automargin\":true,\"type\":\"pie\"}]},\"layout\":{\"autotypenumbers\":\"strict\",\"colorway\":[\"#636efa\",\"#EF553B\",\"#00cc96\",\"#ab63fa\",\"#FFA15A\",\"#19d3f3\",\"#FF6692\",\"#B6E880\",\"#FF97FF\",\"#FECB52\"],\"font\":{\"color\":\"#2a3f5f\"},\"hovermode\":\"closest\",\"hoverlabel\":{\"align\":\"left\"},\"paper_bgcolor\":\"white\",\"plot_bgcolor\":\"#E5ECF6\",\"polar\":{\"bgcolor\":\"#E5ECF6\",\"angularaxis\":{\"gridcolor\":\"white\",\"linecolor\":\"white\",\"ticks\":\"\"},\"radialaxis\":{\"gridcolor\":\"white\",\"linecolor\":\"white\",\"ticks\":\"\"}},\"ternary\":{\"bgcolor\":\"#E5ECF6\",\"aaxis\":{\"gridcolor\":\"white\",\"linecolor\":\"white\",\"ticks\":\"\"},\"baxis\":{\"gridcolor\":\"white\",\"linecolor\":\"white\",\"ticks\":\"\"},\"caxis\":{\"gridcolor\":\"white\",\"linecolor\":\"white\",\"ticks\":\"\"}},\"coloraxis\":{\"colorbar\":{\"outlinewidth\":0,\"ticks\":\"\"}},\"colorscale\":{\"sequential\":[[0.0,\"#0d0887\"],[0.1111111111111111,\"#46039f\"],[0.2222222222222222,\"#7201a8\"],[0.3333333333333333,\"#9c179e\"],[0.4444444444444444,\"#bd3786\"],[0.5555555555555556,\"#d8576b\"],[0.6666666666666666,\"#ed7953\"],[0.7777777777777778,\"#fb9f3a\"],[0.8888888888888888,\"#fdca26\"],[1.0,\"#f0f921\"]],\"sequentialminus\":[[0.0,\"#0d0887\"],[0.1111111111111111,\"#46039f\"],[0.2222222222222222,\"#7201a8\"],[0.3333333333333333,\"#9c179e\"],[0.4444444444444444,\"#bd3786\"],[0.5555555555555556,\"#d8576b\"],[0.6666666666666666,\"#ed7953\"],[0.7777777777777778,\"#fb9f3a\"],[0.8888888888888888,\"#fdca26\"],[1.0,\"#f0f921\"]],\"diverging\":[[0,\"#8e0152\"],[0.1,\"#c51b7d\"],[0.2,\"#de77ae\"],[0.3,\"#f1b6da\"],[0.4,\"#fde0ef\"],[0.5,\"#f7f7f7\"],[0.6,\"#e6f5d0\"],[0.7,\"#b8e186\"],[0.8,\"#7fbc41\"],[0.9,\"#4d9221\"],[1,\"#276419\"]]},\"xaxis\":{\"gridcolor\":\"white\",\"linecolor\":\"white\",\"ticks\":\"\",\"title\":{\"standoff\":15},\"zerolinecolor\":\"white\",\"automargin\":true,\"zerolinewidth\":2},\"yaxis\":{\"gridcolor\":\"white\",\"linecolor\":\"white\",\"ticks\":\"\",\"title\":{\"standoff\":15},\"zerolinecolor\":\"white\",\"automargin\":true,\"zerolinewidth\":2},\"scene\":{\"xaxis\":{\"backgroundcolor\":\"#E5ECF6\",\"gridcolor\":\"white\",\"linecolor\":\"white\",\"showbackground\":true,\"ticks\":\"\",\"zerolinecolor\":\"white\",\"gridwidth\":2},\"yaxis\":{\"backgroundcolor\":\"#E5ECF6\",\"gridcolor\":\"white\",\"linecolor\":\"white\",\"showbackground\":true,\"ticks\":\"\",\"zerolinecolor\":\"white\",\"gridwidth\":2},\"zaxis\":{\"backgroundcolor\":\"#E5ECF6\",\"gridcolor\":\"white\",\"linecolor\":\"white\",\"showbackground\":true,\"ticks\":\"\",\"zerolinecolor\":\"white\",\"gridwidth\":2}},\"shapedefaults\":{\"line\":{\"color\":\"#2a3f5f\"}},\"annotationdefaults\":{\"arrowcolor\":\"#2a3f5f\",\"arrowhead\":0,\"arrowwidth\":1},\"geo\":{\"bgcolor\":\"white\",\"landcolor\":\"#E5ECF6\",\"subunitcolor\":\"white\",\"showland\":true,\"showlakes\":true,\"lakecolor\":\"white\"},\"title\":{\"x\":0.05},\"mapbox\":{\"style\":\"light\"}}},\"title\":{\"text\":\"Visualizing data lifecycle of DeepdriveMD<br>edge:frequency (avg)\",\"y\":0.9,\"x\":0.45,\"xanchor\":\"center\",\"yanchor\":\"top\"}},                        {\"responsive\": true}                    ).then(function(){\n",
       "                            \n",
       "var gd = document.getElementById('886598af-8cc5-4454-85a7-63f4bdbeb849');\n",
       "var x = new MutationObserver(function (mutations, observer) {{\n",
       "        var display = window.getComputedStyle(gd).display;\n",
       "        if (!display || display === 'none') {{\n",
       "            console.log([gd, 'removed!']);\n",
       "            Plotly.purge(gd);\n",
       "            observer.disconnect();\n",
       "        }}\n",
       "}});\n",
       "\n",
       "// Listen for the removal of the full notebook cells\n",
       "var notebookContainer = gd.closest('#notebook-container');\n",
       "if (notebookContainer) {{\n",
       "    x.observe(notebookContainer, {childList: true});\n",
       "}}\n",
       "\n",
       "// Listen for the clearing of the current output cell\n",
       "var outputEl = gd.closest('.output');\n",
       "if (outputEl) {{\n",
       "    x.observe(outputEl, {childList: true});\n",
       "}}\n",
       "\n",
       "                        })                };                });            </script>        </div>"
      ]
     },
     "metadata": {},
     "output_type": "display_data"
    }
   ],
   "source": [
    "node_dict_for_sankey_, node_ref_ = get_nodes_for_sankey(G_) \n",
    "link_dict_for_sankey_ = get_links_for_sankey(G_, node_ref_)\n",
    "fig = go.Figure(go.Sankey(\n",
    "            node = node_dict_for_sankey_,\n",
    "            link = link_dict_for_sankey_, orientation='h'),)\n",
    "fig.update_layout(title={'text':'Visualizing data lifecycle of DeepdriveMD' + \\\n",
    "                         '<br>' + \\\n",
    "                         'edge:' + metric_frequency_avg \n",
    "                         ,\n",
    "                         'y':0.9,\n",
    "                         'x':0.45,\n",
    "                         'xanchor': 'center',\n",
    "                         'yanchor': 'top'})\n",
    "fig.show()"
   ]
  },
  {
   "cell_type": "code",
   "execution_count": 107,
   "id": "72d0db3b",
   "metadata": {
    "scrolled": false
   },
   "outputs": [
    {
     "data": {
      "application/vnd.plotly.v1+json": {
       "config": {
        "plotlyServerURL": "https://plot.ly"
       },
       "data": [
        {
         "link": {
          "source": [
           0,
           1,
           1,
           2,
           3,
           3,
           4,
           5,
           5,
           5,
           6,
           7,
           7,
           7,
           8,
           9,
           9,
           9,
           10,
           11,
           11,
           11,
           12,
           13,
           13,
           13,
           14,
           15,
           15,
           15,
           16,
           17,
           17,
           17,
           18,
           19,
           19,
           19,
           20,
           21,
           21,
           21,
           22,
           23,
           23,
           23,
           24,
           26,
           26,
           26,
           26,
           26,
           26,
           26,
           26,
           26,
           26
          ],
          "target": [
           1,
           24,
           37,
           3,
           24,
           37,
           5,
           24,
           26,
           37,
           7,
           24,
           26,
           37,
           9,
           24,
           26,
           37,
           11,
           24,
           26,
           37,
           13,
           24,
           26,
           37,
           15,
           24,
           26,
           37,
           17,
           24,
           26,
           37,
           19,
           24,
           26,
           37,
           21,
           24,
           26,
           37,
           23,
           24,
           26,
           37,
           25,
           27,
           28,
           29,
           30,
           31,
           32,
           33,
           34,
           35,
           36
          ],
          "value": [
           210,
           45325976,
           37549888,
           210,
           45756056,
           37545840,
           210,
           45342360,
           169768376,
           37545840,
           210,
           44973720,
           169899732,
           37545840,
           210,
           45293208,
           169966640,
           37545840,
           210,
           45330072,
           169400028,
           37545840,
           210,
           45338264,
           169677436,
           37545840,
           210,
           45325976,
           169279588,
           37545840,
           210,
           45117080,
           169633848,
           37545840,
           210,
           45338264,
           169614148,
           37545840,
           210,
           45502104,
           169725580,
           37545840,
           210,
           44412568,
           169152624,
           37545840,
           503656827,
           140376,
           140376,
           140376,
           140376,
           140376,
           140376,
           140376,
           140376,
           140376,
           140376
          ]
         },
         "node": {
          "color": [
           "red",
           "blue",
           "red",
           "blue",
           "red",
           "blue",
           "red",
           "blue",
           "red",
           "blue",
           "red",
           "blue",
           "red",
           "blue",
           "red",
           "blue",
           "red",
           "blue",
           "red",
           "blue",
           "red",
           "blue",
           "red",
           "blue",
           "red",
           "blue",
           "red",
           "blue",
           "blue",
           "blue",
           "blue",
           "blue",
           "blue",
           "blue",
           "blue",
           "blue",
           "blue",
           "red"
          ],
          "label": [
           "run_openmm_py (ID0000001)",
           "stage0000_task0000.h5",
           "run_openmm_py (ID0000002)",
           "stage0000_task0001.h5",
           "run_openmm_py (ID0000003)",
           "stage0000_task0002.h5",
           "run_openmm_py (ID0000004)",
           "stage0000_task0003.h5",
           "run_openmm_py (ID0000005)",
           "stage0000_task0004.h5",
           "run_openmm_py (ID0000006)",
           "stage0000_task0005.h5",
           "run_openmm_py (ID0000007)",
           "stage0000_task0006.h5",
           "run_openmm_py (ID0000008)",
           "stage0000_task0007.h5",
           "run_openmm_py (ID0000009)",
           "stage0000_task0008.h5",
           "run_openmm_py (ID0000010)",
           "stage0000_task0009.h5",
           "run_openmm_py (ID0000011)",
           "stage0000_task0010.h5",
           "run_openmm_py (ID0000012)",
           "stage0000_task0011.h5",
           "aggregate_py (ID0000013)",
           "aggregated.h5",
           "train_py (ID0000014)",
           "embeddings-epoch-1-20230110-081347.h5",
           "embeddings-epoch-2-20230110-081642.h5",
           "embeddings-epoch-3-20230110-081932.h5",
           "embeddings-epoch-4-20230110-082222.h5",
           "embeddings-epoch-5-20230110-082513.h5",
           "embeddings-epoch-6-20230110-082931.h5",
           "embeddings-epoch-7-20230110-083220.h5",
           "embeddings-epoch-8-20230110-083511.h5",
           "embeddings-epoch-9-20230110-083801.h5",
           "embeddings-epoch-10-20230110-084052.h5",
           "lof_py (ID0000015)"
          ],
          "x": [],
          "y": []
         },
         "orientation": "h",
         "type": "sankey"
        }
       ],
       "layout": {
        "template": {
         "data": {
          "bar": [
           {
            "error_x": {
             "color": "#2a3f5f"
            },
            "error_y": {
             "color": "#2a3f5f"
            },
            "marker": {
             "line": {
              "color": "#E5ECF6",
              "width": 0.5
             },
             "pattern": {
              "fillmode": "overlay",
              "size": 10,
              "solidity": 0.2
             }
            },
            "type": "bar"
           }
          ],
          "barpolar": [
           {
            "marker": {
             "line": {
              "color": "#E5ECF6",
              "width": 0.5
             },
             "pattern": {
              "fillmode": "overlay",
              "size": 10,
              "solidity": 0.2
             }
            },
            "type": "barpolar"
           }
          ],
          "carpet": [
           {
            "aaxis": {
             "endlinecolor": "#2a3f5f",
             "gridcolor": "white",
             "linecolor": "white",
             "minorgridcolor": "white",
             "startlinecolor": "#2a3f5f"
            },
            "baxis": {
             "endlinecolor": "#2a3f5f",
             "gridcolor": "white",
             "linecolor": "white",
             "minorgridcolor": "white",
             "startlinecolor": "#2a3f5f"
            },
            "type": "carpet"
           }
          ],
          "choropleth": [
           {
            "colorbar": {
             "outlinewidth": 0,
             "ticks": ""
            },
            "type": "choropleth"
           }
          ],
          "contour": [
           {
            "colorbar": {
             "outlinewidth": 0,
             "ticks": ""
            },
            "colorscale": [
             [
              0,
              "#0d0887"
             ],
             [
              0.1111111111111111,
              "#46039f"
             ],
             [
              0.2222222222222222,
              "#7201a8"
             ],
             [
              0.3333333333333333,
              "#9c179e"
             ],
             [
              0.4444444444444444,
              "#bd3786"
             ],
             [
              0.5555555555555556,
              "#d8576b"
             ],
             [
              0.6666666666666666,
              "#ed7953"
             ],
             [
              0.7777777777777778,
              "#fb9f3a"
             ],
             [
              0.8888888888888888,
              "#fdca26"
             ],
             [
              1,
              "#f0f921"
             ]
            ],
            "type": "contour"
           }
          ],
          "contourcarpet": [
           {
            "colorbar": {
             "outlinewidth": 0,
             "ticks": ""
            },
            "type": "contourcarpet"
           }
          ],
          "heatmap": [
           {
            "colorbar": {
             "outlinewidth": 0,
             "ticks": ""
            },
            "colorscale": [
             [
              0,
              "#0d0887"
             ],
             [
              0.1111111111111111,
              "#46039f"
             ],
             [
              0.2222222222222222,
              "#7201a8"
             ],
             [
              0.3333333333333333,
              "#9c179e"
             ],
             [
              0.4444444444444444,
              "#bd3786"
             ],
             [
              0.5555555555555556,
              "#d8576b"
             ],
             [
              0.6666666666666666,
              "#ed7953"
             ],
             [
              0.7777777777777778,
              "#fb9f3a"
             ],
             [
              0.8888888888888888,
              "#fdca26"
             ],
             [
              1,
              "#f0f921"
             ]
            ],
            "type": "heatmap"
           }
          ],
          "heatmapgl": [
           {
            "colorbar": {
             "outlinewidth": 0,
             "ticks": ""
            },
            "colorscale": [
             [
              0,
              "#0d0887"
             ],
             [
              0.1111111111111111,
              "#46039f"
             ],
             [
              0.2222222222222222,
              "#7201a8"
             ],
             [
              0.3333333333333333,
              "#9c179e"
             ],
             [
              0.4444444444444444,
              "#bd3786"
             ],
             [
              0.5555555555555556,
              "#d8576b"
             ],
             [
              0.6666666666666666,
              "#ed7953"
             ],
             [
              0.7777777777777778,
              "#fb9f3a"
             ],
             [
              0.8888888888888888,
              "#fdca26"
             ],
             [
              1,
              "#f0f921"
             ]
            ],
            "type": "heatmapgl"
           }
          ],
          "histogram": [
           {
            "marker": {
             "pattern": {
              "fillmode": "overlay",
              "size": 10,
              "solidity": 0.2
             }
            },
            "type": "histogram"
           }
          ],
          "histogram2d": [
           {
            "colorbar": {
             "outlinewidth": 0,
             "ticks": ""
            },
            "colorscale": [
             [
              0,
              "#0d0887"
             ],
             [
              0.1111111111111111,
              "#46039f"
             ],
             [
              0.2222222222222222,
              "#7201a8"
             ],
             [
              0.3333333333333333,
              "#9c179e"
             ],
             [
              0.4444444444444444,
              "#bd3786"
             ],
             [
              0.5555555555555556,
              "#d8576b"
             ],
             [
              0.6666666666666666,
              "#ed7953"
             ],
             [
              0.7777777777777778,
              "#fb9f3a"
             ],
             [
              0.8888888888888888,
              "#fdca26"
             ],
             [
              1,
              "#f0f921"
             ]
            ],
            "type": "histogram2d"
           }
          ],
          "histogram2dcontour": [
           {
            "colorbar": {
             "outlinewidth": 0,
             "ticks": ""
            },
            "colorscale": [
             [
              0,
              "#0d0887"
             ],
             [
              0.1111111111111111,
              "#46039f"
             ],
             [
              0.2222222222222222,
              "#7201a8"
             ],
             [
              0.3333333333333333,
              "#9c179e"
             ],
             [
              0.4444444444444444,
              "#bd3786"
             ],
             [
              0.5555555555555556,
              "#d8576b"
             ],
             [
              0.6666666666666666,
              "#ed7953"
             ],
             [
              0.7777777777777778,
              "#fb9f3a"
             ],
             [
              0.8888888888888888,
              "#fdca26"
             ],
             [
              1,
              "#f0f921"
             ]
            ],
            "type": "histogram2dcontour"
           }
          ],
          "mesh3d": [
           {
            "colorbar": {
             "outlinewidth": 0,
             "ticks": ""
            },
            "type": "mesh3d"
           }
          ],
          "parcoords": [
           {
            "line": {
             "colorbar": {
              "outlinewidth": 0,
              "ticks": ""
             }
            },
            "type": "parcoords"
           }
          ],
          "pie": [
           {
            "automargin": true,
            "type": "pie"
           }
          ],
          "scatter": [
           {
            "fillpattern": {
             "fillmode": "overlay",
             "size": 10,
             "solidity": 0.2
            },
            "type": "scatter"
           }
          ],
          "scatter3d": [
           {
            "line": {
             "colorbar": {
              "outlinewidth": 0,
              "ticks": ""
             }
            },
            "marker": {
             "colorbar": {
              "outlinewidth": 0,
              "ticks": ""
             }
            },
            "type": "scatter3d"
           }
          ],
          "scattercarpet": [
           {
            "marker": {
             "colorbar": {
              "outlinewidth": 0,
              "ticks": ""
             }
            },
            "type": "scattercarpet"
           }
          ],
          "scattergeo": [
           {
            "marker": {
             "colorbar": {
              "outlinewidth": 0,
              "ticks": ""
             }
            },
            "type": "scattergeo"
           }
          ],
          "scattergl": [
           {
            "marker": {
             "colorbar": {
              "outlinewidth": 0,
              "ticks": ""
             }
            },
            "type": "scattergl"
           }
          ],
          "scattermapbox": [
           {
            "marker": {
             "colorbar": {
              "outlinewidth": 0,
              "ticks": ""
             }
            },
            "type": "scattermapbox"
           }
          ],
          "scatterpolar": [
           {
            "marker": {
             "colorbar": {
              "outlinewidth": 0,
              "ticks": ""
             }
            },
            "type": "scatterpolar"
           }
          ],
          "scatterpolargl": [
           {
            "marker": {
             "colorbar": {
              "outlinewidth": 0,
              "ticks": ""
             }
            },
            "type": "scatterpolargl"
           }
          ],
          "scatterternary": [
           {
            "marker": {
             "colorbar": {
              "outlinewidth": 0,
              "ticks": ""
             }
            },
            "type": "scatterternary"
           }
          ],
          "surface": [
           {
            "colorbar": {
             "outlinewidth": 0,
             "ticks": ""
            },
            "colorscale": [
             [
              0,
              "#0d0887"
             ],
             [
              0.1111111111111111,
              "#46039f"
             ],
             [
              0.2222222222222222,
              "#7201a8"
             ],
             [
              0.3333333333333333,
              "#9c179e"
             ],
             [
              0.4444444444444444,
              "#bd3786"
             ],
             [
              0.5555555555555556,
              "#d8576b"
             ],
             [
              0.6666666666666666,
              "#ed7953"
             ],
             [
              0.7777777777777778,
              "#fb9f3a"
             ],
             [
              0.8888888888888888,
              "#fdca26"
             ],
             [
              1,
              "#f0f921"
             ]
            ],
            "type": "surface"
           }
          ],
          "table": [
           {
            "cells": {
             "fill": {
              "color": "#EBF0F8"
             },
             "line": {
              "color": "white"
             }
            },
            "header": {
             "fill": {
              "color": "#C8D4E3"
             },
             "line": {
              "color": "white"
             }
            },
            "type": "table"
           }
          ]
         },
         "layout": {
          "annotationdefaults": {
           "arrowcolor": "#2a3f5f",
           "arrowhead": 0,
           "arrowwidth": 1
          },
          "autotypenumbers": "strict",
          "coloraxis": {
           "colorbar": {
            "outlinewidth": 0,
            "ticks": ""
           }
          },
          "colorscale": {
           "diverging": [
            [
             0,
             "#8e0152"
            ],
            [
             0.1,
             "#c51b7d"
            ],
            [
             0.2,
             "#de77ae"
            ],
            [
             0.3,
             "#f1b6da"
            ],
            [
             0.4,
             "#fde0ef"
            ],
            [
             0.5,
             "#f7f7f7"
            ],
            [
             0.6,
             "#e6f5d0"
            ],
            [
             0.7,
             "#b8e186"
            ],
            [
             0.8,
             "#7fbc41"
            ],
            [
             0.9,
             "#4d9221"
            ],
            [
             1,
             "#276419"
            ]
           ],
           "sequential": [
            [
             0,
             "#0d0887"
            ],
            [
             0.1111111111111111,
             "#46039f"
            ],
            [
             0.2222222222222222,
             "#7201a8"
            ],
            [
             0.3333333333333333,
             "#9c179e"
            ],
            [
             0.4444444444444444,
             "#bd3786"
            ],
            [
             0.5555555555555556,
             "#d8576b"
            ],
            [
             0.6666666666666666,
             "#ed7953"
            ],
            [
             0.7777777777777778,
             "#fb9f3a"
            ],
            [
             0.8888888888888888,
             "#fdca26"
            ],
            [
             1,
             "#f0f921"
            ]
           ],
           "sequentialminus": [
            [
             0,
             "#0d0887"
            ],
            [
             0.1111111111111111,
             "#46039f"
            ],
            [
             0.2222222222222222,
             "#7201a8"
            ],
            [
             0.3333333333333333,
             "#9c179e"
            ],
            [
             0.4444444444444444,
             "#bd3786"
            ],
            [
             0.5555555555555556,
             "#d8576b"
            ],
            [
             0.6666666666666666,
             "#ed7953"
            ],
            [
             0.7777777777777778,
             "#fb9f3a"
            ],
            [
             0.8888888888888888,
             "#fdca26"
            ],
            [
             1,
             "#f0f921"
            ]
           ]
          },
          "colorway": [
           "#636efa",
           "#EF553B",
           "#00cc96",
           "#ab63fa",
           "#FFA15A",
           "#19d3f3",
           "#FF6692",
           "#B6E880",
           "#FF97FF",
           "#FECB52"
          ],
          "font": {
           "color": "#2a3f5f"
          },
          "geo": {
           "bgcolor": "white",
           "lakecolor": "white",
           "landcolor": "#E5ECF6",
           "showlakes": true,
           "showland": true,
           "subunitcolor": "white"
          },
          "hoverlabel": {
           "align": "left"
          },
          "hovermode": "closest",
          "mapbox": {
           "style": "light"
          },
          "paper_bgcolor": "white",
          "plot_bgcolor": "#E5ECF6",
          "polar": {
           "angularaxis": {
            "gridcolor": "white",
            "linecolor": "white",
            "ticks": ""
           },
           "bgcolor": "#E5ECF6",
           "radialaxis": {
            "gridcolor": "white",
            "linecolor": "white",
            "ticks": ""
           }
          },
          "scene": {
           "xaxis": {
            "backgroundcolor": "#E5ECF6",
            "gridcolor": "white",
            "gridwidth": 2,
            "linecolor": "white",
            "showbackground": true,
            "ticks": "",
            "zerolinecolor": "white"
           },
           "yaxis": {
            "backgroundcolor": "#E5ECF6",
            "gridcolor": "white",
            "gridwidth": 2,
            "linecolor": "white",
            "showbackground": true,
            "ticks": "",
            "zerolinecolor": "white"
           },
           "zaxis": {
            "backgroundcolor": "#E5ECF6",
            "gridcolor": "white",
            "gridwidth": 2,
            "linecolor": "white",
            "showbackground": true,
            "ticks": "",
            "zerolinecolor": "white"
           }
          },
          "shapedefaults": {
           "line": {
            "color": "#2a3f5f"
           }
          },
          "ternary": {
           "aaxis": {
            "gridcolor": "white",
            "linecolor": "white",
            "ticks": ""
           },
           "baxis": {
            "gridcolor": "white",
            "linecolor": "white",
            "ticks": ""
           },
           "bgcolor": "#E5ECF6",
           "caxis": {
            "gridcolor": "white",
            "linecolor": "white",
            "ticks": ""
           }
          },
          "title": {
           "x": 0.05
          },
          "xaxis": {
           "automargin": true,
           "gridcolor": "white",
           "linecolor": "white",
           "ticks": "",
           "title": {
            "standoff": 15
           },
           "zerolinecolor": "white",
           "zerolinewidth": 2
          },
          "yaxis": {
           "automargin": true,
           "gridcolor": "white",
           "linecolor": "white",
           "ticks": "",
           "title": {
            "standoff": 15
           },
           "zerolinecolor": "white",
           "zerolinewidth": 2
          }
         }
        },
        "title": {
         "text": "Visualizing data lifecycle of DeepdriveMD<br>edge:weighted_access_size (sum)",
         "x": 0.45,
         "xanchor": "center",
         "y": 0.9,
         "yanchor": "top"
        }
       }
      },
      "text/html": [
       "<div>                            <div id=\"b8750e6b-d7a7-4591-859c-b2ce3cbb95f1\" class=\"plotly-graph-div\" style=\"height:525px; width:100%;\"></div>            <script type=\"text/javascript\">                require([\"plotly\"], function(Plotly) {                    window.PLOTLYENV=window.PLOTLYENV || {};                                    if (document.getElementById(\"b8750e6b-d7a7-4591-859c-b2ce3cbb95f1\")) {                    Plotly.newPlot(                        \"b8750e6b-d7a7-4591-859c-b2ce3cbb95f1\",                        [{\"link\":{\"source\":[0,1,1,2,3,3,4,5,5,5,6,7,7,7,8,9,9,9,10,11,11,11,12,13,13,13,14,15,15,15,16,17,17,17,18,19,19,19,20,21,21,21,22,23,23,23,24,26,26,26,26,26,26,26,26,26,26],\"target\":[1,24,37,3,24,37,5,24,26,37,7,24,26,37,9,24,26,37,11,24,26,37,13,24,26,37,15,24,26,37,17,24,26,37,19,24,26,37,21,24,26,37,23,24,26,37,25,27,28,29,30,31,32,33,34,35,36],\"value\":[210,45325976,37549888,210,45756056,37545840,210,45342360,169768376,37545840,210,44973720,169899732,37545840,210,45293208,169966640,37545840,210,45330072,169400028,37545840,210,45338264,169677436,37545840,210,45325976,169279588,37545840,210,45117080,169633848,37545840,210,45338264,169614148,37545840,210,45502104,169725580,37545840,210,44412568,169152624,37545840,503656827,140376,140376,140376,140376,140376,140376,140376,140376,140376,140376]},\"node\":{\"color\":[\"red\",\"blue\",\"red\",\"blue\",\"red\",\"blue\",\"red\",\"blue\",\"red\",\"blue\",\"red\",\"blue\",\"red\",\"blue\",\"red\",\"blue\",\"red\",\"blue\",\"red\",\"blue\",\"red\",\"blue\",\"red\",\"blue\",\"red\",\"blue\",\"red\",\"blue\",\"blue\",\"blue\",\"blue\",\"blue\",\"blue\",\"blue\",\"blue\",\"blue\",\"blue\",\"red\"],\"label\":[\"run_openmm_py (ID0000001)\",\"stage0000_task0000.h5\",\"run_openmm_py (ID0000002)\",\"stage0000_task0001.h5\",\"run_openmm_py (ID0000003)\",\"stage0000_task0002.h5\",\"run_openmm_py (ID0000004)\",\"stage0000_task0003.h5\",\"run_openmm_py (ID0000005)\",\"stage0000_task0004.h5\",\"run_openmm_py (ID0000006)\",\"stage0000_task0005.h5\",\"run_openmm_py (ID0000007)\",\"stage0000_task0006.h5\",\"run_openmm_py (ID0000008)\",\"stage0000_task0007.h5\",\"run_openmm_py (ID0000009)\",\"stage0000_task0008.h5\",\"run_openmm_py (ID0000010)\",\"stage0000_task0009.h5\",\"run_openmm_py (ID0000011)\",\"stage0000_task0010.h5\",\"run_openmm_py (ID0000012)\",\"stage0000_task0011.h5\",\"aggregate_py (ID0000013)\",\"aggregated.h5\",\"train_py (ID0000014)\",\"embeddings-epoch-1-20230110-081347.h5\",\"embeddings-epoch-2-20230110-081642.h5\",\"embeddings-epoch-3-20230110-081932.h5\",\"embeddings-epoch-4-20230110-082222.h5\",\"embeddings-epoch-5-20230110-082513.h5\",\"embeddings-epoch-6-20230110-082931.h5\",\"embeddings-epoch-7-20230110-083220.h5\",\"embeddings-epoch-8-20230110-083511.h5\",\"embeddings-epoch-9-20230110-083801.h5\",\"embeddings-epoch-10-20230110-084052.h5\",\"lof_py (ID0000015)\"],\"x\":[],\"y\":[]},\"orientation\":\"h\",\"type\":\"sankey\"}],                        {\"template\":{\"data\":{\"histogram2dcontour\":[{\"type\":\"histogram2dcontour\",\"colorbar\":{\"outlinewidth\":0,\"ticks\":\"\"},\"colorscale\":[[0.0,\"#0d0887\"],[0.1111111111111111,\"#46039f\"],[0.2222222222222222,\"#7201a8\"],[0.3333333333333333,\"#9c179e\"],[0.4444444444444444,\"#bd3786\"],[0.5555555555555556,\"#d8576b\"],[0.6666666666666666,\"#ed7953\"],[0.7777777777777778,\"#fb9f3a\"],[0.8888888888888888,\"#fdca26\"],[1.0,\"#f0f921\"]]}],\"choropleth\":[{\"type\":\"choropleth\",\"colorbar\":{\"outlinewidth\":0,\"ticks\":\"\"}}],\"histogram2d\":[{\"type\":\"histogram2d\",\"colorbar\":{\"outlinewidth\":0,\"ticks\":\"\"},\"colorscale\":[[0.0,\"#0d0887\"],[0.1111111111111111,\"#46039f\"],[0.2222222222222222,\"#7201a8\"],[0.3333333333333333,\"#9c179e\"],[0.4444444444444444,\"#bd3786\"],[0.5555555555555556,\"#d8576b\"],[0.6666666666666666,\"#ed7953\"],[0.7777777777777778,\"#fb9f3a\"],[0.8888888888888888,\"#fdca26\"],[1.0,\"#f0f921\"]]}],\"heatmap\":[{\"type\":\"heatmap\",\"colorbar\":{\"outlinewidth\":0,\"ticks\":\"\"},\"colorscale\":[[0.0,\"#0d0887\"],[0.1111111111111111,\"#46039f\"],[0.2222222222222222,\"#7201a8\"],[0.3333333333333333,\"#9c179e\"],[0.4444444444444444,\"#bd3786\"],[0.5555555555555556,\"#d8576b\"],[0.6666666666666666,\"#ed7953\"],[0.7777777777777778,\"#fb9f3a\"],[0.8888888888888888,\"#fdca26\"],[1.0,\"#f0f921\"]]}],\"heatmapgl\":[{\"type\":\"heatmapgl\",\"colorbar\":{\"outlinewidth\":0,\"ticks\":\"\"},\"colorscale\":[[0.0,\"#0d0887\"],[0.1111111111111111,\"#46039f\"],[0.2222222222222222,\"#7201a8\"],[0.3333333333333333,\"#9c179e\"],[0.4444444444444444,\"#bd3786\"],[0.5555555555555556,\"#d8576b\"],[0.6666666666666666,\"#ed7953\"],[0.7777777777777778,\"#fb9f3a\"],[0.8888888888888888,\"#fdca26\"],[1.0,\"#f0f921\"]]}],\"contourcarpet\":[{\"type\":\"contourcarpet\",\"colorbar\":{\"outlinewidth\":0,\"ticks\":\"\"}}],\"contour\":[{\"type\":\"contour\",\"colorbar\":{\"outlinewidth\":0,\"ticks\":\"\"},\"colorscale\":[[0.0,\"#0d0887\"],[0.1111111111111111,\"#46039f\"],[0.2222222222222222,\"#7201a8\"],[0.3333333333333333,\"#9c179e\"],[0.4444444444444444,\"#bd3786\"],[0.5555555555555556,\"#d8576b\"],[0.6666666666666666,\"#ed7953\"],[0.7777777777777778,\"#fb9f3a\"],[0.8888888888888888,\"#fdca26\"],[1.0,\"#f0f921\"]]}],\"surface\":[{\"type\":\"surface\",\"colorbar\":{\"outlinewidth\":0,\"ticks\":\"\"},\"colorscale\":[[0.0,\"#0d0887\"],[0.1111111111111111,\"#46039f\"],[0.2222222222222222,\"#7201a8\"],[0.3333333333333333,\"#9c179e\"],[0.4444444444444444,\"#bd3786\"],[0.5555555555555556,\"#d8576b\"],[0.6666666666666666,\"#ed7953\"],[0.7777777777777778,\"#fb9f3a\"],[0.8888888888888888,\"#fdca26\"],[1.0,\"#f0f921\"]]}],\"mesh3d\":[{\"type\":\"mesh3d\",\"colorbar\":{\"outlinewidth\":0,\"ticks\":\"\"}}],\"scatter\":[{\"fillpattern\":{\"fillmode\":\"overlay\",\"size\":10,\"solidity\":0.2},\"type\":\"scatter\"}],\"parcoords\":[{\"type\":\"parcoords\",\"line\":{\"colorbar\":{\"outlinewidth\":0,\"ticks\":\"\"}}}],\"scatterpolargl\":[{\"type\":\"scatterpolargl\",\"marker\":{\"colorbar\":{\"outlinewidth\":0,\"ticks\":\"\"}}}],\"bar\":[{\"error_x\":{\"color\":\"#2a3f5f\"},\"error_y\":{\"color\":\"#2a3f5f\"},\"marker\":{\"line\":{\"color\":\"#E5ECF6\",\"width\":0.5},\"pattern\":{\"fillmode\":\"overlay\",\"size\":10,\"solidity\":0.2}},\"type\":\"bar\"}],\"scattergeo\":[{\"type\":\"scattergeo\",\"marker\":{\"colorbar\":{\"outlinewidth\":0,\"ticks\":\"\"}}}],\"scatterpolar\":[{\"type\":\"scatterpolar\",\"marker\":{\"colorbar\":{\"outlinewidth\":0,\"ticks\":\"\"}}}],\"histogram\":[{\"marker\":{\"pattern\":{\"fillmode\":\"overlay\",\"size\":10,\"solidity\":0.2}},\"type\":\"histogram\"}],\"scattergl\":[{\"type\":\"scattergl\",\"marker\":{\"colorbar\":{\"outlinewidth\":0,\"ticks\":\"\"}}}],\"scatter3d\":[{\"type\":\"scatter3d\",\"line\":{\"colorbar\":{\"outlinewidth\":0,\"ticks\":\"\"}},\"marker\":{\"colorbar\":{\"outlinewidth\":0,\"ticks\":\"\"}}}],\"scattermapbox\":[{\"type\":\"scattermapbox\",\"marker\":{\"colorbar\":{\"outlinewidth\":0,\"ticks\":\"\"}}}],\"scatterternary\":[{\"type\":\"scatterternary\",\"marker\":{\"colorbar\":{\"outlinewidth\":0,\"ticks\":\"\"}}}],\"scattercarpet\":[{\"type\":\"scattercarpet\",\"marker\":{\"colorbar\":{\"outlinewidth\":0,\"ticks\":\"\"}}}],\"carpet\":[{\"aaxis\":{\"endlinecolor\":\"#2a3f5f\",\"gridcolor\":\"white\",\"linecolor\":\"white\",\"minorgridcolor\":\"white\",\"startlinecolor\":\"#2a3f5f\"},\"baxis\":{\"endlinecolor\":\"#2a3f5f\",\"gridcolor\":\"white\",\"linecolor\":\"white\",\"minorgridcolor\":\"white\",\"startlinecolor\":\"#2a3f5f\"},\"type\":\"carpet\"}],\"table\":[{\"cells\":{\"fill\":{\"color\":\"#EBF0F8\"},\"line\":{\"color\":\"white\"}},\"header\":{\"fill\":{\"color\":\"#C8D4E3\"},\"line\":{\"color\":\"white\"}},\"type\":\"table\"}],\"barpolar\":[{\"marker\":{\"line\":{\"color\":\"#E5ECF6\",\"width\":0.5},\"pattern\":{\"fillmode\":\"overlay\",\"size\":10,\"solidity\":0.2}},\"type\":\"barpolar\"}],\"pie\":[{\"automargin\":true,\"type\":\"pie\"}]},\"layout\":{\"autotypenumbers\":\"strict\",\"colorway\":[\"#636efa\",\"#EF553B\",\"#00cc96\",\"#ab63fa\",\"#FFA15A\",\"#19d3f3\",\"#FF6692\",\"#B6E880\",\"#FF97FF\",\"#FECB52\"],\"font\":{\"color\":\"#2a3f5f\"},\"hovermode\":\"closest\",\"hoverlabel\":{\"align\":\"left\"},\"paper_bgcolor\":\"white\",\"plot_bgcolor\":\"#E5ECF6\",\"polar\":{\"bgcolor\":\"#E5ECF6\",\"angularaxis\":{\"gridcolor\":\"white\",\"linecolor\":\"white\",\"ticks\":\"\"},\"radialaxis\":{\"gridcolor\":\"white\",\"linecolor\":\"white\",\"ticks\":\"\"}},\"ternary\":{\"bgcolor\":\"#E5ECF6\",\"aaxis\":{\"gridcolor\":\"white\",\"linecolor\":\"white\",\"ticks\":\"\"},\"baxis\":{\"gridcolor\":\"white\",\"linecolor\":\"white\",\"ticks\":\"\"},\"caxis\":{\"gridcolor\":\"white\",\"linecolor\":\"white\",\"ticks\":\"\"}},\"coloraxis\":{\"colorbar\":{\"outlinewidth\":0,\"ticks\":\"\"}},\"colorscale\":{\"sequential\":[[0.0,\"#0d0887\"],[0.1111111111111111,\"#46039f\"],[0.2222222222222222,\"#7201a8\"],[0.3333333333333333,\"#9c179e\"],[0.4444444444444444,\"#bd3786\"],[0.5555555555555556,\"#d8576b\"],[0.6666666666666666,\"#ed7953\"],[0.7777777777777778,\"#fb9f3a\"],[0.8888888888888888,\"#fdca26\"],[1.0,\"#f0f921\"]],\"sequentialminus\":[[0.0,\"#0d0887\"],[0.1111111111111111,\"#46039f\"],[0.2222222222222222,\"#7201a8\"],[0.3333333333333333,\"#9c179e\"],[0.4444444444444444,\"#bd3786\"],[0.5555555555555556,\"#d8576b\"],[0.6666666666666666,\"#ed7953\"],[0.7777777777777778,\"#fb9f3a\"],[0.8888888888888888,\"#fdca26\"],[1.0,\"#f0f921\"]],\"diverging\":[[0,\"#8e0152\"],[0.1,\"#c51b7d\"],[0.2,\"#de77ae\"],[0.3,\"#f1b6da\"],[0.4,\"#fde0ef\"],[0.5,\"#f7f7f7\"],[0.6,\"#e6f5d0\"],[0.7,\"#b8e186\"],[0.8,\"#7fbc41\"],[0.9,\"#4d9221\"],[1,\"#276419\"]]},\"xaxis\":{\"gridcolor\":\"white\",\"linecolor\":\"white\",\"ticks\":\"\",\"title\":{\"standoff\":15},\"zerolinecolor\":\"white\",\"automargin\":true,\"zerolinewidth\":2},\"yaxis\":{\"gridcolor\":\"white\",\"linecolor\":\"white\",\"ticks\":\"\",\"title\":{\"standoff\":15},\"zerolinecolor\":\"white\",\"automargin\":true,\"zerolinewidth\":2},\"scene\":{\"xaxis\":{\"backgroundcolor\":\"#E5ECF6\",\"gridcolor\":\"white\",\"linecolor\":\"white\",\"showbackground\":true,\"ticks\":\"\",\"zerolinecolor\":\"white\",\"gridwidth\":2},\"yaxis\":{\"backgroundcolor\":\"#E5ECF6\",\"gridcolor\":\"white\",\"linecolor\":\"white\",\"showbackground\":true,\"ticks\":\"\",\"zerolinecolor\":\"white\",\"gridwidth\":2},\"zaxis\":{\"backgroundcolor\":\"#E5ECF6\",\"gridcolor\":\"white\",\"linecolor\":\"white\",\"showbackground\":true,\"ticks\":\"\",\"zerolinecolor\":\"white\",\"gridwidth\":2}},\"shapedefaults\":{\"line\":{\"color\":\"#2a3f5f\"}},\"annotationdefaults\":{\"arrowcolor\":\"#2a3f5f\",\"arrowhead\":0,\"arrowwidth\":1},\"geo\":{\"bgcolor\":\"white\",\"landcolor\":\"#E5ECF6\",\"subunitcolor\":\"white\",\"showland\":true,\"showlakes\":true,\"lakecolor\":\"white\"},\"title\":{\"x\":0.05},\"mapbox\":{\"style\":\"light\"}}},\"title\":{\"text\":\"Visualizing data lifecycle of DeepdriveMD<br>edge:weighted_access_size (sum)\",\"y\":0.9,\"x\":0.45,\"xanchor\":\"center\",\"yanchor\":\"top\"}},                        {\"responsive\": true}                    ).then(function(){\n",
       "                            \n",
       "var gd = document.getElementById('b8750e6b-d7a7-4591-859c-b2ce3cbb95f1');\n",
       "var x = new MutationObserver(function (mutations, observer) {{\n",
       "        var display = window.getComputedStyle(gd).display;\n",
       "        if (!display || display === 'none') {{\n",
       "            console.log([gd, 'removed!']);\n",
       "            Plotly.purge(gd);\n",
       "            observer.disconnect();\n",
       "        }}\n",
       "}});\n",
       "\n",
       "// Listen for the removal of the full notebook cells\n",
       "var notebookContainer = gd.closest('#notebook-container');\n",
       "if (notebookContainer) {{\n",
       "    x.observe(notebookContainer, {childList: true});\n",
       "}}\n",
       "\n",
       "// Listen for the clearing of the current output cell\n",
       "var outputEl = gd.closest('.output');\n",
       "if (outputEl) {{\n",
       "    x.observe(outputEl, {childList: true});\n",
       "}}\n",
       "\n",
       "                        })                };                });            </script>        </div>"
      ]
     },
     "metadata": {},
     "output_type": "display_data"
    }
   ],
   "source": [
    "node_dict_for_sankey, node_ref = get_nodes_for_sankey(G) \n",
    "link_dict_for_sankey = get_links_for_sankey(G, node_ref)\n",
    "fig = go.Figure(go.Sankey(\n",
    "            node = node_dict_for_sankey,\n",
    "            link = link_dict_for_sankey, orientation='h'),)\n",
    "fig.update_layout(title={'text': 'Visualizing data lifecycle of DeepdriveMD' + \\\n",
    "                         '<br>'\n",
    "                         'edge:' + metric_,\n",
    "                         'y':0.9,\n",
    "                         'x':0.45,\n",
    "                         'xanchor': 'center',\n",
    "                         'yanchor': 'top'})\n",
    "fig.show()"
   ]
  },
  {
   "cell_type": "code",
   "execution_count": 25,
   "id": "4bba2edc",
   "metadata": {},
   "outputs": [
    {
     "name": "stdout",
     "output_type": "stream",
     "text": [
      "node count:38\n",
      "edge count:57\n"
     ]
    }
   ],
   "source": [
    "print (\"node count:%s\" % len(G.nodes()))\n",
    "print (\"edge count:%s\" % len(G.edges()))"
   ]
  },
  {
   "cell_type": "code",
   "execution_count": 26,
   "id": "d86c1420",
   "metadata": {},
   "outputs": [],
   "source": [
    "def selected_graph(node_name, G):\n",
    "    selected_G = nx.DiGraph()\n",
    "    search_nodes = [node_name]\n",
    "    while len(search_nodes) > 0:\n",
    "        next_set = []\n",
    "        for n in search_nodes:\n",
    "            for edge in G.edges(n):\n",
    "                val = G.edges[edge]['value']\n",
    "                selected_G.add_edges_from([edge], value=val)\n",
    "                #print(selected_G.nodes)\n",
    "            next_set += [x for x in G.neighbors(n)]\n",
    "        search_nodes = next_set\n",
    "    return selected_G"
   ]
  },
  {
   "cell_type": "code",
   "execution_count": 27,
   "id": "cdf03319",
   "metadata": {},
   "outputs": [],
   "source": [
    "def table_for_producer_consumer(G, unit=\"byte\"):\n",
    "    \n",
    "    is_round = True\n",
    "    \n",
    "    column1 = []\n",
    "    column2 = []\n",
    "    #column3 = []\n",
    "    #column4 = []\n",
    "    if unit.lower() == \"gb\":\n",
    "        unit_size = 10e8\n",
    "    elif unit.lower() == \"mb\":\n",
    "        unit_size = 10e5\n",
    "    elif unit.lower() == \"kb\":\n",
    "        unit_size = 10e2\n",
    "    else:\n",
    "        unit = \"byte\"\n",
    "        unit_size = 10e-1\n",
    "        \n",
    "    for node in G.nodes():\n",
    "        # skip if not a file vertex where a task (producer) - a file and a task (consumer) could form\n",
    "        if len(node.split('.')) <= 1:\n",
    "            continue\n",
    "        for iedge in G.in_edges(node):\n",
    "            for oedge in G.out_edges(node):\n",
    "                ival = G.edges[iedge]['value']\n",
    "                oval = G.edges[oedge]['value']\n",
    "                column1.append((iedge, oedge))\n",
    "                column2.append(round((ival + oval) / unit_size, 2))\n",
    "                #column3.append(ival)\n",
    "                #column4.append(oval)\n",
    "    return pd.DataFrame({'task (p) - file, file - task (c) edges':column1, \n",
    "                         f'access_size ({unit})': column2})\n",
    "    \n",
    "def is_node_type(node_name, ntype_expected):\n",
    "    \n",
    "    if len(node_name.split('.')) <= 1:\n",
    "        ntype_found = \"task\"\n",
    "    else:\n",
    "        ntype_found = \"file\"\n",
    "    return ntype_found == ntype_expected\n",
    "\n",
    "def _table_for_metric(G, element_type, edges_to_collect=\"out\", unit=\"byte\"):\n",
    "    \n",
    "    is_round = True\n",
    "    \n",
    "    if element_type == \"producer-consumer\":\n",
    "        node_selection = 'file'\n",
    "    elif element_type == \"file\":\n",
    "        node_selection = 'file'\n",
    "    elif element_type == \"task\":\n",
    "        node_selection = 'task'\n",
    "    \n",
    "    col1 = []\n",
    "    col2 = []\n",
    "    #col3 = []\n",
    "    #col4 = []\n",
    "    if unit.lower() == \"gb\":\n",
    "        unit_size = 10e8\n",
    "    elif unit.lower() == \"mb\":\n",
    "        unit_size = 10e5\n",
    "    elif unit.lower() == \"kb\":\n",
    "        unit_size = 10e2\n",
    "    else:\n",
    "        unit = \"byte\"\n",
    "        unit_size = 10e-1\n",
    "        \n",
    "    for node in G.nodes():\n",
    "        # skip if not a file vertex where a task (producer) - a file and a task (consumer) could form\n",
    "        if not is_node_type(node, node_selection):\n",
    "            continue\n",
    "        \n",
    "        if element_type == \"file\" or element_type == \"task\":\n",
    "            val = 0\n",
    "            if edges_to_collect == \"out\" or edges_to_collect == \"both\":\n",
    "                for edge in G.out_edges(node):\n",
    "                    val += G.edges[edge]['value']\n",
    "            if edges_to_collect == \"in\" or edges_to_collect == \"both\":\n",
    "                for edge in G.in_edges(node):\n",
    "                    val += G.edges[edge]['value']\n",
    "            col1.append(node)\n",
    "            col2.append(round(val / unit_size, 2) if is_round else val)\n",
    "            #print(val, unit_size, val/unit_size)\n",
    "        else: # \"producer-consumer\"\n",
    "            for iedge in G.in_edges(node):\n",
    "                for oedge in G.out_edges(node):\n",
    "                    ival = G.edges[iedge]['value']\n",
    "                    oval = G.edges[oedge]['value']\n",
    "                    col1.append((iedge, oedge))\n",
    "                    #print((ival + oval) / unit_size, ival, oval, unit_size)\n",
    "                    col2.append(round((ival + oval) / unit_size, 2)  if is_round else val)\n",
    "                    #col3.append(ival)\n",
    "                    #col4.append(oval)\n",
    "    return col1, col2\n",
    "                \n",
    "\n",
    "def table_for_file_node(G, edges_to_collect=\"out\", unit=\"byte\"):\n",
    "    node_type = 'file'\n",
    "    col1, col2 = _table_for_metric(G, node_type, edges_to_collect=edges_to_collect, unit=unit)\n",
    "    return pd.DataFrame({f'node ({node_type})':col1, \n",
    "                         f'access_size ({unit})': col2})\n",
    "\n",
    "\n",
    "def table_for_task_node(G, edges_to_collect=\"in\", unit=\"byte\"):\n",
    "    node_type = 'task'\n",
    "    col1, col2 = _table_for_metric(G, node_type, edges_to_collect=edges_to_collect, unit=unit)\n",
    "    return pd.DataFrame({f'node ({node_type})':col1, \n",
    "                         f'access_size ({unit})': col2})    "
   ]
  },
  {
   "cell_type": "code",
   "execution_count": 28,
   "id": "d17f5ab3",
   "metadata": {},
   "outputs": [],
   "source": [
    "my_unit = \"byte\"\n",
    "df_pc = table_for_producer_consumer(G, unit=my_unit) "
   ]
  },
  {
   "cell_type": "code",
   "execution_count": 29,
   "id": "cc68eac3",
   "metadata": {},
   "outputs": [],
   "source": [
    "df_file = table_for_file_node(G, unit=my_unit)"
   ]
  },
  {
   "cell_type": "code",
   "execution_count": 30,
   "id": "76269be1",
   "metadata": {},
   "outputs": [],
   "source": [
    "df_task = table_for_task_node(G, unit=my_unit)"
   ]
  },
  {
   "cell_type": "code",
   "execution_count": 31,
   "id": "604f20e9",
   "metadata": {},
   "outputs": [
    {
     "data": {
      "text/html": [
       "<div>\n",
       "<style scoped>\n",
       "    .dataframe tbody tr th:only-of-type {\n",
       "        vertical-align: middle;\n",
       "    }\n",
       "\n",
       "    .dataframe tbody tr th {\n",
       "        vertical-align: top;\n",
       "    }\n",
       "\n",
       "    .dataframe thead th {\n",
       "        text-align: right;\n",
       "    }\n",
       "</style>\n",
       "<table border=\"1\" class=\"dataframe\">\n",
       "  <thead>\n",
       "    <tr style=\"text-align: right;\">\n",
       "      <th></th>\n",
       "      <th>node (file)</th>\n",
       "      <th>access_size (byte)</th>\n",
       "    </tr>\n",
       "  </thead>\n",
       "  <tbody>\n",
       "    <tr>\n",
       "      <th>4</th>\n",
       "      <td>stage0000_task0004.h5</td>\n",
       "      <td>252805688.0</td>\n",
       "    </tr>\n",
       "    <tr>\n",
       "      <th>10</th>\n",
       "      <td>stage0000_task0010.h5</td>\n",
       "      <td>252773524.0</td>\n",
       "    </tr>\n",
       "    <tr>\n",
       "      <th>2</th>\n",
       "      <td>stage0000_task0002.h5</td>\n",
       "      <td>252656576.0</td>\n",
       "    </tr>\n",
       "    <tr>\n",
       "      <th>6</th>\n",
       "      <td>stage0000_task0006.h5</td>\n",
       "      <td>252561540.0</td>\n",
       "    </tr>\n",
       "    <tr>\n",
       "      <th>9</th>\n",
       "      <td>stage0000_task0009.h5</td>\n",
       "      <td>252498252.0</td>\n",
       "    </tr>\n",
       "    <tr>\n",
       "      <th>3</th>\n",
       "      <td>stage0000_task0003.h5</td>\n",
       "      <td>252419292.0</td>\n",
       "    </tr>\n",
       "    <tr>\n",
       "      <th>8</th>\n",
       "      <td>stage0000_task0008.h5</td>\n",
       "      <td>252296768.0</td>\n",
       "    </tr>\n",
       "    <tr>\n",
       "      <th>5</th>\n",
       "      <td>stage0000_task0005.h5</td>\n",
       "      <td>252275940.0</td>\n",
       "    </tr>\n",
       "    <tr>\n",
       "      <th>7</th>\n",
       "      <td>stage0000_task0007.h5</td>\n",
       "      <td>252151404.0</td>\n",
       "    </tr>\n",
       "    <tr>\n",
       "      <th>11</th>\n",
       "      <td>stage0000_task0011.h5</td>\n",
       "      <td>251111032.0</td>\n",
       "    </tr>\n",
       "    <tr>\n",
       "      <th>1</th>\n",
       "      <td>stage0000_task0001.h5</td>\n",
       "      <td>83301896.0</td>\n",
       "    </tr>\n",
       "    <tr>\n",
       "      <th>0</th>\n",
       "      <td>stage0000_task0000.h5</td>\n",
       "      <td>82875864.0</td>\n",
       "    </tr>\n",
       "    <tr>\n",
       "      <th>12</th>\n",
       "      <td>aggregated.h5</td>\n",
       "      <td>0.0</td>\n",
       "    </tr>\n",
       "    <tr>\n",
       "      <th>13</th>\n",
       "      <td>embeddings-epoch-1-20230110-081347.h5</td>\n",
       "      <td>0.0</td>\n",
       "    </tr>\n",
       "    <tr>\n",
       "      <th>14</th>\n",
       "      <td>embeddings-epoch-2-20230110-081642.h5</td>\n",
       "      <td>0.0</td>\n",
       "    </tr>\n",
       "    <tr>\n",
       "      <th>15</th>\n",
       "      <td>embeddings-epoch-3-20230110-081932.h5</td>\n",
       "      <td>0.0</td>\n",
       "    </tr>\n",
       "    <tr>\n",
       "      <th>16</th>\n",
       "      <td>embeddings-epoch-4-20230110-082222.h5</td>\n",
       "      <td>0.0</td>\n",
       "    </tr>\n",
       "    <tr>\n",
       "      <th>17</th>\n",
       "      <td>embeddings-epoch-5-20230110-082513.h5</td>\n",
       "      <td>0.0</td>\n",
       "    </tr>\n",
       "    <tr>\n",
       "      <th>18</th>\n",
       "      <td>embeddings-epoch-6-20230110-082931.h5</td>\n",
       "      <td>0.0</td>\n",
       "    </tr>\n",
       "    <tr>\n",
       "      <th>19</th>\n",
       "      <td>embeddings-epoch-7-20230110-083220.h5</td>\n",
       "      <td>0.0</td>\n",
       "    </tr>\n",
       "    <tr>\n",
       "      <th>20</th>\n",
       "      <td>embeddings-epoch-8-20230110-083511.h5</td>\n",
       "      <td>0.0</td>\n",
       "    </tr>\n",
       "    <tr>\n",
       "      <th>21</th>\n",
       "      <td>embeddings-epoch-9-20230110-083801.h5</td>\n",
       "      <td>0.0</td>\n",
       "    </tr>\n",
       "    <tr>\n",
       "      <th>22</th>\n",
       "      <td>embeddings-epoch-10-20230110-084052.h5</td>\n",
       "      <td>0.0</td>\n",
       "    </tr>\n",
       "  </tbody>\n",
       "</table>\n",
       "</div>"
      ],
      "text/plain": [
       "                               node (file)  access_size (byte)\n",
       "4                    stage0000_task0004.h5         252805688.0\n",
       "10                   stage0000_task0010.h5         252773524.0\n",
       "2                    stage0000_task0002.h5         252656576.0\n",
       "6                    stage0000_task0006.h5         252561540.0\n",
       "9                    stage0000_task0009.h5         252498252.0\n",
       "3                    stage0000_task0003.h5         252419292.0\n",
       "8                    stage0000_task0008.h5         252296768.0\n",
       "5                    stage0000_task0005.h5         252275940.0\n",
       "7                    stage0000_task0007.h5         252151404.0\n",
       "11                   stage0000_task0011.h5         251111032.0\n",
       "1                    stage0000_task0001.h5          83301896.0\n",
       "0                    stage0000_task0000.h5          82875864.0\n",
       "12                           aggregated.h5                 0.0\n",
       "13   embeddings-epoch-1-20230110-081347.h5                 0.0\n",
       "14   embeddings-epoch-2-20230110-081642.h5                 0.0\n",
       "15   embeddings-epoch-3-20230110-081932.h5                 0.0\n",
       "16   embeddings-epoch-4-20230110-082222.h5                 0.0\n",
       "17   embeddings-epoch-5-20230110-082513.h5                 0.0\n",
       "18   embeddings-epoch-6-20230110-082931.h5                 0.0\n",
       "19   embeddings-epoch-7-20230110-083220.h5                 0.0\n",
       "20   embeddings-epoch-8-20230110-083511.h5                 0.0\n",
       "21   embeddings-epoch-9-20230110-083801.h5                 0.0\n",
       "22  embeddings-epoch-10-20230110-084052.h5                 0.0"
      ]
     },
     "execution_count": 31,
     "metadata": {},
     "output_type": "execute_result"
    }
   ],
   "source": [
    "df_file.sort_values(by=f'access_size ({my_unit})', ascending=False)"
   ]
  },
  {
   "cell_type": "code",
   "execution_count": 32,
   "id": "fb719768",
   "metadata": {},
   "outputs": [
    {
     "data": {
      "text/html": [
       "<div>\n",
       "<style scoped>\n",
       "    .dataframe tbody tr th:only-of-type {\n",
       "        vertical-align: middle;\n",
       "    }\n",
       "\n",
       "    .dataframe tbody tr th {\n",
       "        vertical-align: top;\n",
       "    }\n",
       "\n",
       "    .dataframe thead th {\n",
       "        text-align: right;\n",
       "    }\n",
       "</style>\n",
       "<table border=\"1\" class=\"dataframe\">\n",
       "  <thead>\n",
       "    <tr style=\"text-align: right;\">\n",
       "      <th></th>\n",
       "      <th>node (task)</th>\n",
       "      <th>access_size (byte)</th>\n",
       "    </tr>\n",
       "  </thead>\n",
       "  <tbody>\n",
       "    <tr>\n",
       "      <th>13</th>\n",
       "      <td>train_py (ID0000014)</td>\n",
       "      <td>1.696118e+09</td>\n",
       "    </tr>\n",
       "    <tr>\n",
       "      <th>12</th>\n",
       "      <td>aggregate_py (ID0000013)</td>\n",
       "      <td>5.430556e+08</td>\n",
       "    </tr>\n",
       "    <tr>\n",
       "      <th>14</th>\n",
       "      <td>lof_py (ID0000015)</td>\n",
       "      <td>4.505541e+08</td>\n",
       "    </tr>\n",
       "    <tr>\n",
       "      <th>0</th>\n",
       "      <td>run_openmm_py (ID0000001)</td>\n",
       "      <td>0.000000e+00</td>\n",
       "    </tr>\n",
       "    <tr>\n",
       "      <th>1</th>\n",
       "      <td>run_openmm_py (ID0000002)</td>\n",
       "      <td>0.000000e+00</td>\n",
       "    </tr>\n",
       "    <tr>\n",
       "      <th>2</th>\n",
       "      <td>run_openmm_py (ID0000003)</td>\n",
       "      <td>0.000000e+00</td>\n",
       "    </tr>\n",
       "    <tr>\n",
       "      <th>3</th>\n",
       "      <td>run_openmm_py (ID0000004)</td>\n",
       "      <td>0.000000e+00</td>\n",
       "    </tr>\n",
       "    <tr>\n",
       "      <th>4</th>\n",
       "      <td>run_openmm_py (ID0000005)</td>\n",
       "      <td>0.000000e+00</td>\n",
       "    </tr>\n",
       "    <tr>\n",
       "      <th>5</th>\n",
       "      <td>run_openmm_py (ID0000006)</td>\n",
       "      <td>0.000000e+00</td>\n",
       "    </tr>\n",
       "    <tr>\n",
       "      <th>6</th>\n",
       "      <td>run_openmm_py (ID0000007)</td>\n",
       "      <td>0.000000e+00</td>\n",
       "    </tr>\n",
       "    <tr>\n",
       "      <th>7</th>\n",
       "      <td>run_openmm_py (ID0000008)</td>\n",
       "      <td>0.000000e+00</td>\n",
       "    </tr>\n",
       "    <tr>\n",
       "      <th>8</th>\n",
       "      <td>run_openmm_py (ID0000009)</td>\n",
       "      <td>0.000000e+00</td>\n",
       "    </tr>\n",
       "    <tr>\n",
       "      <th>9</th>\n",
       "      <td>run_openmm_py (ID0000010)</td>\n",
       "      <td>0.000000e+00</td>\n",
       "    </tr>\n",
       "    <tr>\n",
       "      <th>10</th>\n",
       "      <td>run_openmm_py (ID0000011)</td>\n",
       "      <td>0.000000e+00</td>\n",
       "    </tr>\n",
       "    <tr>\n",
       "      <th>11</th>\n",
       "      <td>run_openmm_py (ID0000012)</td>\n",
       "      <td>0.000000e+00</td>\n",
       "    </tr>\n",
       "  </tbody>\n",
       "</table>\n",
       "</div>"
      ],
      "text/plain": [
       "                  node (task)  access_size (byte)\n",
       "13       train_py (ID0000014)        1.696118e+09\n",
       "12   aggregate_py (ID0000013)        5.430556e+08\n",
       "14         lof_py (ID0000015)        4.505541e+08\n",
       "0   run_openmm_py (ID0000001)        0.000000e+00\n",
       "1   run_openmm_py (ID0000002)        0.000000e+00\n",
       "2   run_openmm_py (ID0000003)        0.000000e+00\n",
       "3   run_openmm_py (ID0000004)        0.000000e+00\n",
       "4   run_openmm_py (ID0000005)        0.000000e+00\n",
       "5   run_openmm_py (ID0000006)        0.000000e+00\n",
       "6   run_openmm_py (ID0000007)        0.000000e+00\n",
       "7   run_openmm_py (ID0000008)        0.000000e+00\n",
       "8   run_openmm_py (ID0000009)        0.000000e+00\n",
       "9   run_openmm_py (ID0000010)        0.000000e+00\n",
       "10  run_openmm_py (ID0000011)        0.000000e+00\n",
       "11  run_openmm_py (ID0000012)        0.000000e+00"
      ]
     },
     "execution_count": 32,
     "metadata": {},
     "output_type": "execute_result"
    }
   ],
   "source": [
    "df_task.sort_values(by=f'access_size ({my_unit})', ascending=False)"
   ]
  },
  {
   "cell_type": "code",
   "execution_count": 33,
   "id": "7bb05734",
   "metadata": {
    "scrolled": false
   },
   "outputs": [
    {
     "data": {
      "text/html": [
       "<div>\n",
       "<style scoped>\n",
       "    .dataframe tbody tr th:only-of-type {\n",
       "        vertical-align: middle;\n",
       "    }\n",
       "\n",
       "    .dataframe tbody tr th {\n",
       "        vertical-align: top;\n",
       "    }\n",
       "\n",
       "    .dataframe thead th {\n",
       "        text-align: right;\n",
       "    }\n",
       "</style>\n",
       "<table border=\"1\" class=\"dataframe\">\n",
       "  <thead>\n",
       "    <tr style=\"text-align: right;\">\n",
       "      <th></th>\n",
       "      <th>task (p) - file, file - task (c) edges</th>\n",
       "      <th>access_size (byte)</th>\n",
       "    </tr>\n",
       "  </thead>\n",
       "  <tbody>\n",
       "    <tr>\n",
       "      <th>11</th>\n",
       "      <td>((run_openmm_py (ID0000005), stage0000_task0004.h5), (stage0000_task0004.h5, train_py (ID0000014)))</td>\n",
       "      <td>169966850.0</td>\n",
       "    </tr>\n",
       "    <tr>\n",
       "      <th>8</th>\n",
       "      <td>((run_openmm_py (ID0000004), stage0000_task0003.h5), (stage0000_task0003.h5, train_py (ID0000014)))</td>\n",
       "      <td>169899942.0</td>\n",
       "    </tr>\n",
       "    <tr>\n",
       "      <th>5</th>\n",
       "      <td>((run_openmm_py (ID0000003), stage0000_task0002.h5), (stage0000_task0002.h5, train_py (ID0000014)))</td>\n",
       "      <td>169768586.0</td>\n",
       "    </tr>\n",
       "    <tr>\n",
       "      <th>29</th>\n",
       "      <td>((run_openmm_py (ID0000011), stage0000_task0010.h5), (stage0000_task0010.h5, train_py (ID0000014)))</td>\n",
       "      <td>169725790.0</td>\n",
       "    </tr>\n",
       "    <tr>\n",
       "      <th>17</th>\n",
       "      <td>((run_openmm_py (ID0000007), stage0000_task0006.h5), (stage0000_task0006.h5, train_py (ID0000014)))</td>\n",
       "      <td>169677646.0</td>\n",
       "    </tr>\n",
       "    <tr>\n",
       "      <th>23</th>\n",
       "      <td>((run_openmm_py (ID0000009), stage0000_task0008.h5), (stage0000_task0008.h5, train_py (ID0000014)))</td>\n",
       "      <td>169634058.0</td>\n",
       "    </tr>\n",
       "    <tr>\n",
       "      <th>26</th>\n",
       "      <td>((run_openmm_py (ID0000010), stage0000_task0009.h5), (stage0000_task0009.h5, train_py (ID0000014)))</td>\n",
       "      <td>169614358.0</td>\n",
       "    </tr>\n",
       "    <tr>\n",
       "      <th>14</th>\n",
       "      <td>((run_openmm_py (ID0000006), stage0000_task0005.h5), (stage0000_task0005.h5, train_py (ID0000014)))</td>\n",
       "      <td>169400238.0</td>\n",
       "    </tr>\n",
       "    <tr>\n",
       "      <th>20</th>\n",
       "      <td>((run_openmm_py (ID0000008), stage0000_task0007.h5), (stage0000_task0007.h5, train_py (ID0000014)))</td>\n",
       "      <td>169279798.0</td>\n",
       "    </tr>\n",
       "    <tr>\n",
       "      <th>32</th>\n",
       "      <td>((run_openmm_py (ID0000012), stage0000_task0011.h5), (stage0000_task0011.h5, train_py (ID0000014)))</td>\n",
       "      <td>169152834.0</td>\n",
       "    </tr>\n",
       "    <tr>\n",
       "      <th>2</th>\n",
       "      <td>((run_openmm_py (ID0000002), stage0000_task0001.h5), (stage0000_task0001.h5, aggregate_py (ID0000013)))</td>\n",
       "      <td>45756266.0</td>\n",
       "    </tr>\n",
       "    <tr>\n",
       "      <th>28</th>\n",
       "      <td>((run_openmm_py (ID0000011), stage0000_task0010.h5), (stage0000_task0010.h5, aggregate_py (ID0000013)))</td>\n",
       "      <td>45502314.0</td>\n",
       "    </tr>\n",
       "    <tr>\n",
       "      <th>4</th>\n",
       "      <td>((run_openmm_py (ID0000003), stage0000_task0002.h5), (stage0000_task0002.h5, aggregate_py (ID0000013)))</td>\n",
       "      <td>45342570.0</td>\n",
       "    </tr>\n",
       "    <tr>\n",
       "      <th>25</th>\n",
       "      <td>((run_openmm_py (ID0000010), stage0000_task0009.h5), (stage0000_task0009.h5, aggregate_py (ID0000013)))</td>\n",
       "      <td>45338474.0</td>\n",
       "    </tr>\n",
       "    <tr>\n",
       "      <th>16</th>\n",
       "      <td>((run_openmm_py (ID0000007), stage0000_task0006.h5), (stage0000_task0006.h5, aggregate_py (ID0000013)))</td>\n",
       "      <td>45338474.0</td>\n",
       "    </tr>\n",
       "    <tr>\n",
       "      <th>13</th>\n",
       "      <td>((run_openmm_py (ID0000006), stage0000_task0005.h5), (stage0000_task0005.h5, aggregate_py (ID0000013)))</td>\n",
       "      <td>45330282.0</td>\n",
       "    </tr>\n",
       "    <tr>\n",
       "      <th>19</th>\n",
       "      <td>((run_openmm_py (ID0000008), stage0000_task0007.h5), (stage0000_task0007.h5, aggregate_py (ID0000013)))</td>\n",
       "      <td>45326186.0</td>\n",
       "    </tr>\n",
       "    <tr>\n",
       "      <th>0</th>\n",
       "      <td>((run_openmm_py (ID0000001), stage0000_task0000.h5), (stage0000_task0000.h5, aggregate_py (ID0000013)))</td>\n",
       "      <td>45326186.0</td>\n",
       "    </tr>\n",
       "    <tr>\n",
       "      <th>10</th>\n",
       "      <td>((run_openmm_py (ID0000005), stage0000_task0004.h5), (stage0000_task0004.h5, aggregate_py (ID0000013)))</td>\n",
       "      <td>45293418.0</td>\n",
       "    </tr>\n",
       "    <tr>\n",
       "      <th>22</th>\n",
       "      <td>((run_openmm_py (ID0000009), stage0000_task0008.h5), (stage0000_task0008.h5, aggregate_py (ID0000013)))</td>\n",
       "      <td>45117290.0</td>\n",
       "    </tr>\n",
       "    <tr>\n",
       "      <th>7</th>\n",
       "      <td>((run_openmm_py (ID0000004), stage0000_task0003.h5), (stage0000_task0003.h5, aggregate_py (ID0000013)))</td>\n",
       "      <td>44973930.0</td>\n",
       "    </tr>\n",
       "    <tr>\n",
       "      <th>31</th>\n",
       "      <td>((run_openmm_py (ID0000012), stage0000_task0011.h5), (stage0000_task0011.h5, aggregate_py (ID0000013)))</td>\n",
       "      <td>44412778.0</td>\n",
       "    </tr>\n",
       "    <tr>\n",
       "      <th>1</th>\n",
       "      <td>((run_openmm_py (ID0000001), stage0000_task0000.h5), (stage0000_task0000.h5, lof_py (ID0000015)))</td>\n",
       "      <td>37550098.0</td>\n",
       "    </tr>\n",
       "    <tr>\n",
       "      <th>18</th>\n",
       "      <td>((run_openmm_py (ID0000007), stage0000_task0006.h5), (stage0000_task0006.h5, lof_py (ID0000015)))</td>\n",
       "      <td>37546050.0</td>\n",
       "    </tr>\n",
       "    <tr>\n",
       "      <th>15</th>\n",
       "      <td>((run_openmm_py (ID0000006), stage0000_task0005.h5), (stage0000_task0005.h5, lof_py (ID0000015)))</td>\n",
       "      <td>37546050.0</td>\n",
       "    </tr>\n",
       "    <tr>\n",
       "      <th>21</th>\n",
       "      <td>((run_openmm_py (ID0000008), stage0000_task0007.h5), (stage0000_task0007.h5, lof_py (ID0000015)))</td>\n",
       "      <td>37546050.0</td>\n",
       "    </tr>\n",
       "    <tr>\n",
       "      <th>12</th>\n",
       "      <td>((run_openmm_py (ID0000005), stage0000_task0004.h5), (stage0000_task0004.h5, lof_py (ID0000015)))</td>\n",
       "      <td>37546050.0</td>\n",
       "    </tr>\n",
       "    <tr>\n",
       "      <th>24</th>\n",
       "      <td>((run_openmm_py (ID0000009), stage0000_task0008.h5), (stage0000_task0008.h5, lof_py (ID0000015)))</td>\n",
       "      <td>37546050.0</td>\n",
       "    </tr>\n",
       "    <tr>\n",
       "      <th>9</th>\n",
       "      <td>((run_openmm_py (ID0000004), stage0000_task0003.h5), (stage0000_task0003.h5, lof_py (ID0000015)))</td>\n",
       "      <td>37546050.0</td>\n",
       "    </tr>\n",
       "    <tr>\n",
       "      <th>27</th>\n",
       "      <td>((run_openmm_py (ID0000010), stage0000_task0009.h5), (stage0000_task0009.h5, lof_py (ID0000015)))</td>\n",
       "      <td>37546050.0</td>\n",
       "    </tr>\n",
       "    <tr>\n",
       "      <th>6</th>\n",
       "      <td>((run_openmm_py (ID0000003), stage0000_task0002.h5), (stage0000_task0002.h5, lof_py (ID0000015)))</td>\n",
       "      <td>37546050.0</td>\n",
       "    </tr>\n",
       "    <tr>\n",
       "      <th>30</th>\n",
       "      <td>((run_openmm_py (ID0000011), stage0000_task0010.h5), (stage0000_task0010.h5, lof_py (ID0000015)))</td>\n",
       "      <td>37546050.0</td>\n",
       "    </tr>\n",
       "    <tr>\n",
       "      <th>3</th>\n",
       "      <td>((run_openmm_py (ID0000002), stage0000_task0001.h5), (stage0000_task0001.h5, lof_py (ID0000015)))</td>\n",
       "      <td>37546050.0</td>\n",
       "    </tr>\n",
       "    <tr>\n",
       "      <th>33</th>\n",
       "      <td>((run_openmm_py (ID0000012), stage0000_task0011.h5), (stage0000_task0011.h5, lof_py (ID0000015)))</td>\n",
       "      <td>37546050.0</td>\n",
       "    </tr>\n",
       "  </tbody>\n",
       "</table>\n",
       "</div>"
      ],
      "text/plain": [
       "                                                                     task (p) - file, file - task (c) edges  \\\n",
       "11      ((run_openmm_py (ID0000005), stage0000_task0004.h5), (stage0000_task0004.h5, train_py (ID0000014)))   \n",
       "8       ((run_openmm_py (ID0000004), stage0000_task0003.h5), (stage0000_task0003.h5, train_py (ID0000014)))   \n",
       "5       ((run_openmm_py (ID0000003), stage0000_task0002.h5), (stage0000_task0002.h5, train_py (ID0000014)))   \n",
       "29      ((run_openmm_py (ID0000011), stage0000_task0010.h5), (stage0000_task0010.h5, train_py (ID0000014)))   \n",
       "17      ((run_openmm_py (ID0000007), stage0000_task0006.h5), (stage0000_task0006.h5, train_py (ID0000014)))   \n",
       "23      ((run_openmm_py (ID0000009), stage0000_task0008.h5), (stage0000_task0008.h5, train_py (ID0000014)))   \n",
       "26      ((run_openmm_py (ID0000010), stage0000_task0009.h5), (stage0000_task0009.h5, train_py (ID0000014)))   \n",
       "14      ((run_openmm_py (ID0000006), stage0000_task0005.h5), (stage0000_task0005.h5, train_py (ID0000014)))   \n",
       "20      ((run_openmm_py (ID0000008), stage0000_task0007.h5), (stage0000_task0007.h5, train_py (ID0000014)))   \n",
       "32      ((run_openmm_py (ID0000012), stage0000_task0011.h5), (stage0000_task0011.h5, train_py (ID0000014)))   \n",
       "2   ((run_openmm_py (ID0000002), stage0000_task0001.h5), (stage0000_task0001.h5, aggregate_py (ID0000013)))   \n",
       "28  ((run_openmm_py (ID0000011), stage0000_task0010.h5), (stage0000_task0010.h5, aggregate_py (ID0000013)))   \n",
       "4   ((run_openmm_py (ID0000003), stage0000_task0002.h5), (stage0000_task0002.h5, aggregate_py (ID0000013)))   \n",
       "25  ((run_openmm_py (ID0000010), stage0000_task0009.h5), (stage0000_task0009.h5, aggregate_py (ID0000013)))   \n",
       "16  ((run_openmm_py (ID0000007), stage0000_task0006.h5), (stage0000_task0006.h5, aggregate_py (ID0000013)))   \n",
       "13  ((run_openmm_py (ID0000006), stage0000_task0005.h5), (stage0000_task0005.h5, aggregate_py (ID0000013)))   \n",
       "19  ((run_openmm_py (ID0000008), stage0000_task0007.h5), (stage0000_task0007.h5, aggregate_py (ID0000013)))   \n",
       "0   ((run_openmm_py (ID0000001), stage0000_task0000.h5), (stage0000_task0000.h5, aggregate_py (ID0000013)))   \n",
       "10  ((run_openmm_py (ID0000005), stage0000_task0004.h5), (stage0000_task0004.h5, aggregate_py (ID0000013)))   \n",
       "22  ((run_openmm_py (ID0000009), stage0000_task0008.h5), (stage0000_task0008.h5, aggregate_py (ID0000013)))   \n",
       "7   ((run_openmm_py (ID0000004), stage0000_task0003.h5), (stage0000_task0003.h5, aggregate_py (ID0000013)))   \n",
       "31  ((run_openmm_py (ID0000012), stage0000_task0011.h5), (stage0000_task0011.h5, aggregate_py (ID0000013)))   \n",
       "1         ((run_openmm_py (ID0000001), stage0000_task0000.h5), (stage0000_task0000.h5, lof_py (ID0000015)))   \n",
       "18        ((run_openmm_py (ID0000007), stage0000_task0006.h5), (stage0000_task0006.h5, lof_py (ID0000015)))   \n",
       "15        ((run_openmm_py (ID0000006), stage0000_task0005.h5), (stage0000_task0005.h5, lof_py (ID0000015)))   \n",
       "21        ((run_openmm_py (ID0000008), stage0000_task0007.h5), (stage0000_task0007.h5, lof_py (ID0000015)))   \n",
       "12        ((run_openmm_py (ID0000005), stage0000_task0004.h5), (stage0000_task0004.h5, lof_py (ID0000015)))   \n",
       "24        ((run_openmm_py (ID0000009), stage0000_task0008.h5), (stage0000_task0008.h5, lof_py (ID0000015)))   \n",
       "9         ((run_openmm_py (ID0000004), stage0000_task0003.h5), (stage0000_task0003.h5, lof_py (ID0000015)))   \n",
       "27        ((run_openmm_py (ID0000010), stage0000_task0009.h5), (stage0000_task0009.h5, lof_py (ID0000015)))   \n",
       "6         ((run_openmm_py (ID0000003), stage0000_task0002.h5), (stage0000_task0002.h5, lof_py (ID0000015)))   \n",
       "30        ((run_openmm_py (ID0000011), stage0000_task0010.h5), (stage0000_task0010.h5, lof_py (ID0000015)))   \n",
       "3         ((run_openmm_py (ID0000002), stage0000_task0001.h5), (stage0000_task0001.h5, lof_py (ID0000015)))   \n",
       "33        ((run_openmm_py (ID0000012), stage0000_task0011.h5), (stage0000_task0011.h5, lof_py (ID0000015)))   \n",
       "\n",
       "    access_size (byte)  \n",
       "11         169966850.0  \n",
       "8          169899942.0  \n",
       "5          169768586.0  \n",
       "29         169725790.0  \n",
       "17         169677646.0  \n",
       "23         169634058.0  \n",
       "26         169614358.0  \n",
       "14         169400238.0  \n",
       "20         169279798.0  \n",
       "32         169152834.0  \n",
       "2           45756266.0  \n",
       "28          45502314.0  \n",
       "4           45342570.0  \n",
       "25          45338474.0  \n",
       "16          45338474.0  \n",
       "13          45330282.0  \n",
       "19          45326186.0  \n",
       "0           45326186.0  \n",
       "10          45293418.0  \n",
       "22          45117290.0  \n",
       "7           44973930.0  \n",
       "31          44412778.0  \n",
       "1           37550098.0  \n",
       "18          37546050.0  \n",
       "15          37546050.0  \n",
       "21          37546050.0  \n",
       "12          37546050.0  \n",
       "24          37546050.0  \n",
       "9           37546050.0  \n",
       "27          37546050.0  \n",
       "6           37546050.0  \n",
       "30          37546050.0  \n",
       "3           37546050.0  \n",
       "33          37546050.0  "
      ]
     },
     "execution_count": 33,
     "metadata": {},
     "output_type": "execute_result"
    }
   ],
   "source": [
    "pd.set_option('display.max_colwidth', None)\n",
    "pd.set_option('display.max_rows', 500)\n",
    "\n",
    "df_pc.sort_values(by=f'access_size ({my_unit})', ascending=False)"
   ]
  },
  {
   "cell_type": "code",
   "execution_count": 34,
   "id": "ac43ceeb",
   "metadata": {},
   "outputs": [
    {
     "name": "stdout",
     "output_type": "stream",
     "text": [
      "access_size avg: 79109850.47 byte\n"
     ]
    }
   ],
   "source": [
    "print (\"access_size avg: {:.2f} {}\".format( np.mean(df_pc[f'access_size ({my_unit})']), my_unit ))"
   ]
  },
  {
   "cell_type": "code",
   "execution_count": 35,
   "id": "e4afaebc",
   "metadata": {},
   "outputs": [
    {
     "data": {
      "text/plain": [
       "<AxesSubplot:>"
      ]
     },
     "execution_count": 35,
     "metadata": {},
     "output_type": "execute_result"
    },
    {
     "data": {
      "image/png": "[encoded data removed]",
      "text/plain": [
       "<Figure size 432x288 with 1 Axes>"
      ]
     },
     "metadata": {
      "needs_background": "light"
     },
     "output_type": "display_data"
    }
   ],
   "source": [
    "df_pc[f'access_size ({my_unit})'].hist()"
   ]
  },
  {
   "cell_type": "code",
   "execution_count": 36,
   "id": "7973ff91",
   "metadata": {},
   "outputs": [],
   "source": [
    "def graph_by_table_with_top_x(G, df, metric_name, edges_to_collect=\"both\", count=10, ascending=False):\n",
    "    new_G = nx.DiGraph()\n",
    "    t = df.sort_values(by=[metric_name], ascending=ascending)\n",
    "    cnt = 0\n",
    "    for idx, row in t.iterrows():\n",
    "        if(len(row[0]) > 1 and isinstance(row[0], tuple)):\n",
    "            iedge, oedge = row[0][0], row[0][1]\n",
    "            ival = G.edges[iedge]['value']\n",
    "            new_G.add_edges_from([iedge], value=ival)\n",
    "            oval = G.edges[oedge]['value']\n",
    "            new_G.add_edges_from([oedge], value=oval)\n",
    "        else:\n",
    "            node_name = row[0]\n",
    "            if edges_to_collect == \"in\" or edges_to_collect == \"both\":\n",
    "                for edge in G.in_edges(node_name):\n",
    "                    val = G.edges[edge]['value']\n",
    "                    new_G.add_edges_from([edge], value=val)\n",
    "            if edges_to_collect == \"out\" or edges_to_collect == \"both\":\n",
    "                for edge in G.out_edges(node_name):\n",
    "                    val = G.edges[edge]['value']\n",
    "                    new_G.add_edges_from([edge], value=val)                \n",
    "        cnt += 1\n",
    "        if cnt >= count:\n",
    "            break\n",
    "    return new_G"
   ]
  },
  {
   "cell_type": "code",
   "execution_count": 37,
   "id": "50928f8a",
   "metadata": {},
   "outputs": [
    {
     "data": {
      "text/html": [
       "<div>\n",
       "<style scoped>\n",
       "    .dataframe tbody tr th:only-of-type {\n",
       "        vertical-align: middle;\n",
       "    }\n",
       "\n",
       "    .dataframe tbody tr th {\n",
       "        vertical-align: top;\n",
       "    }\n",
       "\n",
       "    .dataframe thead th {\n",
       "        text-align: right;\n",
       "    }\n",
       "</style>\n",
       "<table border=\"1\" class=\"dataframe\">\n",
       "  <thead>\n",
       "    <tr style=\"text-align: right;\">\n",
       "      <th></th>\n",
       "      <th>task (p) - file, file - task (c) edges</th>\n",
       "      <th>access_size (byte)</th>\n",
       "    </tr>\n",
       "  </thead>\n",
       "  <tbody>\n",
       "    <tr>\n",
       "      <th>11</th>\n",
       "      <td>((run_openmm_py (ID0000005), stage0000_task0004.h5), (stage0000_task0004.h5, train_py (ID0000014)))</td>\n",
       "      <td>169966850.0</td>\n",
       "    </tr>\n",
       "    <tr>\n",
       "      <th>8</th>\n",
       "      <td>((run_openmm_py (ID0000004), stage0000_task0003.h5), (stage0000_task0003.h5, train_py (ID0000014)))</td>\n",
       "      <td>169899942.0</td>\n",
       "    </tr>\n",
       "    <tr>\n",
       "      <th>5</th>\n",
       "      <td>((run_openmm_py (ID0000003), stage0000_task0002.h5), (stage0000_task0002.h5, train_py (ID0000014)))</td>\n",
       "      <td>169768586.0</td>\n",
       "    </tr>\n",
       "  </tbody>\n",
       "</table>\n",
       "</div>"
      ],
      "text/plain": [
       "                                                                 task (p) - file, file - task (c) edges  \\\n",
       "11  ((run_openmm_py (ID0000005), stage0000_task0004.h5), (stage0000_task0004.h5, train_py (ID0000014)))   \n",
       "8   ((run_openmm_py (ID0000004), stage0000_task0003.h5), (stage0000_task0003.h5, train_py (ID0000014)))   \n",
       "5   ((run_openmm_py (ID0000003), stage0000_task0002.h5), (stage0000_task0002.h5, train_py (ID0000014)))   \n",
       "\n",
       "    access_size (byte)  \n",
       "11         169966850.0  \n",
       "8          169899942.0  \n",
       "5          169768586.0  "
      ]
     },
     "execution_count": 37,
     "metadata": {},
     "output_type": "execute_result"
    }
   ],
   "source": [
    "df_pc.sort_values(by=f'access_size ({my_unit})', ascending=False)[0:3]"
   ]
  },
  {
   "cell_type": "code",
   "execution_count": 38,
   "id": "6764f401",
   "metadata": {},
   "outputs": [
    {
     "data": {
      "text/markdown": [
       "**<center>Top ranked Producer Task-(file)-Consumer Task (5 out of 34)**"
      ],
      "text/plain": [
       "<IPython.core.display.Markdown object>"
      ]
     },
     "metadata": {},
     "output_type": "display_data"
    },
    {
     "data": {
      "application/vnd.plotly.v1+json": {
       "config": {
        "plotlyServerURL": "https://plot.ly"
       },
       "data": [
        {
         "link": {
          "source": [
           0,
           1,
           3,
           4,
           5,
           6,
           7,
           8,
           9,
           10
          ],
          "target": [
           1,
           2,
           4,
           2,
           6,
           2,
           8,
           2,
           10,
           2
          ],
          "value": [
           210,
           169966640,
           210,
           169899732,
           210,
           169768376,
           210,
           169725580,
           210,
           169677436
          ]
         },
         "node": {
          "color": [
           "green",
           "blue",
           "orange",
           "green",
           "blue",
           "green",
           "blue",
           "green",
           "blue",
           "green",
           "blue"
          ],
          "label": [
           "run_openmm_py (ID0000005)",
           "stage0000_task0004.h5",
           "train_py (ID0000014)",
           "run_openmm_py (ID0000004)",
           "stage0000_task0003.h5",
           "run_openmm_py (ID0000003)",
           "stage0000_task0002.h5",
           "run_openmm_py (ID0000011)",
           "stage0000_task0010.h5",
           "run_openmm_py (ID0000007)",
           "stage0000_task0006.h5"
          ],
          "x": [],
          "y": []
         },
         "orientation": "h",
         "type": "sankey"
        }
       ],
       "layout": {
        "template": {
         "data": {
          "bar": [
           {
            "error_x": {
             "color": "#2a3f5f"
            },
            "error_y": {
             "color": "#2a3f5f"
            },
            "marker": {
             "line": {
              "color": "#E5ECF6",
              "width": 0.5
             },
             "pattern": {
              "fillmode": "overlay",
              "size": 10,
              "solidity": 0.2
             }
            },
            "type": "bar"
           }
          ],
          "barpolar": [
           {
            "marker": {
             "line": {
              "color": "#E5ECF6",
              "width": 0.5
             },
             "pattern": {
              "fillmode": "overlay",
              "size": 10,
              "solidity": 0.2
             }
            },
            "type": "barpolar"
           }
          ],
          "carpet": [
           {
            "aaxis": {
             "endlinecolor": "#2a3f5f",
             "gridcolor": "white",
             "linecolor": "white",
             "minorgridcolor": "white",
             "startlinecolor": "#2a3f5f"
            },
            "baxis": {
             "endlinecolor": "#2a3f5f",
             "gridcolor": "white",
             "linecolor": "white",
             "minorgridcolor": "white",
             "startlinecolor": "#2a3f5f"
            },
            "type": "carpet"
           }
          ],
          "choropleth": [
           {
            "colorbar": {
             "outlinewidth": 0,
             "ticks": ""
            },
            "type": "choropleth"
           }
          ],
          "contour": [
           {
            "colorbar": {
             "outlinewidth": 0,
             "ticks": ""
            },
            "colorscale": [
             [
              0,
              "#0d0887"
             ],
             [
              0.1111111111111111,
              "#46039f"
             ],
             [
              0.2222222222222222,
              "#7201a8"
             ],
             [
              0.3333333333333333,
              "#9c179e"
             ],
             [
              0.4444444444444444,
              "#bd3786"
             ],
             [
              0.5555555555555556,
              "#d8576b"
             ],
             [
              0.6666666666666666,
              "#ed7953"
             ],
             [
              0.7777777777777778,
              "#fb9f3a"
             ],
             [
              0.8888888888888888,
              "#fdca26"
             ],
             [
              1,
              "#f0f921"
             ]
            ],
            "type": "contour"
           }
          ],
          "contourcarpet": [
           {
            "colorbar": {
             "outlinewidth": 0,
             "ticks": ""
            },
            "type": "contourcarpet"
           }
          ],
          "heatmap": [
           {
            "colorbar": {
             "outlinewidth": 0,
             "ticks": ""
            },
            "colorscale": [
             [
              0,
              "#0d0887"
             ],
             [
              0.1111111111111111,
              "#46039f"
             ],
             [
              0.2222222222222222,
              "#7201a8"
             ],
             [
              0.3333333333333333,
              "#9c179e"
             ],
             [
              0.4444444444444444,
              "#bd3786"
             ],
             [
              0.5555555555555556,
              "#d8576b"
             ],
             [
              0.6666666666666666,
              "#ed7953"
             ],
             [
              0.7777777777777778,
              "#fb9f3a"
             ],
             [
              0.8888888888888888,
              "#fdca26"
             ],
             [
              1,
              "#f0f921"
             ]
            ],
            "type": "heatmap"
           }
          ],
          "heatmapgl": [
           {
            "colorbar": {
             "outlinewidth": 0,
             "ticks": ""
            },
            "colorscale": [
             [
              0,
              "#0d0887"
             ],
             [
              0.1111111111111111,
              "#46039f"
             ],
             [
              0.2222222222222222,
              "#7201a8"
             ],
             [
              0.3333333333333333,
              "#9c179e"
             ],
             [
              0.4444444444444444,
              "#bd3786"
             ],
             [
              0.5555555555555556,
              "#d8576b"
             ],
             [
              0.6666666666666666,
              "#ed7953"
             ],
             [
              0.7777777777777778,
              "#fb9f3a"
             ],
             [
              0.8888888888888888,
              "#fdca26"
             ],
             [
              1,
              "#f0f921"
             ]
            ],
            "type": "heatmapgl"
           }
          ],
          "histogram": [
           {
            "marker": {
             "pattern": {
              "fillmode": "overlay",
              "size": 10,
              "solidity": 0.2
             }
            },
            "type": "histogram"
           }
          ],
          "histogram2d": [
           {
            "colorbar": {
             "outlinewidth": 0,
             "ticks": ""
            },
            "colorscale": [
             [
              0,
              "#0d0887"
             ],
             [
              0.1111111111111111,
              "#46039f"
             ],
             [
              0.2222222222222222,
              "#7201a8"
             ],
             [
              0.3333333333333333,
              "#9c179e"
             ],
             [
              0.4444444444444444,
              "#bd3786"
             ],
             [
              0.5555555555555556,
              "#d8576b"
             ],
             [
              0.6666666666666666,
              "#ed7953"
             ],
             [
              0.7777777777777778,
              "#fb9f3a"
             ],
             [
              0.8888888888888888,
              "#fdca26"
             ],
             [
              1,
              "#f0f921"
             ]
            ],
            "type": "histogram2d"
           }
          ],
          "histogram2dcontour": [
           {
            "colorbar": {
             "outlinewidth": 0,
             "ticks": ""
            },
            "colorscale": [
             [
              0,
              "#0d0887"
             ],
             [
              0.1111111111111111,
              "#46039f"
             ],
             [
              0.2222222222222222,
              "#7201a8"
             ],
             [
              0.3333333333333333,
              "#9c179e"
             ],
             [
              0.4444444444444444,
              "#bd3786"
             ],
             [
              0.5555555555555556,
              "#d8576b"
             ],
             [
              0.6666666666666666,
              "#ed7953"
             ],
             [
              0.7777777777777778,
              "#fb9f3a"
             ],
             [
              0.8888888888888888,
              "#fdca26"
             ],
             [
              1,
              "#f0f921"
             ]
            ],
            "type": "histogram2dcontour"
           }
          ],
          "mesh3d": [
           {
            "colorbar": {
             "outlinewidth": 0,
             "ticks": ""
            },
            "type": "mesh3d"
           }
          ],
          "parcoords": [
           {
            "line": {
             "colorbar": {
              "outlinewidth": 0,
              "ticks": ""
             }
            },
            "type": "parcoords"
           }
          ],
          "pie": [
           {
            "automargin": true,
            "type": "pie"
           }
          ],
          "scatter": [
           {
            "fillpattern": {
             "fillmode": "overlay",
             "size": 10,
             "solidity": 0.2
            },
            "type": "scatter"
           }
          ],
          "scatter3d": [
           {
            "line": {
             "colorbar": {
              "outlinewidth": 0,
              "ticks": ""
             }
            },
            "marker": {
             "colorbar": {
              "outlinewidth": 0,
              "ticks": ""
             }
            },
            "type": "scatter3d"
           }
          ],
          "scattercarpet": [
           {
            "marker": {
             "colorbar": {
              "outlinewidth": 0,
              "ticks": ""
             }
            },
            "type": "scattercarpet"
           }
          ],
          "scattergeo": [
           {
            "marker": {
             "colorbar": {
              "outlinewidth": 0,
              "ticks": ""
             }
            },
            "type": "scattergeo"
           }
          ],
          "scattergl": [
           {
            "marker": {
             "colorbar": {
              "outlinewidth": 0,
              "ticks": ""
             }
            },
            "type": "scattergl"
           }
          ],
          "scattermapbox": [
           {
            "marker": {
             "colorbar": {
              "outlinewidth": 0,
              "ticks": ""
             }
            },
            "type": "scattermapbox"
           }
          ],
          "scatterpolar": [
           {
            "marker": {
             "colorbar": {
              "outlinewidth": 0,
              "ticks": ""
             }
            },
            "type": "scatterpolar"
           }
          ],
          "scatterpolargl": [
           {
            "marker": {
             "colorbar": {
              "outlinewidth": 0,
              "ticks": ""
             }
            },
            "type": "scatterpolargl"
           }
          ],
          "scatterternary": [
           {
            "marker": {
             "colorbar": {
              "outlinewidth": 0,
              "ticks": ""
             }
            },
            "type": "scatterternary"
           }
          ],
          "surface": [
           {
            "colorbar": {
             "outlinewidth": 0,
             "ticks": ""
            },
            "colorscale": [
             [
              0,
              "#0d0887"
             ],
             [
              0.1111111111111111,
              "#46039f"
             ],
             [
              0.2222222222222222,
              "#7201a8"
             ],
             [
              0.3333333333333333,
              "#9c179e"
             ],
             [
              0.4444444444444444,
              "#bd3786"
             ],
             [
              0.5555555555555556,
              "#d8576b"
             ],
             [
              0.6666666666666666,
              "#ed7953"
             ],
             [
              0.7777777777777778,
              "#fb9f3a"
             ],
             [
              0.8888888888888888,
              "#fdca26"
             ],
             [
              1,
              "#f0f921"
             ]
            ],
            "type": "surface"
           }
          ],
          "table": [
           {
            "cells": {
             "fill": {
              "color": "#EBF0F8"
             },
             "line": {
              "color": "white"
             }
            },
            "header": {
             "fill": {
              "color": "#C8D4E3"
             },
             "line": {
              "color": "white"
             }
            },
            "type": "table"
           }
          ]
         },
         "layout": {
          "annotationdefaults": {
           "arrowcolor": "#2a3f5f",
           "arrowhead": 0,
           "arrowwidth": 1
          },
          "autotypenumbers": "strict",
          "coloraxis": {
           "colorbar": {
            "outlinewidth": 0,
            "ticks": ""
           }
          },
          "colorscale": {
           "diverging": [
            [
             0,
             "#8e0152"
            ],
            [
             0.1,
             "#c51b7d"
            ],
            [
             0.2,
             "#de77ae"
            ],
            [
             0.3,
             "#f1b6da"
            ],
            [
             0.4,
             "#fde0ef"
            ],
            [
             0.5,
             "#f7f7f7"
            ],
            [
             0.6,
             "#e6f5d0"
            ],
            [
             0.7,
             "#b8e186"
            ],
            [
             0.8,
             "#7fbc41"
            ],
            [
             0.9,
             "#4d9221"
            ],
            [
             1,
             "#276419"
            ]
           ],
           "sequential": [
            [
             0,
             "#0d0887"
            ],
            [
             0.1111111111111111,
             "#46039f"
            ],
            [
             0.2222222222222222,
             "#7201a8"
            ],
            [
             0.3333333333333333,
             "#9c179e"
            ],
            [
             0.4444444444444444,
             "#bd3786"
            ],
            [
             0.5555555555555556,
             "#d8576b"
            ],
            [
             0.6666666666666666,
             "#ed7953"
            ],
            [
             0.7777777777777778,
             "#fb9f3a"
            ],
            [
             0.8888888888888888,
             "#fdca26"
            ],
            [
             1,
             "#f0f921"
            ]
           ],
           "sequentialminus": [
            [
             0,
             "#0d0887"
            ],
            [
             0.1111111111111111,
             "#46039f"
            ],
            [
             0.2222222222222222,
             "#7201a8"
            ],
            [
             0.3333333333333333,
             "#9c179e"
            ],
            [
             0.4444444444444444,
             "#bd3786"
            ],
            [
             0.5555555555555556,
             "#d8576b"
            ],
            [
             0.6666666666666666,
             "#ed7953"
            ],
            [
             0.7777777777777778,
             "#fb9f3a"
            ],
            [
             0.8888888888888888,
             "#fdca26"
            ],
            [
             1,
             "#f0f921"
            ]
           ]
          },
          "colorway": [
           "#636efa",
           "#EF553B",
           "#00cc96",
           "#ab63fa",
           "#FFA15A",
           "#19d3f3",
           "#FF6692",
           "#B6E880",
           "#FF97FF",
           "#FECB52"
          ],
          "font": {
           "color": "#2a3f5f"
          },
          "geo": {
           "bgcolor": "white",
           "lakecolor": "white",
           "landcolor": "#E5ECF6",
           "showlakes": true,
           "showland": true,
           "subunitcolor": "white"
          },
          "hoverlabel": {
           "align": "left"
          },
          "hovermode": "closest",
          "mapbox": {
           "style": "light"
          },
          "paper_bgcolor": "white",
          "plot_bgcolor": "#E5ECF6",
          "polar": {
           "angularaxis": {
            "gridcolor": "white",
            "linecolor": "white",
            "ticks": ""
           },
           "bgcolor": "#E5ECF6",
           "radialaxis": {
            "gridcolor": "white",
            "linecolor": "white",
            "ticks": ""
           }
          },
          "scene": {
           "xaxis": {
            "backgroundcolor": "#E5ECF6",
            "gridcolor": "white",
            "gridwidth": 2,
            "linecolor": "white",
            "showbackground": true,
            "ticks": "",
            "zerolinecolor": "white"
           },
           "yaxis": {
            "backgroundcolor": "#E5ECF6",
            "gridcolor": "white",
            "gridwidth": 2,
            "linecolor": "white",
            "showbackground": true,
            "ticks": "",
            "zerolinecolor": "white"
           },
           "zaxis": {
            "backgroundcolor": "#E5ECF6",
            "gridcolor": "white",
            "gridwidth": 2,
            "linecolor": "white",
            "showbackground": true,
            "ticks": "",
            "zerolinecolor": "white"
           }
          },
          "shapedefaults": {
           "line": {
            "color": "#2a3f5f"
           }
          },
          "ternary": {
           "aaxis": {
            "gridcolor": "white",
            "linecolor": "white",
            "ticks": ""
           },
           "baxis": {
            "gridcolor": "white",
            "linecolor": "white",
            "ticks": ""
           },
           "bgcolor": "#E5ECF6",
           "caxis": {
            "gridcolor": "white",
            "linecolor": "white",
            "ticks": ""
           }
          },
          "title": {
           "x": 0.05
          },
          "xaxis": {
           "automargin": true,
           "gridcolor": "white",
           "linecolor": "white",
           "ticks": "",
           "title": {
            "standoff": 15
           },
           "zerolinecolor": "white",
           "zerolinewidth": 2
          },
          "yaxis": {
           "automargin": true,
           "gridcolor": "white",
           "linecolor": "white",
           "ticks": "",
           "title": {
            "standoff": 15
           },
           "zerolinecolor": "white",
           "zerolinewidth": 2
          }
         }
        }
       }
      },
      "text/html": [
       "<div>                            <div id=\"58c46310-cc15-4d01-ba98-dfea8b2c93b4\" class=\"plotly-graph-div\" style=\"height:525px; width:100%;\"></div>            <script type=\"text/javascript\">                require([\"plotly\"], function(Plotly) {                    window.PLOTLYENV=window.PLOTLYENV || {};                                    if (document.getElementById(\"58c46310-cc15-4d01-ba98-dfea8b2c93b4\")) {                    Plotly.newPlot(                        \"58c46310-cc15-4d01-ba98-dfea8b2c93b4\",                        [{\"link\":{\"source\":[0,1,3,4,5,6,7,8,9,10],\"target\":[1,2,4,2,6,2,8,2,10,2],\"value\":[210,169966640,210,169899732,210,169768376,210,169725580,210,169677436]},\"node\":{\"color\":[\"green\",\"blue\",\"orange\",\"green\",\"blue\",\"green\",\"blue\",\"green\",\"blue\",\"green\",\"blue\"],\"label\":[\"run_openmm_py (ID0000005)\",\"stage0000_task0004.h5\",\"train_py (ID0000014)\",\"run_openmm_py (ID0000004)\",\"stage0000_task0003.h5\",\"run_openmm_py (ID0000003)\",\"stage0000_task0002.h5\",\"run_openmm_py (ID0000011)\",\"stage0000_task0010.h5\",\"run_openmm_py (ID0000007)\",\"stage0000_task0006.h5\"],\"x\":[],\"y\":[]},\"orientation\":\"h\",\"type\":\"sankey\"}],                        {\"template\":{\"data\":{\"histogram2dcontour\":[{\"type\":\"histogram2dcontour\",\"colorbar\":{\"outlinewidth\":0,\"ticks\":\"\"},\"colorscale\":[[0.0,\"#0d0887\"],[0.1111111111111111,\"#46039f\"],[0.2222222222222222,\"#7201a8\"],[0.3333333333333333,\"#9c179e\"],[0.4444444444444444,\"#bd3786\"],[0.5555555555555556,\"#d8576b\"],[0.6666666666666666,\"#ed7953\"],[0.7777777777777778,\"#fb9f3a\"],[0.8888888888888888,\"#fdca26\"],[1.0,\"#f0f921\"]]}],\"choropleth\":[{\"type\":\"choropleth\",\"colorbar\":{\"outlinewidth\":0,\"ticks\":\"\"}}],\"histogram2d\":[{\"type\":\"histogram2d\",\"colorbar\":{\"outlinewidth\":0,\"ticks\":\"\"},\"colorscale\":[[0.0,\"#0d0887\"],[0.1111111111111111,\"#46039f\"],[0.2222222222222222,\"#7201a8\"],[0.3333333333333333,\"#9c179e\"],[0.4444444444444444,\"#bd3786\"],[0.5555555555555556,\"#d8576b\"],[0.6666666666666666,\"#ed7953\"],[0.7777777777777778,\"#fb9f3a\"],[0.8888888888888888,\"#fdca26\"],[1.0,\"#f0f921\"]]}],\"heatmap\":[{\"type\":\"heatmap\",\"colorbar\":{\"outlinewidth\":0,\"ticks\":\"\"},\"colorscale\":[[0.0,\"#0d0887\"],[0.1111111111111111,\"#46039f\"],[0.2222222222222222,\"#7201a8\"],[0.3333333333333333,\"#9c179e\"],[0.4444444444444444,\"#bd3786\"],[0.5555555555555556,\"#d8576b\"],[0.6666666666666666,\"#ed7953\"],[0.7777777777777778,\"#fb9f3a\"],[0.8888888888888888,\"#fdca26\"],[1.0,\"#f0f921\"]]}],\"heatmapgl\":[{\"type\":\"heatmapgl\",\"colorbar\":{\"outlinewidth\":0,\"ticks\":\"\"},\"colorscale\":[[0.0,\"#0d0887\"],[0.1111111111111111,\"#46039f\"],[0.2222222222222222,\"#7201a8\"],[0.3333333333333333,\"#9c179e\"],[0.4444444444444444,\"#bd3786\"],[0.5555555555555556,\"#d8576b\"],[0.6666666666666666,\"#ed7953\"],[0.7777777777777778,\"#fb9f3a\"],[0.8888888888888888,\"#fdca26\"],[1.0,\"#f0f921\"]]}],\"contourcarpet\":[{\"type\":\"contourcarpet\",\"colorbar\":{\"outlinewidth\":0,\"ticks\":\"\"}}],\"contour\":[{\"type\":\"contour\",\"colorbar\":{\"outlinewidth\":0,\"ticks\":\"\"},\"colorscale\":[[0.0,\"#0d0887\"],[0.1111111111111111,\"#46039f\"],[0.2222222222222222,\"#7201a8\"],[0.3333333333333333,\"#9c179e\"],[0.4444444444444444,\"#bd3786\"],[0.5555555555555556,\"#d8576b\"],[0.6666666666666666,\"#ed7953\"],[0.7777777777777778,\"#fb9f3a\"],[0.8888888888888888,\"#fdca26\"],[1.0,\"#f0f921\"]]}],\"surface\":[{\"type\":\"surface\",\"colorbar\":{\"outlinewidth\":0,\"ticks\":\"\"},\"colorscale\":[[0.0,\"#0d0887\"],[0.1111111111111111,\"#46039f\"],[0.2222222222222222,\"#7201a8\"],[0.3333333333333333,\"#9c179e\"],[0.4444444444444444,\"#bd3786\"],[0.5555555555555556,\"#d8576b\"],[0.6666666666666666,\"#ed7953\"],[0.7777777777777778,\"#fb9f3a\"],[0.8888888888888888,\"#fdca26\"],[1.0,\"#f0f921\"]]}],\"mesh3d\":[{\"type\":\"mesh3d\",\"colorbar\":{\"outlinewidth\":0,\"ticks\":\"\"}}],\"scatter\":[{\"fillpattern\":{\"fillmode\":\"overlay\",\"size\":10,\"solidity\":0.2},\"type\":\"scatter\"}],\"parcoords\":[{\"type\":\"parcoords\",\"line\":{\"colorbar\":{\"outlinewidth\":0,\"ticks\":\"\"}}}],\"scatterpolargl\":[{\"type\":\"scatterpolargl\",\"marker\":{\"colorbar\":{\"outlinewidth\":0,\"ticks\":\"\"}}}],\"bar\":[{\"error_x\":{\"color\":\"#2a3f5f\"},\"error_y\":{\"color\":\"#2a3f5f\"},\"marker\":{\"line\":{\"color\":\"#E5ECF6\",\"width\":0.5},\"pattern\":{\"fillmode\":\"overlay\",\"size\":10,\"solidity\":0.2}},\"type\":\"bar\"}],\"scattergeo\":[{\"type\":\"scattergeo\",\"marker\":{\"colorbar\":{\"outlinewidth\":0,\"ticks\":\"\"}}}],\"scatterpolar\":[{\"type\":\"scatterpolar\",\"marker\":{\"colorbar\":{\"outlinewidth\":0,\"ticks\":\"\"}}}],\"histogram\":[{\"marker\":{\"pattern\":{\"fillmode\":\"overlay\",\"size\":10,\"solidity\":0.2}},\"type\":\"histogram\"}],\"scattergl\":[{\"type\":\"scattergl\",\"marker\":{\"colorbar\":{\"outlinewidth\":0,\"ticks\":\"\"}}}],\"scatter3d\":[{\"type\":\"scatter3d\",\"line\":{\"colorbar\":{\"outlinewidth\":0,\"ticks\":\"\"}},\"marker\":{\"colorbar\":{\"outlinewidth\":0,\"ticks\":\"\"}}}],\"scattermapbox\":[{\"type\":\"scattermapbox\",\"marker\":{\"colorbar\":{\"outlinewidth\":0,\"ticks\":\"\"}}}],\"scatterternary\":[{\"type\":\"scatterternary\",\"marker\":{\"colorbar\":{\"outlinewidth\":0,\"ticks\":\"\"}}}],\"scattercarpet\":[{\"type\":\"scattercarpet\",\"marker\":{\"colorbar\":{\"outlinewidth\":0,\"ticks\":\"\"}}}],\"carpet\":[{\"aaxis\":{\"endlinecolor\":\"#2a3f5f\",\"gridcolor\":\"white\",\"linecolor\":\"white\",\"minorgridcolor\":\"white\",\"startlinecolor\":\"#2a3f5f\"},\"baxis\":{\"endlinecolor\":\"#2a3f5f\",\"gridcolor\":\"white\",\"linecolor\":\"white\",\"minorgridcolor\":\"white\",\"startlinecolor\":\"#2a3f5f\"},\"type\":\"carpet\"}],\"table\":[{\"cells\":{\"fill\":{\"color\":\"#EBF0F8\"},\"line\":{\"color\":\"white\"}},\"header\":{\"fill\":{\"color\":\"#C8D4E3\"},\"line\":{\"color\":\"white\"}},\"type\":\"table\"}],\"barpolar\":[{\"marker\":{\"line\":{\"color\":\"#E5ECF6\",\"width\":0.5},\"pattern\":{\"fillmode\":\"overlay\",\"size\":10,\"solidity\":0.2}},\"type\":\"barpolar\"}],\"pie\":[{\"automargin\":true,\"type\":\"pie\"}]},\"layout\":{\"autotypenumbers\":\"strict\",\"colorway\":[\"#636efa\",\"#EF553B\",\"#00cc96\",\"#ab63fa\",\"#FFA15A\",\"#19d3f3\",\"#FF6692\",\"#B6E880\",\"#FF97FF\",\"#FECB52\"],\"font\":{\"color\":\"#2a3f5f\"},\"hovermode\":\"closest\",\"hoverlabel\":{\"align\":\"left\"},\"paper_bgcolor\":\"white\",\"plot_bgcolor\":\"#E5ECF6\",\"polar\":{\"bgcolor\":\"#E5ECF6\",\"angularaxis\":{\"gridcolor\":\"white\",\"linecolor\":\"white\",\"ticks\":\"\"},\"radialaxis\":{\"gridcolor\":\"white\",\"linecolor\":\"white\",\"ticks\":\"\"}},\"ternary\":{\"bgcolor\":\"#E5ECF6\",\"aaxis\":{\"gridcolor\":\"white\",\"linecolor\":\"white\",\"ticks\":\"\"},\"baxis\":{\"gridcolor\":\"white\",\"linecolor\":\"white\",\"ticks\":\"\"},\"caxis\":{\"gridcolor\":\"white\",\"linecolor\":\"white\",\"ticks\":\"\"}},\"coloraxis\":{\"colorbar\":{\"outlinewidth\":0,\"ticks\":\"\"}},\"colorscale\":{\"sequential\":[[0.0,\"#0d0887\"],[0.1111111111111111,\"#46039f\"],[0.2222222222222222,\"#7201a8\"],[0.3333333333333333,\"#9c179e\"],[0.4444444444444444,\"#bd3786\"],[0.5555555555555556,\"#d8576b\"],[0.6666666666666666,\"#ed7953\"],[0.7777777777777778,\"#fb9f3a\"],[0.8888888888888888,\"#fdca26\"],[1.0,\"#f0f921\"]],\"sequentialminus\":[[0.0,\"#0d0887\"],[0.1111111111111111,\"#46039f\"],[0.2222222222222222,\"#7201a8\"],[0.3333333333333333,\"#9c179e\"],[0.4444444444444444,\"#bd3786\"],[0.5555555555555556,\"#d8576b\"],[0.6666666666666666,\"#ed7953\"],[0.7777777777777778,\"#fb9f3a\"],[0.8888888888888888,\"#fdca26\"],[1.0,\"#f0f921\"]],\"diverging\":[[0,\"#8e0152\"],[0.1,\"#c51b7d\"],[0.2,\"#de77ae\"],[0.3,\"#f1b6da\"],[0.4,\"#fde0ef\"],[0.5,\"#f7f7f7\"],[0.6,\"#e6f5d0\"],[0.7,\"#b8e186\"],[0.8,\"#7fbc41\"],[0.9,\"#4d9221\"],[1,\"#276419\"]]},\"xaxis\":{\"gridcolor\":\"white\",\"linecolor\":\"white\",\"ticks\":\"\",\"title\":{\"standoff\":15},\"zerolinecolor\":\"white\",\"automargin\":true,\"zerolinewidth\":2},\"yaxis\":{\"gridcolor\":\"white\",\"linecolor\":\"white\",\"ticks\":\"\",\"title\":{\"standoff\":15},\"zerolinecolor\":\"white\",\"automargin\":true,\"zerolinewidth\":2},\"scene\":{\"xaxis\":{\"backgroundcolor\":\"#E5ECF6\",\"gridcolor\":\"white\",\"linecolor\":\"white\",\"showbackground\":true,\"ticks\":\"\",\"zerolinecolor\":\"white\",\"gridwidth\":2},\"yaxis\":{\"backgroundcolor\":\"#E5ECF6\",\"gridcolor\":\"white\",\"linecolor\":\"white\",\"showbackground\":true,\"ticks\":\"\",\"zerolinecolor\":\"white\",\"gridwidth\":2},\"zaxis\":{\"backgroundcolor\":\"#E5ECF6\",\"gridcolor\":\"white\",\"linecolor\":\"white\",\"showbackground\":true,\"ticks\":\"\",\"zerolinecolor\":\"white\",\"gridwidth\":2}},\"shapedefaults\":{\"line\":{\"color\":\"#2a3f5f\"}},\"annotationdefaults\":{\"arrowcolor\":\"#2a3f5f\",\"arrowhead\":0,\"arrowwidth\":1},\"geo\":{\"bgcolor\":\"white\",\"landcolor\":\"#E5ECF6\",\"subunitcolor\":\"white\",\"showland\":true,\"showlakes\":true,\"lakecolor\":\"white\"},\"title\":{\"x\":0.05},\"mapbox\":{\"style\":\"light\"}}}},                        {\"responsive\": true}                    ).then(function(){\n",
       "                            \n",
       "var gd = document.getElementById('58c46310-cc15-4d01-ba98-dfea8b2c93b4');\n",
       "var x = new MutationObserver(function (mutations, observer) {{\n",
       "        var display = window.getComputedStyle(gd).display;\n",
       "        if (!display || display === 'none') {{\n",
       "            console.log([gd, 'removed!']);\n",
       "            Plotly.purge(gd);\n",
       "            observer.disconnect();\n",
       "        }}\n",
       "}});\n",
       "\n",
       "// Listen for the removal of the full notebook cells\n",
       "var notebookContainer = gd.closest('#notebook-container');\n",
       "if (notebookContainer) {{\n",
       "    x.observe(notebookContainer, {childList: true});\n",
       "}}\n",
       "\n",
       "// Listen for the clearing of the current output cell\n",
       "var outputEl = gd.closest('.output');\n",
       "if (outputEl) {{\n",
       "    x.observe(outputEl, {childList: true});\n",
       "}}\n",
       "\n",
       "                        })                };                });            </script>        </div>"
      ]
     },
     "metadata": {},
     "output_type": "display_data"
    },
    {
     "name": "stdout",
     "output_type": "stream",
     "text": [
      "\u001b[92mgreen: producer task\n",
      "\u001b[94mblue: file\n",
      "\u001b[93morange: consumer task\n"
     ]
    }
   ],
   "source": [
    "num_rows_to_select = 5\n",
    "pc_G = graph_by_table_with_top_x(G, df_pc, f'access_size ({my_unit})', count=num_rows_to_select, ascending=False)\n",
    "\n",
    "color_map_pc = {\"task\": \"red\",\n",
    "                 \"file\": \"blue\",\n",
    "                 \"none\": \"grey\",\n",
    "             \"producer\": \"green\",\n",
    "             \"consumer\": \"orange\"\n",
    "                }\n",
    "\n",
    "n_exp_pc, node_ref_exp_pc = get_nodes_for_sankey(pc_G, color_map_pc)\n",
    "l_exp_pc = get_links_for_sankey(pc_G, node_ref_exp_pc)\n",
    "\n",
    "fig = go.Figure(go.Sankey(\n",
    "            node = n_exp_pc,\n",
    "            link = l_exp_pc, orientation='h'))\n",
    "printmd(f\"**<center>Top ranked Producer Task-(file)-Consumer Task ({num_rows_to_select} out of {len(df_pc)})**\")\n",
    "fig.show()\n",
    "print(\"\\033[92mgreen: producer task\")\n",
    "print(\"\\033[94mblue: file\")\n",
    "print(\"\\033[93morange: consumer task\")"
   ]
  },
  {
   "cell_type": "code",
   "execution_count": 39,
   "id": "c92f364e",
   "metadata": {},
   "outputs": [
    {
     "data": {
      "text/markdown": [
       "**<center>Top ranked Files (10 out of 23)**"
      ],
      "text/plain": [
       "<IPython.core.display.Markdown object>"
      ]
     },
     "metadata": {},
     "output_type": "display_data"
    },
    {
     "data": {
      "application/vnd.plotly.v1+json": {
       "config": {
        "plotlyServerURL": "https://plot.ly"
       },
       "data": [
        {
         "link": {
          "source": [
           0,
           0,
           0,
           4,
           4,
           4,
           5,
           5,
           5,
           6,
           6,
           6,
           7,
           7,
           7,
           8,
           8,
           8,
           9,
           9,
           9,
           10,
           10,
           10,
           11,
           11,
           11,
           12,
           12,
           12
          ],
          "target": [
           1,
           2,
           3,
           1,
           2,
           3,
           1,
           2,
           3,
           1,
           2,
           3,
           1,
           2,
           3,
           1,
           2,
           3,
           1,
           2,
           3,
           1,
           2,
           3,
           1,
           2,
           3,
           1,
           2,
           3
          ],
          "value": [
           45293208,
           169966640,
           37545840,
           45502104,
           169725580,
           37545840,
           45342360,
           169768376,
           37545840,
           45338264,
           169677436,
           37545840,
           45338264,
           169614148,
           37545840,
           44973720,
           169899732,
           37545840,
           45117080,
           169633848,
           37545840,
           45330072,
           169400028,
           37545840,
           45325976,
           169279588,
           37545840,
           44412568,
           169152624,
           37545840
          ]
         },
         "node": {
          "color": [
           "blue",
           "red",
           "red",
           "red",
           "blue",
           "blue",
           "blue",
           "blue",
           "blue",
           "blue",
           "blue",
           "blue",
           "blue"
          ],
          "label": [
           "stage0000_task0004.h5",
           "aggregate_py (ID0000013)",
           "train_py (ID0000014)",
           "lof_py (ID0000015)",
           "stage0000_task0010.h5",
           "stage0000_task0002.h5",
           "stage0000_task0006.h5",
           "stage0000_task0009.h5",
           "stage0000_task0003.h5",
           "stage0000_task0008.h5",
           "stage0000_task0005.h5",
           "stage0000_task0007.h5",
           "stage0000_task0011.h5"
          ],
          "x": [],
          "y": []
         },
         "orientation": "h",
         "type": "sankey"
        }
       ],
       "layout": {
        "template": {
         "data": {
          "bar": [
           {
            "error_x": {
             "color": "#2a3f5f"
            },
            "error_y": {
             "color": "#2a3f5f"
            },
            "marker": {
             "line": {
              "color": "#E5ECF6",
              "width": 0.5
             },
             "pattern": {
              "fillmode": "overlay",
              "size": 10,
              "solidity": 0.2
             }
            },
            "type": "bar"
           }
          ],
          "barpolar": [
           {
            "marker": {
             "line": {
              "color": "#E5ECF6",
              "width": 0.5
             },
             "pattern": {
              "fillmode": "overlay",
              "size": 10,
              "solidity": 0.2
             }
            },
            "type": "barpolar"
           }
          ],
          "carpet": [
           {
            "aaxis": {
             "endlinecolor": "#2a3f5f",
             "gridcolor": "white",
             "linecolor": "white",
             "minorgridcolor": "white",
             "startlinecolor": "#2a3f5f"
            },
            "baxis": {
             "endlinecolor": "#2a3f5f",
             "gridcolor": "white",
             "linecolor": "white",
             "minorgridcolor": "white",
             "startlinecolor": "#2a3f5f"
            },
            "type": "carpet"
           }
          ],
          "choropleth": [
           {
            "colorbar": {
             "outlinewidth": 0,
             "ticks": ""
            },
            "type": "choropleth"
           }
          ],
          "contour": [
           {
            "colorbar": {
             "outlinewidth": 0,
             "ticks": ""
            },
            "colorscale": [
             [
              0,
              "#0d0887"
             ],
             [
              0.1111111111111111,
              "#46039f"
             ],
             [
              0.2222222222222222,
              "#7201a8"
             ],
             [
              0.3333333333333333,
              "#9c179e"
             ],
             [
              0.4444444444444444,
              "#bd3786"
             ],
             [
              0.5555555555555556,
              "#d8576b"
             ],
             [
              0.6666666666666666,
              "#ed7953"
             ],
             [
              0.7777777777777778,
              "#fb9f3a"
             ],
             [
              0.8888888888888888,
              "#fdca26"
             ],
             [
              1,
              "#f0f921"
             ]
            ],
            "type": "contour"
           }
          ],
          "contourcarpet": [
           {
            "colorbar": {
             "outlinewidth": 0,
             "ticks": ""
            },
            "type": "contourcarpet"
           }
          ],
          "heatmap": [
           {
            "colorbar": {
             "outlinewidth": 0,
             "ticks": ""
            },
            "colorscale": [
             [
              0,
              "#0d0887"
             ],
             [
              0.1111111111111111,
              "#46039f"
             ],
             [
              0.2222222222222222,
              "#7201a8"
             ],
             [
              0.3333333333333333,
              "#9c179e"
             ],
             [
              0.4444444444444444,
              "#bd3786"
             ],
             [
              0.5555555555555556,
              "#d8576b"
             ],
             [
              0.6666666666666666,
              "#ed7953"
             ],
             [
              0.7777777777777778,
              "#fb9f3a"
             ],
             [
              0.8888888888888888,
              "#fdca26"
             ],
             [
              1,
              "#f0f921"
             ]
            ],
            "type": "heatmap"
           }
          ],
          "heatmapgl": [
           {
            "colorbar": {
             "outlinewidth": 0,
             "ticks": ""
            },
            "colorscale": [
             [
              0,
              "#0d0887"
             ],
             [
              0.1111111111111111,
              "#46039f"
             ],
             [
              0.2222222222222222,
              "#7201a8"
             ],
             [
              0.3333333333333333,
              "#9c179e"
             ],
             [
              0.4444444444444444,
              "#bd3786"
             ],
             [
              0.5555555555555556,
              "#d8576b"
             ],
             [
              0.6666666666666666,
              "#ed7953"
             ],
             [
              0.7777777777777778,
              "#fb9f3a"
             ],
             [
              0.8888888888888888,
              "#fdca26"
             ],
             [
              1,
              "#f0f921"
             ]
            ],
            "type": "heatmapgl"
           }
          ],
          "histogram": [
           {
            "marker": {
             "pattern": {
              "fillmode": "overlay",
              "size": 10,
              "solidity": 0.2
             }
            },
            "type": "histogram"
           }
          ],
          "histogram2d": [
           {
            "colorbar": {
             "outlinewidth": 0,
             "ticks": ""
            },
            "colorscale": [
             [
              0,
              "#0d0887"
             ],
             [
              0.1111111111111111,
              "#46039f"
             ],
             [
              0.2222222222222222,
              "#7201a8"
             ],
             [
              0.3333333333333333,
              "#9c179e"
             ],
             [
              0.4444444444444444,
              "#bd3786"
             ],
             [
              0.5555555555555556,
              "#d8576b"
             ],
             [
              0.6666666666666666,
              "#ed7953"
             ],
             [
              0.7777777777777778,
              "#fb9f3a"
             ],
             [
              0.8888888888888888,
              "#fdca26"
             ],
             [
              1,
              "#f0f921"
             ]
            ],
            "type": "histogram2d"
           }
          ],
          "histogram2dcontour": [
           {
            "colorbar": {
             "outlinewidth": 0,
             "ticks": ""
            },
            "colorscale": [
             [
              0,
              "#0d0887"
             ],
             [
              0.1111111111111111,
              "#46039f"
             ],
             [
              0.2222222222222222,
              "#7201a8"
             ],
             [
              0.3333333333333333,
              "#9c179e"
             ],
             [
              0.4444444444444444,
              "#bd3786"
             ],
             [
              0.5555555555555556,
              "#d8576b"
             ],
             [
              0.6666666666666666,
              "#ed7953"
             ],
             [
              0.7777777777777778,
              "#fb9f3a"
             ],
             [
              0.8888888888888888,
              "#fdca26"
             ],
             [
              1,
              "#f0f921"
             ]
            ],
            "type": "histogram2dcontour"
           }
          ],
          "mesh3d": [
           {
            "colorbar": {
             "outlinewidth": 0,
             "ticks": ""
            },
            "type": "mesh3d"
           }
          ],
          "parcoords": [
           {
            "line": {
             "colorbar": {
              "outlinewidth": 0,
              "ticks": ""
             }
            },
            "type": "parcoords"
           }
          ],
          "pie": [
           {
            "automargin": true,
            "type": "pie"
           }
          ],
          "scatter": [
           {
            "fillpattern": {
             "fillmode": "overlay",
             "size": 10,
             "solidity": 0.2
            },
            "type": "scatter"
           }
          ],
          "scatter3d": [
           {
            "line": {
             "colorbar": {
              "outlinewidth": 0,
              "ticks": ""
             }
            },
            "marker": {
             "colorbar": {
              "outlinewidth": 0,
              "ticks": ""
             }
            },
            "type": "scatter3d"
           }
          ],
          "scattercarpet": [
           {
            "marker": {
             "colorbar": {
              "outlinewidth": 0,
              "ticks": ""
             }
            },
            "type": "scattercarpet"
           }
          ],
          "scattergeo": [
           {
            "marker": {
             "colorbar": {
              "outlinewidth": 0,
              "ticks": ""
             }
            },
            "type": "scattergeo"
           }
          ],
          "scattergl": [
           {
            "marker": {
             "colorbar": {
              "outlinewidth": 0,
              "ticks": ""
             }
            },
            "type": "scattergl"
           }
          ],
          "scattermapbox": [
           {
            "marker": {
             "colorbar": {
              "outlinewidth": 0,
              "ticks": ""
             }
            },
            "type": "scattermapbox"
           }
          ],
          "scatterpolar": [
           {
            "marker": {
             "colorbar": {
              "outlinewidth": 0,
              "ticks": ""
             }
            },
            "type": "scatterpolar"
           }
          ],
          "scatterpolargl": [
           {
            "marker": {
             "colorbar": {
              "outlinewidth": 0,
              "ticks": ""
             }
            },
            "type": "scatterpolargl"
           }
          ],
          "scatterternary": [
           {
            "marker": {
             "colorbar": {
              "outlinewidth": 0,
              "ticks": ""
             }
            },
            "type": "scatterternary"
           }
          ],
          "surface": [
           {
            "colorbar": {
             "outlinewidth": 0,
             "ticks": ""
            },
            "colorscale": [
             [
              0,
              "#0d0887"
             ],
             [
              0.1111111111111111,
              "#46039f"
             ],
             [
              0.2222222222222222,
              "#7201a8"
             ],
             [
              0.3333333333333333,
              "#9c179e"
             ],
             [
              0.4444444444444444,
              "#bd3786"
             ],
             [
              0.5555555555555556,
              "#d8576b"
             ],
             [
              0.6666666666666666,
              "#ed7953"
             ],
             [
              0.7777777777777778,
              "#fb9f3a"
             ],
             [
              0.8888888888888888,
              "#fdca26"
             ],
             [
              1,
              "#f0f921"
             ]
            ],
            "type": "surface"
           }
          ],
          "table": [
           {
            "cells": {
             "fill": {
              "color": "#EBF0F8"
             },
             "line": {
              "color": "white"
             }
            },
            "header": {
             "fill": {
              "color": "#C8D4E3"
             },
             "line": {
              "color": "white"
             }
            },
            "type": "table"
           }
          ]
         },
         "layout": {
          "annotationdefaults": {
           "arrowcolor": "#2a3f5f",
           "arrowhead": 0,
           "arrowwidth": 1
          },
          "autotypenumbers": "strict",
          "coloraxis": {
           "colorbar": {
            "outlinewidth": 0,
            "ticks": ""
           }
          },
          "colorscale": {
           "diverging": [
            [
             0,
             "#8e0152"
            ],
            [
             0.1,
             "#c51b7d"
            ],
            [
             0.2,
             "#de77ae"
            ],
            [
             0.3,
             "#f1b6da"
            ],
            [
             0.4,
             "#fde0ef"
            ],
            [
             0.5,
             "#f7f7f7"
            ],
            [
             0.6,
             "#e6f5d0"
            ],
            [
             0.7,
             "#b8e186"
            ],
            [
             0.8,
             "#7fbc41"
            ],
            [
             0.9,
             "#4d9221"
            ],
            [
             1,
             "#276419"
            ]
           ],
           "sequential": [
            [
             0,
             "#0d0887"
            ],
            [
             0.1111111111111111,
             "#46039f"
            ],
            [
             0.2222222222222222,
             "#7201a8"
            ],
            [
             0.3333333333333333,
             "#9c179e"
            ],
            [
             0.4444444444444444,
             "#bd3786"
            ],
            [
             0.5555555555555556,
             "#d8576b"
            ],
            [
             0.6666666666666666,
             "#ed7953"
            ],
            [
             0.7777777777777778,
             "#fb9f3a"
            ],
            [
             0.8888888888888888,
             "#fdca26"
            ],
            [
             1,
             "#f0f921"
            ]
           ],
           "sequentialminus": [
            [
             0,
             "#0d0887"
            ],
            [
             0.1111111111111111,
             "#46039f"
            ],
            [
             0.2222222222222222,
             "#7201a8"
            ],
            [
             0.3333333333333333,
             "#9c179e"
            ],
            [
             0.4444444444444444,
             "#bd3786"
            ],
            [
             0.5555555555555556,
             "#d8576b"
            ],
            [
             0.6666666666666666,
             "#ed7953"
            ],
            [
             0.7777777777777778,
             "#fb9f3a"
            ],
            [
             0.8888888888888888,
             "#fdca26"
            ],
            [
             1,
             "#f0f921"
            ]
           ]
          },
          "colorway": [
           "#636efa",
           "#EF553B",
           "#00cc96",
           "#ab63fa",
           "#FFA15A",
           "#19d3f3",
           "#FF6692",
           "#B6E880",
           "#FF97FF",
           "#FECB52"
          ],
          "font": {
           "color": "#2a3f5f"
          },
          "geo": {
           "bgcolor": "white",
           "lakecolor": "white",
           "landcolor": "#E5ECF6",
           "showlakes": true,
           "showland": true,
           "subunitcolor": "white"
          },
          "hoverlabel": {
           "align": "left"
          },
          "hovermode": "closest",
          "mapbox": {
           "style": "light"
          },
          "paper_bgcolor": "white",
          "plot_bgcolor": "#E5ECF6",
          "polar": {
           "angularaxis": {
            "gridcolor": "white",
            "linecolor": "white",
            "ticks": ""
           },
           "bgcolor": "#E5ECF6",
           "radialaxis": {
            "gridcolor": "white",
            "linecolor": "white",
            "ticks": ""
           }
          },
          "scene": {
           "xaxis": {
            "backgroundcolor": "#E5ECF6",
            "gridcolor": "white",
            "gridwidth": 2,
            "linecolor": "white",
            "showbackground": true,
            "ticks": "",
            "zerolinecolor": "white"
           },
           "yaxis": {
            "backgroundcolor": "#E5ECF6",
            "gridcolor": "white",
            "gridwidth": 2,
            "linecolor": "white",
            "showbackground": true,
            "ticks": "",
            "zerolinecolor": "white"
           },
           "zaxis": {
            "backgroundcolor": "#E5ECF6",
            "gridcolor": "white",
            "gridwidth": 2,
            "linecolor": "white",
            "showbackground": true,
            "ticks": "",
            "zerolinecolor": "white"
           }
          },
          "shapedefaults": {
           "line": {
            "color": "#2a3f5f"
           }
          },
          "ternary": {
           "aaxis": {
            "gridcolor": "white",
            "linecolor": "white",
            "ticks": ""
           },
           "baxis": {
            "gridcolor": "white",
            "linecolor": "white",
            "ticks": ""
           },
           "bgcolor": "#E5ECF6",
           "caxis": {
            "gridcolor": "white",
            "linecolor": "white",
            "ticks": ""
           }
          },
          "title": {
           "x": 0.05
          },
          "xaxis": {
           "automargin": true,
           "gridcolor": "white",
           "linecolor": "white",
           "ticks": "",
           "title": {
            "standoff": 15
           },
           "zerolinecolor": "white",
           "zerolinewidth": 2
          },
          "yaxis": {
           "automargin": true,
           "gridcolor": "white",
           "linecolor": "white",
           "ticks": "",
           "title": {
            "standoff": 15
           },
           "zerolinecolor": "white",
           "zerolinewidth": 2
          }
         }
        }
       }
      },
      "text/html": [
       "<div>                            <div id=\"f624b46c-0e0e-47d6-8e09-15d38782e4ba\" class=\"plotly-graph-div\" style=\"height:525px; width:100%;\"></div>            <script type=\"text/javascript\">                require([\"plotly\"], function(Plotly) {                    window.PLOTLYENV=window.PLOTLYENV || {};                                    if (document.getElementById(\"f624b46c-0e0e-47d6-8e09-15d38782e4ba\")) {                    Plotly.newPlot(                        \"f624b46c-0e0e-47d6-8e09-15d38782e4ba\",                        [{\"link\":{\"source\":[0,0,0,4,4,4,5,5,5,6,6,6,7,7,7,8,8,8,9,9,9,10,10,10,11,11,11,12,12,12],\"target\":[1,2,3,1,2,3,1,2,3,1,2,3,1,2,3,1,2,3,1,2,3,1,2,3,1,2,3,1,2,3],\"value\":[45293208,169966640,37545840,45502104,169725580,37545840,45342360,169768376,37545840,45338264,169677436,37545840,45338264,169614148,37545840,44973720,169899732,37545840,45117080,169633848,37545840,45330072,169400028,37545840,45325976,169279588,37545840,44412568,169152624,37545840]},\"node\":{\"color\":[\"blue\",\"red\",\"red\",\"red\",\"blue\",\"blue\",\"blue\",\"blue\",\"blue\",\"blue\",\"blue\",\"blue\",\"blue\"],\"label\":[\"stage0000_task0004.h5\",\"aggregate_py (ID0000013)\",\"train_py (ID0000014)\",\"lof_py (ID0000015)\",\"stage0000_task0010.h5\",\"stage0000_task0002.h5\",\"stage0000_task0006.h5\",\"stage0000_task0009.h5\",\"stage0000_task0003.h5\",\"stage0000_task0008.h5\",\"stage0000_task0005.h5\",\"stage0000_task0007.h5\",\"stage0000_task0011.h5\"],\"x\":[],\"y\":[]},\"orientation\":\"h\",\"type\":\"sankey\"}],                        {\"template\":{\"data\":{\"histogram2dcontour\":[{\"type\":\"histogram2dcontour\",\"colorbar\":{\"outlinewidth\":0,\"ticks\":\"\"},\"colorscale\":[[0.0,\"#0d0887\"],[0.1111111111111111,\"#46039f\"],[0.2222222222222222,\"#7201a8\"],[0.3333333333333333,\"#9c179e\"],[0.4444444444444444,\"#bd3786\"],[0.5555555555555556,\"#d8576b\"],[0.6666666666666666,\"#ed7953\"],[0.7777777777777778,\"#fb9f3a\"],[0.8888888888888888,\"#fdca26\"],[1.0,\"#f0f921\"]]}],\"choropleth\":[{\"type\":\"choropleth\",\"colorbar\":{\"outlinewidth\":0,\"ticks\":\"\"}}],\"histogram2d\":[{\"type\":\"histogram2d\",\"colorbar\":{\"outlinewidth\":0,\"ticks\":\"\"},\"colorscale\":[[0.0,\"#0d0887\"],[0.1111111111111111,\"#46039f\"],[0.2222222222222222,\"#7201a8\"],[0.3333333333333333,\"#9c179e\"],[0.4444444444444444,\"#bd3786\"],[0.5555555555555556,\"#d8576b\"],[0.6666666666666666,\"#ed7953\"],[0.7777777777777778,\"#fb9f3a\"],[0.8888888888888888,\"#fdca26\"],[1.0,\"#f0f921\"]]}],\"heatmap\":[{\"type\":\"heatmap\",\"colorbar\":{\"outlinewidth\":0,\"ticks\":\"\"},\"colorscale\":[[0.0,\"#0d0887\"],[0.1111111111111111,\"#46039f\"],[0.2222222222222222,\"#7201a8\"],[0.3333333333333333,\"#9c179e\"],[0.4444444444444444,\"#bd3786\"],[0.5555555555555556,\"#d8576b\"],[0.6666666666666666,\"#ed7953\"],[0.7777777777777778,\"#fb9f3a\"],[0.8888888888888888,\"#fdca26\"],[1.0,\"#f0f921\"]]}],\"heatmapgl\":[{\"type\":\"heatmapgl\",\"colorbar\":{\"outlinewidth\":0,\"ticks\":\"\"},\"colorscale\":[[0.0,\"#0d0887\"],[0.1111111111111111,\"#46039f\"],[0.2222222222222222,\"#7201a8\"],[0.3333333333333333,\"#9c179e\"],[0.4444444444444444,\"#bd3786\"],[0.5555555555555556,\"#d8576b\"],[0.6666666666666666,\"#ed7953\"],[0.7777777777777778,\"#fb9f3a\"],[0.8888888888888888,\"#fdca26\"],[1.0,\"#f0f921\"]]}],\"contourcarpet\":[{\"type\":\"contourcarpet\",\"colorbar\":{\"outlinewidth\":0,\"ticks\":\"\"}}],\"contour\":[{\"type\":\"contour\",\"colorbar\":{\"outlinewidth\":0,\"ticks\":\"\"},\"colorscale\":[[0.0,\"#0d0887\"],[0.1111111111111111,\"#46039f\"],[0.2222222222222222,\"#7201a8\"],[0.3333333333333333,\"#9c179e\"],[0.4444444444444444,\"#bd3786\"],[0.5555555555555556,\"#d8576b\"],[0.6666666666666666,\"#ed7953\"],[0.7777777777777778,\"#fb9f3a\"],[0.8888888888888888,\"#fdca26\"],[1.0,\"#f0f921\"]]}],\"surface\":[{\"type\":\"surface\",\"colorbar\":{\"outlinewidth\":0,\"ticks\":\"\"},\"colorscale\":[[0.0,\"#0d0887\"],[0.1111111111111111,\"#46039f\"],[0.2222222222222222,\"#7201a8\"],[0.3333333333333333,\"#9c179e\"],[0.4444444444444444,\"#bd3786\"],[0.5555555555555556,\"#d8576b\"],[0.6666666666666666,\"#ed7953\"],[0.7777777777777778,\"#fb9f3a\"],[0.8888888888888888,\"#fdca26\"],[1.0,\"#f0f921\"]]}],\"mesh3d\":[{\"type\":\"mesh3d\",\"colorbar\":{\"outlinewidth\":0,\"ticks\":\"\"}}],\"scatter\":[{\"fillpattern\":{\"fillmode\":\"overlay\",\"size\":10,\"solidity\":0.2},\"type\":\"scatter\"}],\"parcoords\":[{\"type\":\"parcoords\",\"line\":{\"colorbar\":{\"outlinewidth\":0,\"ticks\":\"\"}}}],\"scatterpolargl\":[{\"type\":\"scatterpolargl\",\"marker\":{\"colorbar\":{\"outlinewidth\":0,\"ticks\":\"\"}}}],\"bar\":[{\"error_x\":{\"color\":\"#2a3f5f\"},\"error_y\":{\"color\":\"#2a3f5f\"},\"marker\":{\"line\":{\"color\":\"#E5ECF6\",\"width\":0.5},\"pattern\":{\"fillmode\":\"overlay\",\"size\":10,\"solidity\":0.2}},\"type\":\"bar\"}],\"scattergeo\":[{\"type\":\"scattergeo\",\"marker\":{\"colorbar\":{\"outlinewidth\":0,\"ticks\":\"\"}}}],\"scatterpolar\":[{\"type\":\"scatterpolar\",\"marker\":{\"colorbar\":{\"outlinewidth\":0,\"ticks\":\"\"}}}],\"histogram\":[{\"marker\":{\"pattern\":{\"fillmode\":\"overlay\",\"size\":10,\"solidity\":0.2}},\"type\":\"histogram\"}],\"scattergl\":[{\"type\":\"scattergl\",\"marker\":{\"colorbar\":{\"outlinewidth\":0,\"ticks\":\"\"}}}],\"scatter3d\":[{\"type\":\"scatter3d\",\"line\":{\"colorbar\":{\"outlinewidth\":0,\"ticks\":\"\"}},\"marker\":{\"colorbar\":{\"outlinewidth\":0,\"ticks\":\"\"}}}],\"scattermapbox\":[{\"type\":\"scattermapbox\",\"marker\":{\"colorbar\":{\"outlinewidth\":0,\"ticks\":\"\"}}}],\"scatterternary\":[{\"type\":\"scatterternary\",\"marker\":{\"colorbar\":{\"outlinewidth\":0,\"ticks\":\"\"}}}],\"scattercarpet\":[{\"type\":\"scattercarpet\",\"marker\":{\"colorbar\":{\"outlinewidth\":0,\"ticks\":\"\"}}}],\"carpet\":[{\"aaxis\":{\"endlinecolor\":\"#2a3f5f\",\"gridcolor\":\"white\",\"linecolor\":\"white\",\"minorgridcolor\":\"white\",\"startlinecolor\":\"#2a3f5f\"},\"baxis\":{\"endlinecolor\":\"#2a3f5f\",\"gridcolor\":\"white\",\"linecolor\":\"white\",\"minorgridcolor\":\"white\",\"startlinecolor\":\"#2a3f5f\"},\"type\":\"carpet\"}],\"table\":[{\"cells\":{\"fill\":{\"color\":\"#EBF0F8\"},\"line\":{\"color\":\"white\"}},\"header\":{\"fill\":{\"color\":\"#C8D4E3\"},\"line\":{\"color\":\"white\"}},\"type\":\"table\"}],\"barpolar\":[{\"marker\":{\"line\":{\"color\":\"#E5ECF6\",\"width\":0.5},\"pattern\":{\"fillmode\":\"overlay\",\"size\":10,\"solidity\":0.2}},\"type\":\"barpolar\"}],\"pie\":[{\"automargin\":true,\"type\":\"pie\"}]},\"layout\":{\"autotypenumbers\":\"strict\",\"colorway\":[\"#636efa\",\"#EF553B\",\"#00cc96\",\"#ab63fa\",\"#FFA15A\",\"#19d3f3\",\"#FF6692\",\"#B6E880\",\"#FF97FF\",\"#FECB52\"],\"font\":{\"color\":\"#2a3f5f\"},\"hovermode\":\"closest\",\"hoverlabel\":{\"align\":\"left\"},\"paper_bgcolor\":\"white\",\"plot_bgcolor\":\"#E5ECF6\",\"polar\":{\"bgcolor\":\"#E5ECF6\",\"angularaxis\":{\"gridcolor\":\"white\",\"linecolor\":\"white\",\"ticks\":\"\"},\"radialaxis\":{\"gridcolor\":\"white\",\"linecolor\":\"white\",\"ticks\":\"\"}},\"ternary\":{\"bgcolor\":\"#E5ECF6\",\"aaxis\":{\"gridcolor\":\"white\",\"linecolor\":\"white\",\"ticks\":\"\"},\"baxis\":{\"gridcolor\":\"white\",\"linecolor\":\"white\",\"ticks\":\"\"},\"caxis\":{\"gridcolor\":\"white\",\"linecolor\":\"white\",\"ticks\":\"\"}},\"coloraxis\":{\"colorbar\":{\"outlinewidth\":0,\"ticks\":\"\"}},\"colorscale\":{\"sequential\":[[0.0,\"#0d0887\"],[0.1111111111111111,\"#46039f\"],[0.2222222222222222,\"#7201a8\"],[0.3333333333333333,\"#9c179e\"],[0.4444444444444444,\"#bd3786\"],[0.5555555555555556,\"#d8576b\"],[0.6666666666666666,\"#ed7953\"],[0.7777777777777778,\"#fb9f3a\"],[0.8888888888888888,\"#fdca26\"],[1.0,\"#f0f921\"]],\"sequentialminus\":[[0.0,\"#0d0887\"],[0.1111111111111111,\"#46039f\"],[0.2222222222222222,\"#7201a8\"],[0.3333333333333333,\"#9c179e\"],[0.4444444444444444,\"#bd3786\"],[0.5555555555555556,\"#d8576b\"],[0.6666666666666666,\"#ed7953\"],[0.7777777777777778,\"#fb9f3a\"],[0.8888888888888888,\"#fdca26\"],[1.0,\"#f0f921\"]],\"diverging\":[[0,\"#8e0152\"],[0.1,\"#c51b7d\"],[0.2,\"#de77ae\"],[0.3,\"#f1b6da\"],[0.4,\"#fde0ef\"],[0.5,\"#f7f7f7\"],[0.6,\"#e6f5d0\"],[0.7,\"#b8e186\"],[0.8,\"#7fbc41\"],[0.9,\"#4d9221\"],[1,\"#276419\"]]},\"xaxis\":{\"gridcolor\":\"white\",\"linecolor\":\"white\",\"ticks\":\"\",\"title\":{\"standoff\":15},\"zerolinecolor\":\"white\",\"automargin\":true,\"zerolinewidth\":2},\"yaxis\":{\"gridcolor\":\"white\",\"linecolor\":\"white\",\"ticks\":\"\",\"title\":{\"standoff\":15},\"zerolinecolor\":\"white\",\"automargin\":true,\"zerolinewidth\":2},\"scene\":{\"xaxis\":{\"backgroundcolor\":\"#E5ECF6\",\"gridcolor\":\"white\",\"linecolor\":\"white\",\"showbackground\":true,\"ticks\":\"\",\"zerolinecolor\":\"white\",\"gridwidth\":2},\"yaxis\":{\"backgroundcolor\":\"#E5ECF6\",\"gridcolor\":\"white\",\"linecolor\":\"white\",\"showbackground\":true,\"ticks\":\"\",\"zerolinecolor\":\"white\",\"gridwidth\":2},\"zaxis\":{\"backgroundcolor\":\"#E5ECF6\",\"gridcolor\":\"white\",\"linecolor\":\"white\",\"showbackground\":true,\"ticks\":\"\",\"zerolinecolor\":\"white\",\"gridwidth\":2}},\"shapedefaults\":{\"line\":{\"color\":\"#2a3f5f\"}},\"annotationdefaults\":{\"arrowcolor\":\"#2a3f5f\",\"arrowhead\":0,\"arrowwidth\":1},\"geo\":{\"bgcolor\":\"white\",\"landcolor\":\"#E5ECF6\",\"subunitcolor\":\"white\",\"showland\":true,\"showlakes\":true,\"lakecolor\":\"white\"},\"title\":{\"x\":0.05},\"mapbox\":{\"style\":\"light\"}}}},                        {\"responsive\": true}                    ).then(function(){\n",
       "                            \n",
       "var gd = document.getElementById('f624b46c-0e0e-47d6-8e09-15d38782e4ba');\n",
       "var x = new MutationObserver(function (mutations, observer) {{\n",
       "        var display = window.getComputedStyle(gd).display;\n",
       "        if (!display || display === 'none') {{\n",
       "            console.log([gd, 'removed!']);\n",
       "            Plotly.purge(gd);\n",
       "            observer.disconnect();\n",
       "        }}\n",
       "}});\n",
       "\n",
       "// Listen for the removal of the full notebook cells\n",
       "var notebookContainer = gd.closest('#notebook-container');\n",
       "if (notebookContainer) {{\n",
       "    x.observe(notebookContainer, {childList: true});\n",
       "}}\n",
       "\n",
       "// Listen for the clearing of the current output cell\n",
       "var outputEl = gd.closest('.output');\n",
       "if (outputEl) {{\n",
       "    x.observe(outputEl, {childList: true});\n",
       "}}\n",
       "\n",
       "                        })                };                });            </script>        </div>"
      ]
     },
     "metadata": {},
     "output_type": "display_data"
    },
    {
     "name": "stdout",
     "output_type": "stream",
     "text": [
      "\u001b[94mblue: input file\n",
      "\u001b[91mred: task node\n",
      "\u001b[97mgrey: read file i/o\n"
     ]
    }
   ],
   "source": [
    "num_rows_to_select = 10\n",
    "G_file = graph_by_table_with_top_x(G, df_file, f'access_size ({my_unit})', edges_to_collect=\"out\", count=num_rows_to_select)\n",
    "n_exp_file, node_ref_exp_file = get_nodes_for_sankey(G_file)\n",
    "l_exp_file = get_links_for_sankey(G_file, node_ref_exp_file)\n",
    "fig = go.Figure(go.Sankey(\n",
    "            node = n_exp_file,\n",
    "            link = l_exp_file, orientation='h'))\n",
    "\n",
    "\n",
    "printmd(f\"**<center>Top ranked Files ({num_rows_to_select} out of {len(df_file)})**\")\n",
    "fig.show()\n",
    "\n",
    "print(\"\\033[94mblue: input file\")\n",
    "print(\"\\033[91mred: task node\")\n",
    "print(\"\\033[97mgrey: read file i/o\")"
   ]
  },
  {
   "cell_type": "code",
   "execution_count": 40,
   "id": "47616e57",
   "metadata": {},
   "outputs": [
    {
     "data": {
      "text/markdown": [
       "**<center>Top ranked Tasks (3 out of 15)**"
      ],
      "text/plain": [
       "<IPython.core.display.Markdown object>"
      ]
     },
     "metadata": {},
     "output_type": "display_data"
    },
    {
     "data": {
      "application/vnd.plotly.v1+json": {
       "config": {
        "plotlyServerURL": "https://plot.ly"
       },
       "data": [
        {
         "link": {
          "source": [
           0,
           0,
           0,
           2,
           2,
           2,
           3,
           3,
           3,
           4,
           4,
           4,
           5,
           5,
           5,
           6,
           6,
           6,
           7,
           7,
           7,
           8,
           8,
           8,
           9,
           9,
           9,
           10,
           10,
           10,
           11,
           11,
           13,
           13
          ],
          "target": [
           1,
           12,
           14,
           1,
           12,
           14,
           1,
           12,
           14,
           1,
           12,
           14,
           1,
           12,
           14,
           1,
           12,
           14,
           1,
           12,
           14,
           1,
           12,
           14,
           1,
           12,
           14,
           1,
           12,
           14,
           12,
           14,
           12,
           14
          ],
          "value": [
           169768376,
           45342360,
           37545840,
           169899732,
           44973720,
           37545840,
           169966640,
           45293208,
           37545840,
           169400028,
           45330072,
           37545840,
           169677436,
           45338264,
           37545840,
           169279588,
           45325976,
           37545840,
           169633848,
           45117080,
           37545840,
           169614148,
           45338264,
           37545840,
           169725580,
           45502104,
           37545840,
           169152624,
           44412568,
           37545840,
           45325976,
           37549888,
           45756056,
           37545840
          ]
         },
         "node": {
          "color": [
           "blue",
           "red",
           "blue",
           "blue",
           "blue",
           "blue",
           "blue",
           "blue",
           "blue",
           "blue",
           "blue",
           "blue",
           "red",
           "blue",
           "red"
          ],
          "label": [
           "stage0000_task0002.h5",
           "train_py (ID0000014)",
           "stage0000_task0003.h5",
           "stage0000_task0004.h5",
           "stage0000_task0005.h5",
           "stage0000_task0006.h5",
           "stage0000_task0007.h5",
           "stage0000_task0008.h5",
           "stage0000_task0009.h5",
           "stage0000_task0010.h5",
           "stage0000_task0011.h5",
           "stage0000_task0000.h5",
           "aggregate_py (ID0000013)",
           "stage0000_task0001.h5",
           "lof_py (ID0000015)"
          ],
          "x": [],
          "y": []
         },
         "orientation": "h",
         "type": "sankey"
        }
       ],
       "layout": {
        "template": {
         "data": {
          "bar": [
           {
            "error_x": {
             "color": "#2a3f5f"
            },
            "error_y": {
             "color": "#2a3f5f"
            },
            "marker": {
             "line": {
              "color": "#E5ECF6",
              "width": 0.5
             },
             "pattern": {
              "fillmode": "overlay",
              "size": 10,
              "solidity": 0.2
             }
            },
            "type": "bar"
           }
          ],
          "barpolar": [
           {
            "marker": {
             "line": {
              "color": "#E5ECF6",
              "width": 0.5
             },
             "pattern": {
              "fillmode": "overlay",
              "size": 10,
              "solidity": 0.2
             }
            },
            "type": "barpolar"
           }
          ],
          "carpet": [
           {
            "aaxis": {
             "endlinecolor": "#2a3f5f",
             "gridcolor": "white",
             "linecolor": "white",
             "minorgridcolor": "white",
             "startlinecolor": "#2a3f5f"
            },
            "baxis": {
             "endlinecolor": "#2a3f5f",
             "gridcolor": "white",
             "linecolor": "white",
             "minorgridcolor": "white",
             "startlinecolor": "#2a3f5f"
            },
            "type": "carpet"
           }
          ],
          "choropleth": [
           {
            "colorbar": {
             "outlinewidth": 0,
             "ticks": ""
            },
            "type": "choropleth"
           }
          ],
          "contour": [
           {
            "colorbar": {
             "outlinewidth": 0,
             "ticks": ""
            },
            "colorscale": [
             [
              0,
              "#0d0887"
             ],
             [
              0.1111111111111111,
              "#46039f"
             ],
             [
              0.2222222222222222,
              "#7201a8"
             ],
             [
              0.3333333333333333,
              "#9c179e"
             ],
             [
              0.4444444444444444,
              "#bd3786"
             ],
             [
              0.5555555555555556,
              "#d8576b"
             ],
             [
              0.6666666666666666,
              "#ed7953"
             ],
             [
              0.7777777777777778,
              "#fb9f3a"
             ],
             [
              0.8888888888888888,
              "#fdca26"
             ],
             [
              1,
              "#f0f921"
             ]
            ],
            "type": "contour"
           }
          ],
          "contourcarpet": [
           {
            "colorbar": {
             "outlinewidth": 0,
             "ticks": ""
            },
            "type": "contourcarpet"
           }
          ],
          "heatmap": [
           {
            "colorbar": {
             "outlinewidth": 0,
             "ticks": ""
            },
            "colorscale": [
             [
              0,
              "#0d0887"
             ],
             [
              0.1111111111111111,
              "#46039f"
             ],
             [
              0.2222222222222222,
              "#7201a8"
             ],
             [
              0.3333333333333333,
              "#9c179e"
             ],
             [
              0.4444444444444444,
              "#bd3786"
             ],
             [
              0.5555555555555556,
              "#d8576b"
             ],
             [
              0.6666666666666666,
              "#ed7953"
             ],
             [
              0.7777777777777778,
              "#fb9f3a"
             ],
             [
              0.8888888888888888,
              "#fdca26"
             ],
             [
              1,
              "#f0f921"
             ]
            ],
            "type": "heatmap"
           }
          ],
          "heatmapgl": [
           {
            "colorbar": {
             "outlinewidth": 0,
             "ticks": ""
            },
            "colorscale": [
             [
              0,
              "#0d0887"
             ],
             [
              0.1111111111111111,
              "#46039f"
             ],
             [
              0.2222222222222222,
              "#7201a8"
             ],
             [
              0.3333333333333333,
              "#9c179e"
             ],
             [
              0.4444444444444444,
              "#bd3786"
             ],
             [
              0.5555555555555556,
              "#d8576b"
             ],
             [
              0.6666666666666666,
              "#ed7953"
             ],
             [
              0.7777777777777778,
              "#fb9f3a"
             ],
             [
              0.8888888888888888,
              "#fdca26"
             ],
             [
              1,
              "#f0f921"
             ]
            ],
            "type": "heatmapgl"
           }
          ],
          "histogram": [
           {
            "marker": {
             "pattern": {
              "fillmode": "overlay",
              "size": 10,
              "solidity": 0.2
             }
            },
            "type": "histogram"
           }
          ],
          "histogram2d": [
           {
            "colorbar": {
             "outlinewidth": 0,
             "ticks": ""
            },
            "colorscale": [
             [
              0,
              "#0d0887"
             ],
             [
              0.1111111111111111,
              "#46039f"
             ],
             [
              0.2222222222222222,
              "#7201a8"
             ],
             [
              0.3333333333333333,
              "#9c179e"
             ],
             [
              0.4444444444444444,
              "#bd3786"
             ],
             [
              0.5555555555555556,
              "#d8576b"
             ],
             [
              0.6666666666666666,
              "#ed7953"
             ],
             [
              0.7777777777777778,
              "#fb9f3a"
             ],
             [
              0.8888888888888888,
              "#fdca26"
             ],
             [
              1,
              "#f0f921"
             ]
            ],
            "type": "histogram2d"
           }
          ],
          "histogram2dcontour": [
           {
            "colorbar": {
             "outlinewidth": 0,
             "ticks": ""
            },
            "colorscale": [
             [
              0,
              "#0d0887"
             ],
             [
              0.1111111111111111,
              "#46039f"
             ],
             [
              0.2222222222222222,
              "#7201a8"
             ],
             [
              0.3333333333333333,
              "#9c179e"
             ],
             [
              0.4444444444444444,
              "#bd3786"
             ],
             [
              0.5555555555555556,
              "#d8576b"
             ],
             [
              0.6666666666666666,
              "#ed7953"
             ],
             [
              0.7777777777777778,
              "#fb9f3a"
             ],
             [
              0.8888888888888888,
              "#fdca26"
             ],
             [
              1,
              "#f0f921"
             ]
            ],
            "type": "histogram2dcontour"
           }
          ],
          "mesh3d": [
           {
            "colorbar": {
             "outlinewidth": 0,
             "ticks": ""
            },
            "type": "mesh3d"
           }
          ],
          "parcoords": [
           {
            "line": {
             "colorbar": {
              "outlinewidth": 0,
              "ticks": ""
             }
            },
            "type": "parcoords"
           }
          ],
          "pie": [
           {
            "automargin": true,
            "type": "pie"
           }
          ],
          "scatter": [
           {
            "fillpattern": {
             "fillmode": "overlay",
             "size": 10,
             "solidity": 0.2
            },
            "type": "scatter"
           }
          ],
          "scatter3d": [
           {
            "line": {
             "colorbar": {
              "outlinewidth": 0,
              "ticks": ""
             }
            },
            "marker": {
             "colorbar": {
              "outlinewidth": 0,
              "ticks": ""
             }
            },
            "type": "scatter3d"
           }
          ],
          "scattercarpet": [
           {
            "marker": {
             "colorbar": {
              "outlinewidth": 0,
              "ticks": ""
             }
            },
            "type": "scattercarpet"
           }
          ],
          "scattergeo": [
           {
            "marker": {
             "colorbar": {
              "outlinewidth": 0,
              "ticks": ""
             }
            },
            "type": "scattergeo"
           }
          ],
          "scattergl": [
           {
            "marker": {
             "colorbar": {
              "outlinewidth": 0,
              "ticks": ""
             }
            },
            "type": "scattergl"
           }
          ],
          "scattermapbox": [
           {
            "marker": {
             "colorbar": {
              "outlinewidth": 0,
              "ticks": ""
             }
            },
            "type": "scattermapbox"
           }
          ],
          "scatterpolar": [
           {
            "marker": {
             "colorbar": {
              "outlinewidth": 0,
              "ticks": ""
             }
            },
            "type": "scatterpolar"
           }
          ],
          "scatterpolargl": [
           {
            "marker": {
             "colorbar": {
              "outlinewidth": 0,
              "ticks": ""
             }
            },
            "type": "scatterpolargl"
           }
          ],
          "scatterternary": [
           {
            "marker": {
             "colorbar": {
              "outlinewidth": 0,
              "ticks": ""
             }
            },
            "type": "scatterternary"
           }
          ],
          "surface": [
           {
            "colorbar": {
             "outlinewidth": 0,
             "ticks": ""
            },
            "colorscale": [
             [
              0,
              "#0d0887"
             ],
             [
              0.1111111111111111,
              "#46039f"
             ],
             [
              0.2222222222222222,
              "#7201a8"
             ],
             [
              0.3333333333333333,
              "#9c179e"
             ],
             [
              0.4444444444444444,
              "#bd3786"
             ],
             [
              0.5555555555555556,
              "#d8576b"
             ],
             [
              0.6666666666666666,
              "#ed7953"
             ],
             [
              0.7777777777777778,
              "#fb9f3a"
             ],
             [
              0.8888888888888888,
              "#fdca26"
             ],
             [
              1,
              "#f0f921"
             ]
            ],
            "type": "surface"
           }
          ],
          "table": [
           {
            "cells": {
             "fill": {
              "color": "#EBF0F8"
             },
             "line": {
              "color": "white"
             }
            },
            "header": {
             "fill": {
              "color": "#C8D4E3"
             },
             "line": {
              "color": "white"
             }
            },
            "type": "table"
           }
          ]
         },
         "layout": {
          "annotationdefaults": {
           "arrowcolor": "#2a3f5f",
           "arrowhead": 0,
           "arrowwidth": 1
          },
          "autotypenumbers": "strict",
          "coloraxis": {
           "colorbar": {
            "outlinewidth": 0,
            "ticks": ""
           }
          },
          "colorscale": {
           "diverging": [
            [
             0,
             "#8e0152"
            ],
            [
             0.1,
             "#c51b7d"
            ],
            [
             0.2,
             "#de77ae"
            ],
            [
             0.3,
             "#f1b6da"
            ],
            [
             0.4,
             "#fde0ef"
            ],
            [
             0.5,
             "#f7f7f7"
            ],
            [
             0.6,
             "#e6f5d0"
            ],
            [
             0.7,
             "#b8e186"
            ],
            [
             0.8,
             "#7fbc41"
            ],
            [
             0.9,
             "#4d9221"
            ],
            [
             1,
             "#276419"
            ]
           ],
           "sequential": [
            [
             0,
             "#0d0887"
            ],
            [
             0.1111111111111111,
             "#46039f"
            ],
            [
             0.2222222222222222,
             "#7201a8"
            ],
            [
             0.3333333333333333,
             "#9c179e"
            ],
            [
             0.4444444444444444,
             "#bd3786"
            ],
            [
             0.5555555555555556,
             "#d8576b"
            ],
            [
             0.6666666666666666,
             "#ed7953"
            ],
            [
             0.7777777777777778,
             "#fb9f3a"
            ],
            [
             0.8888888888888888,
             "#fdca26"
            ],
            [
             1,
             "#f0f921"
            ]
           ],
           "sequentialminus": [
            [
             0,
             "#0d0887"
            ],
            [
             0.1111111111111111,
             "#46039f"
            ],
            [
             0.2222222222222222,
             "#7201a8"
            ],
            [
             0.3333333333333333,
             "#9c179e"
            ],
            [
             0.4444444444444444,
             "#bd3786"
            ],
            [
             0.5555555555555556,
             "#d8576b"
            ],
            [
             0.6666666666666666,
             "#ed7953"
            ],
            [
             0.7777777777777778,
             "#fb9f3a"
            ],
            [
             0.8888888888888888,
             "#fdca26"
            ],
            [
             1,
             "#f0f921"
            ]
           ]
          },
          "colorway": [
           "#636efa",
           "#EF553B",
           "#00cc96",
           "#ab63fa",
           "#FFA15A",
           "#19d3f3",
           "#FF6692",
           "#B6E880",
           "#FF97FF",
           "#FECB52"
          ],
          "font": {
           "color": "#2a3f5f"
          },
          "geo": {
           "bgcolor": "white",
           "lakecolor": "white",
           "landcolor": "#E5ECF6",
           "showlakes": true,
           "showland": true,
           "subunitcolor": "white"
          },
          "hoverlabel": {
           "align": "left"
          },
          "hovermode": "closest",
          "mapbox": {
           "style": "light"
          },
          "paper_bgcolor": "white",
          "plot_bgcolor": "#E5ECF6",
          "polar": {
           "angularaxis": {
            "gridcolor": "white",
            "linecolor": "white",
            "ticks": ""
           },
           "bgcolor": "#E5ECF6",
           "radialaxis": {
            "gridcolor": "white",
            "linecolor": "white",
            "ticks": ""
           }
          },
          "scene": {
           "xaxis": {
            "backgroundcolor": "#E5ECF6",
            "gridcolor": "white",
            "gridwidth": 2,
            "linecolor": "white",
            "showbackground": true,
            "ticks": "",
            "zerolinecolor": "white"
           },
           "yaxis": {
            "backgroundcolor": "#E5ECF6",
            "gridcolor": "white",
            "gridwidth": 2,
            "linecolor": "white",
            "showbackground": true,
            "ticks": "",
            "zerolinecolor": "white"
           },
           "zaxis": {
            "backgroundcolor": "#E5ECF6",
            "gridcolor": "white",
            "gridwidth": 2,
            "linecolor": "white",
            "showbackground": true,
            "ticks": "",
            "zerolinecolor": "white"
           }
          },
          "shapedefaults": {
           "line": {
            "color": "#2a3f5f"
           }
          },
          "ternary": {
           "aaxis": {
            "gridcolor": "white",
            "linecolor": "white",
            "ticks": ""
           },
           "baxis": {
            "gridcolor": "white",
            "linecolor": "white",
            "ticks": ""
           },
           "bgcolor": "#E5ECF6",
           "caxis": {
            "gridcolor": "white",
            "linecolor": "white",
            "ticks": ""
           }
          },
          "title": {
           "x": 0.05
          },
          "xaxis": {
           "automargin": true,
           "gridcolor": "white",
           "linecolor": "white",
           "ticks": "",
           "title": {
            "standoff": 15
           },
           "zerolinecolor": "white",
           "zerolinewidth": 2
          },
          "yaxis": {
           "automargin": true,
           "gridcolor": "white",
           "linecolor": "white",
           "ticks": "",
           "title": {
            "standoff": 15
           },
           "zerolinecolor": "white",
           "zerolinewidth": 2
          }
         }
        }
       }
      },
      "text/html": [
       "<div>                            <div id=\"f5d43bd6-13b5-4e07-a3dc-2e10e41cbc8b\" class=\"plotly-graph-div\" style=\"height:525px; width:100%;\"></div>            <script type=\"text/javascript\">                require([\"plotly\"], function(Plotly) {                    window.PLOTLYENV=window.PLOTLYENV || {};                                    if (document.getElementById(\"f5d43bd6-13b5-4e07-a3dc-2e10e41cbc8b\")) {                    Plotly.newPlot(                        \"f5d43bd6-13b5-4e07-a3dc-2e10e41cbc8b\",                        [{\"link\":{\"source\":[0,0,0,2,2,2,3,3,3,4,4,4,5,5,5,6,6,6,7,7,7,8,8,8,9,9,9,10,10,10,11,11,13,13],\"target\":[1,12,14,1,12,14,1,12,14,1,12,14,1,12,14,1,12,14,1,12,14,1,12,14,1,12,14,1,12,14,12,14,12,14],\"value\":[169768376,45342360,37545840,169899732,44973720,37545840,169966640,45293208,37545840,169400028,45330072,37545840,169677436,45338264,37545840,169279588,45325976,37545840,169633848,45117080,37545840,169614148,45338264,37545840,169725580,45502104,37545840,169152624,44412568,37545840,45325976,37549888,45756056,37545840]},\"node\":{\"color\":[\"blue\",\"red\",\"blue\",\"blue\",\"blue\",\"blue\",\"blue\",\"blue\",\"blue\",\"blue\",\"blue\",\"blue\",\"red\",\"blue\",\"red\"],\"label\":[\"stage0000_task0002.h5\",\"train_py (ID0000014)\",\"stage0000_task0003.h5\",\"stage0000_task0004.h5\",\"stage0000_task0005.h5\",\"stage0000_task0006.h5\",\"stage0000_task0007.h5\",\"stage0000_task0008.h5\",\"stage0000_task0009.h5\",\"stage0000_task0010.h5\",\"stage0000_task0011.h5\",\"stage0000_task0000.h5\",\"aggregate_py (ID0000013)\",\"stage0000_task0001.h5\",\"lof_py (ID0000015)\"],\"x\":[],\"y\":[]},\"orientation\":\"h\",\"type\":\"sankey\"}],                        {\"template\":{\"data\":{\"histogram2dcontour\":[{\"type\":\"histogram2dcontour\",\"colorbar\":{\"outlinewidth\":0,\"ticks\":\"\"},\"colorscale\":[[0.0,\"#0d0887\"],[0.1111111111111111,\"#46039f\"],[0.2222222222222222,\"#7201a8\"],[0.3333333333333333,\"#9c179e\"],[0.4444444444444444,\"#bd3786\"],[0.5555555555555556,\"#d8576b\"],[0.6666666666666666,\"#ed7953\"],[0.7777777777777778,\"#fb9f3a\"],[0.8888888888888888,\"#fdca26\"],[1.0,\"#f0f921\"]]}],\"choropleth\":[{\"type\":\"choropleth\",\"colorbar\":{\"outlinewidth\":0,\"ticks\":\"\"}}],\"histogram2d\":[{\"type\":\"histogram2d\",\"colorbar\":{\"outlinewidth\":0,\"ticks\":\"\"},\"colorscale\":[[0.0,\"#0d0887\"],[0.1111111111111111,\"#46039f\"],[0.2222222222222222,\"#7201a8\"],[0.3333333333333333,\"#9c179e\"],[0.4444444444444444,\"#bd3786\"],[0.5555555555555556,\"#d8576b\"],[0.6666666666666666,\"#ed7953\"],[0.7777777777777778,\"#fb9f3a\"],[0.8888888888888888,\"#fdca26\"],[1.0,\"#f0f921\"]]}],\"heatmap\":[{\"type\":\"heatmap\",\"colorbar\":{\"outlinewidth\":0,\"ticks\":\"\"},\"colorscale\":[[0.0,\"#0d0887\"],[0.1111111111111111,\"#46039f\"],[0.2222222222222222,\"#7201a8\"],[0.3333333333333333,\"#9c179e\"],[0.4444444444444444,\"#bd3786\"],[0.5555555555555556,\"#d8576b\"],[0.6666666666666666,\"#ed7953\"],[0.7777777777777778,\"#fb9f3a\"],[0.8888888888888888,\"#fdca26\"],[1.0,\"#f0f921\"]]}],\"heatmapgl\":[{\"type\":\"heatmapgl\",\"colorbar\":{\"outlinewidth\":0,\"ticks\":\"\"},\"colorscale\":[[0.0,\"#0d0887\"],[0.1111111111111111,\"#46039f\"],[0.2222222222222222,\"#7201a8\"],[0.3333333333333333,\"#9c179e\"],[0.4444444444444444,\"#bd3786\"],[0.5555555555555556,\"#d8576b\"],[0.6666666666666666,\"#ed7953\"],[0.7777777777777778,\"#fb9f3a\"],[0.8888888888888888,\"#fdca26\"],[1.0,\"#f0f921\"]]}],\"contourcarpet\":[{\"type\":\"contourcarpet\",\"colorbar\":{\"outlinewidth\":0,\"ticks\":\"\"}}],\"contour\":[{\"type\":\"contour\",\"colorbar\":{\"outlinewidth\":0,\"ticks\":\"\"},\"colorscale\":[[0.0,\"#0d0887\"],[0.1111111111111111,\"#46039f\"],[0.2222222222222222,\"#7201a8\"],[0.3333333333333333,\"#9c179e\"],[0.4444444444444444,\"#bd3786\"],[0.5555555555555556,\"#d8576b\"],[0.6666666666666666,\"#ed7953\"],[0.7777777777777778,\"#fb9f3a\"],[0.8888888888888888,\"#fdca26\"],[1.0,\"#f0f921\"]]}],\"surface\":[{\"type\":\"surface\",\"colorbar\":{\"outlinewidth\":0,\"ticks\":\"\"},\"colorscale\":[[0.0,\"#0d0887\"],[0.1111111111111111,\"#46039f\"],[0.2222222222222222,\"#7201a8\"],[0.3333333333333333,\"#9c179e\"],[0.4444444444444444,\"#bd3786\"],[0.5555555555555556,\"#d8576b\"],[0.6666666666666666,\"#ed7953\"],[0.7777777777777778,\"#fb9f3a\"],[0.8888888888888888,\"#fdca26\"],[1.0,\"#f0f921\"]]}],\"mesh3d\":[{\"type\":\"mesh3d\",\"colorbar\":{\"outlinewidth\":0,\"ticks\":\"\"}}],\"scatter\":[{\"fillpattern\":{\"fillmode\":\"overlay\",\"size\":10,\"solidity\":0.2},\"type\":\"scatter\"}],\"parcoords\":[{\"type\":\"parcoords\",\"line\":{\"colorbar\":{\"outlinewidth\":0,\"ticks\":\"\"}}}],\"scatterpolargl\":[{\"type\":\"scatterpolargl\",\"marker\":{\"colorbar\":{\"outlinewidth\":0,\"ticks\":\"\"}}}],\"bar\":[{\"error_x\":{\"color\":\"#2a3f5f\"},\"error_y\":{\"color\":\"#2a3f5f\"},\"marker\":{\"line\":{\"color\":\"#E5ECF6\",\"width\":0.5},\"pattern\":{\"fillmode\":\"overlay\",\"size\":10,\"solidity\":0.2}},\"type\":\"bar\"}],\"scattergeo\":[{\"type\":\"scattergeo\",\"marker\":{\"colorbar\":{\"outlinewidth\":0,\"ticks\":\"\"}}}],\"scatterpolar\":[{\"type\":\"scatterpolar\",\"marker\":{\"colorbar\":{\"outlinewidth\":0,\"ticks\":\"\"}}}],\"histogram\":[{\"marker\":{\"pattern\":{\"fillmode\":\"overlay\",\"size\":10,\"solidity\":0.2}},\"type\":\"histogram\"}],\"scattergl\":[{\"type\":\"scattergl\",\"marker\":{\"colorbar\":{\"outlinewidth\":0,\"ticks\":\"\"}}}],\"scatter3d\":[{\"type\":\"scatter3d\",\"line\":{\"colorbar\":{\"outlinewidth\":0,\"ticks\":\"\"}},\"marker\":{\"colorbar\":{\"outlinewidth\":0,\"ticks\":\"\"}}}],\"scattermapbox\":[{\"type\":\"scattermapbox\",\"marker\":{\"colorbar\":{\"outlinewidth\":0,\"ticks\":\"\"}}}],\"scatterternary\":[{\"type\":\"scatterternary\",\"marker\":{\"colorbar\":{\"outlinewidth\":0,\"ticks\":\"\"}}}],\"scattercarpet\":[{\"type\":\"scattercarpet\",\"marker\":{\"colorbar\":{\"outlinewidth\":0,\"ticks\":\"\"}}}],\"carpet\":[{\"aaxis\":{\"endlinecolor\":\"#2a3f5f\",\"gridcolor\":\"white\",\"linecolor\":\"white\",\"minorgridcolor\":\"white\",\"startlinecolor\":\"#2a3f5f\"},\"baxis\":{\"endlinecolor\":\"#2a3f5f\",\"gridcolor\":\"white\",\"linecolor\":\"white\",\"minorgridcolor\":\"white\",\"startlinecolor\":\"#2a3f5f\"},\"type\":\"carpet\"}],\"table\":[{\"cells\":{\"fill\":{\"color\":\"#EBF0F8\"},\"line\":{\"color\":\"white\"}},\"header\":{\"fill\":{\"color\":\"#C8D4E3\"},\"line\":{\"color\":\"white\"}},\"type\":\"table\"}],\"barpolar\":[{\"marker\":{\"line\":{\"color\":\"#E5ECF6\",\"width\":0.5},\"pattern\":{\"fillmode\":\"overlay\",\"size\":10,\"solidity\":0.2}},\"type\":\"barpolar\"}],\"pie\":[{\"automargin\":true,\"type\":\"pie\"}]},\"layout\":{\"autotypenumbers\":\"strict\",\"colorway\":[\"#636efa\",\"#EF553B\",\"#00cc96\",\"#ab63fa\",\"#FFA15A\",\"#19d3f3\",\"#FF6692\",\"#B6E880\",\"#FF97FF\",\"#FECB52\"],\"font\":{\"color\":\"#2a3f5f\"},\"hovermode\":\"closest\",\"hoverlabel\":{\"align\":\"left\"},\"paper_bgcolor\":\"white\",\"plot_bgcolor\":\"#E5ECF6\",\"polar\":{\"bgcolor\":\"#E5ECF6\",\"angularaxis\":{\"gridcolor\":\"white\",\"linecolor\":\"white\",\"ticks\":\"\"},\"radialaxis\":{\"gridcolor\":\"white\",\"linecolor\":\"white\",\"ticks\":\"\"}},\"ternary\":{\"bgcolor\":\"#E5ECF6\",\"aaxis\":{\"gridcolor\":\"white\",\"linecolor\":\"white\",\"ticks\":\"\"},\"baxis\":{\"gridcolor\":\"white\",\"linecolor\":\"white\",\"ticks\":\"\"},\"caxis\":{\"gridcolor\":\"white\",\"linecolor\":\"white\",\"ticks\":\"\"}},\"coloraxis\":{\"colorbar\":{\"outlinewidth\":0,\"ticks\":\"\"}},\"colorscale\":{\"sequential\":[[0.0,\"#0d0887\"],[0.1111111111111111,\"#46039f\"],[0.2222222222222222,\"#7201a8\"],[0.3333333333333333,\"#9c179e\"],[0.4444444444444444,\"#bd3786\"],[0.5555555555555556,\"#d8576b\"],[0.6666666666666666,\"#ed7953\"],[0.7777777777777778,\"#fb9f3a\"],[0.8888888888888888,\"#fdca26\"],[1.0,\"#f0f921\"]],\"sequentialminus\":[[0.0,\"#0d0887\"],[0.1111111111111111,\"#46039f\"],[0.2222222222222222,\"#7201a8\"],[0.3333333333333333,\"#9c179e\"],[0.4444444444444444,\"#bd3786\"],[0.5555555555555556,\"#d8576b\"],[0.6666666666666666,\"#ed7953\"],[0.7777777777777778,\"#fb9f3a\"],[0.8888888888888888,\"#fdca26\"],[1.0,\"#f0f921\"]],\"diverging\":[[0,\"#8e0152\"],[0.1,\"#c51b7d\"],[0.2,\"#de77ae\"],[0.3,\"#f1b6da\"],[0.4,\"#fde0ef\"],[0.5,\"#f7f7f7\"],[0.6,\"#e6f5d0\"],[0.7,\"#b8e186\"],[0.8,\"#7fbc41\"],[0.9,\"#4d9221\"],[1,\"#276419\"]]},\"xaxis\":{\"gridcolor\":\"white\",\"linecolor\":\"white\",\"ticks\":\"\",\"title\":{\"standoff\":15},\"zerolinecolor\":\"white\",\"automargin\":true,\"zerolinewidth\":2},\"yaxis\":{\"gridcolor\":\"white\",\"linecolor\":\"white\",\"ticks\":\"\",\"title\":{\"standoff\":15},\"zerolinecolor\":\"white\",\"automargin\":true,\"zerolinewidth\":2},\"scene\":{\"xaxis\":{\"backgroundcolor\":\"#E5ECF6\",\"gridcolor\":\"white\",\"linecolor\":\"white\",\"showbackground\":true,\"ticks\":\"\",\"zerolinecolor\":\"white\",\"gridwidth\":2},\"yaxis\":{\"backgroundcolor\":\"#E5ECF6\",\"gridcolor\":\"white\",\"linecolor\":\"white\",\"showbackground\":true,\"ticks\":\"\",\"zerolinecolor\":\"white\",\"gridwidth\":2},\"zaxis\":{\"backgroundcolor\":\"#E5ECF6\",\"gridcolor\":\"white\",\"linecolor\":\"white\",\"showbackground\":true,\"ticks\":\"\",\"zerolinecolor\":\"white\",\"gridwidth\":2}},\"shapedefaults\":{\"line\":{\"color\":\"#2a3f5f\"}},\"annotationdefaults\":{\"arrowcolor\":\"#2a3f5f\",\"arrowhead\":0,\"arrowwidth\":1},\"geo\":{\"bgcolor\":\"white\",\"landcolor\":\"#E5ECF6\",\"subunitcolor\":\"white\",\"showland\":true,\"showlakes\":true,\"lakecolor\":\"white\"},\"title\":{\"x\":0.05},\"mapbox\":{\"style\":\"light\"}}}},                        {\"responsive\": true}                    ).then(function(){\n",
       "                            \n",
       "var gd = document.getElementById('f5d43bd6-13b5-4e07-a3dc-2e10e41cbc8b');\n",
       "var x = new MutationObserver(function (mutations, observer) {{\n",
       "        var display = window.getComputedStyle(gd).display;\n",
       "        if (!display || display === 'none') {{\n",
       "            console.log([gd, 'removed!']);\n",
       "            Plotly.purge(gd);\n",
       "            observer.disconnect();\n",
       "        }}\n",
       "}});\n",
       "\n",
       "// Listen for the removal of the full notebook cells\n",
       "var notebookContainer = gd.closest('#notebook-container');\n",
       "if (notebookContainer) {{\n",
       "    x.observe(notebookContainer, {childList: true});\n",
       "}}\n",
       "\n",
       "// Listen for the clearing of the current output cell\n",
       "var outputEl = gd.closest('.output');\n",
       "if (outputEl) {{\n",
       "    x.observe(outputEl, {childList: true});\n",
       "}}\n",
       "\n",
       "                        })                };                });            </script>        </div>"
      ]
     },
     "metadata": {},
     "output_type": "display_data"
    },
    {
     "name": "stdout",
     "output_type": "stream",
     "text": [
      "\u001b[94mblue: input file\n",
      "\u001b[91mred: task node\n",
      "\u001b[97mgrey: read file i/o\n"
     ]
    }
   ],
   "source": [
    "num_rows_to_select=3\n",
    "\n",
    "G_task = graph_by_table_with_top_x(G, df_task, f'access_size ({my_unit})', edges_to_collect=\"in\", count=num_rows_to_select)\n",
    "n_exp_task, node_ref_exp_task = get_nodes_for_sankey(G_task)\n",
    "l_exp_task = get_links_for_sankey(G_task, node_ref_exp_task)\n",
    "fig = go.Figure(go.Sankey(\n",
    "            node = n_exp_task,\n",
    "            link = l_exp_task, orientation='h'))\n",
    "\n",
    "printmd(f\"**<center>Top ranked Tasks ({num_rows_to_select} out of {len(df_task)})**\")\n",
    "fig.show()\n",
    "\n",
    "print(\"\\033[94mblue: input file\")\n",
    "print(\"\\033[91mred: task node\")\n",
    "print(\"\\033[97mgrey: read file i/o\")"
   ]
  },
  {
   "cell_type": "code",
   "execution_count": 41,
   "id": "7933a730",
   "metadata": {},
   "outputs": [
    {
     "data": {
      "text/html": [
       "<div>\n",
       "<style scoped>\n",
       "    .dataframe tbody tr th:only-of-type {\n",
       "        vertical-align: middle;\n",
       "    }\n",
       "\n",
       "    .dataframe tbody tr th {\n",
       "        vertical-align: top;\n",
       "    }\n",
       "\n",
       "    .dataframe thead th {\n",
       "        text-align: right;\n",
       "    }\n",
       "</style>\n",
       "<table border=\"1\" class=\"dataframe\">\n",
       "  <thead>\n",
       "    <tr style=\"text-align: right;\">\n",
       "      <th></th>\n",
       "      <th>node (task)</th>\n",
       "      <th>access_size (byte)</th>\n",
       "    </tr>\n",
       "  </thead>\n",
       "  <tbody>\n",
       "    <tr>\n",
       "      <th>13</th>\n",
       "      <td>train_py (ID0000014)</td>\n",
       "      <td>1.696118e+09</td>\n",
       "    </tr>\n",
       "    <tr>\n",
       "      <th>12</th>\n",
       "      <td>aggregate_py (ID0000013)</td>\n",
       "      <td>5.430556e+08</td>\n",
       "    </tr>\n",
       "    <tr>\n",
       "      <th>14</th>\n",
       "      <td>lof_py (ID0000015)</td>\n",
       "      <td>4.505541e+08</td>\n",
       "    </tr>\n",
       "  </tbody>\n",
       "</table>\n",
       "</div>"
      ],
      "text/plain": [
       "                 node (task)  access_size (byte)\n",
       "13      train_py (ID0000014)        1.696118e+09\n",
       "12  aggregate_py (ID0000013)        5.430556e+08\n",
       "14        lof_py (ID0000015)        4.505541e+08"
      ]
     },
     "execution_count": 41,
     "metadata": {},
     "output_type": "execute_result"
    }
   ],
   "source": [
    "df_task.sort_values(by=f'access_size ({my_unit})', ascending=False)[0:3]"
   ]
  }
 ],
 "metadata": {
  "kernelspec": {
   "display_name": "Python 3",
   "language": "python",
   "name": "python3"
  },
  "language_info": {
   "codemirror_mode": {
    "name": "ipython",
    "version": 3
   },
   "file_extension": ".py",
   "mimetype": "text/x-python",
   "name": "python",
   "nbconvert_exporter": "python",
   "pygments_lexer": "ipython3",
   "version": "3.7.13"
  }
 },
 "nbformat": 4,
 "nbformat_minor": 5
}

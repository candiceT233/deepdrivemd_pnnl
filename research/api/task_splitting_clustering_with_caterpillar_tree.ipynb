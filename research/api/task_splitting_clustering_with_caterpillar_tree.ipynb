{
 "cells": [
  {
   "cell_type": "code",
   "execution_count": 1,
   "id": "960e8189",
   "metadata": {},
   "outputs": [],
   "source": [
    "import networkx as nx\n",
    "import matplotlib.pyplot as plt"
   ]
  },
  {
   "cell_type": "code",
   "execution_count": 2,
   "id": "fe94e6c2",
   "metadata": {},
   "outputs": [],
   "source": [
    "G1=nx.DiGraph()"
   ]
  },
  {
   "cell_type": "code",
   "execution_count": 3,
   "id": "0ec42edc",
   "metadata": {},
   "outputs": [],
   "source": [
    "G1.add_nodes_from(list(range(1, 12)))"
   ]
  },
  {
   "cell_type": "code",
   "execution_count": 4,
   "id": "8141e861",
   "metadata": {},
   "outputs": [
    {
     "data": {
      "text/plain": [
       "NodeView((1, 2, 3, 4, 5, 6, 7, 8, 9, 10, 11))"
      ]
     },
     "execution_count": 4,
     "metadata": {},
     "output_type": "execute_result"
    }
   ],
   "source": [
    "G1.nodes()"
   ]
  },
  {
   "cell_type": "code",
   "execution_count": 5,
   "id": "c3075f45",
   "metadata": {},
   "outputs": [
    {
     "data": {
      "text/plain": [
       "OutEdgeView([(1, 2), (1, 3), (1, 4), (1, 5), (2, 6), (3, 7), (4, 8), (5, 9), (6, 10), (7, 10), (8, 10), (9, 10), (10, 11)])"
      ]
     },
     "execution_count": 5,
     "metadata": {},
     "output_type": "execute_result"
    }
   ],
   "source": [
    "G1.add_edge(1, 2, weight = 2.0)\n",
    "G1.add_edge(1, 3, weight = 4.0)\n",
    "G1.add_edge(1, 4, weight = 3.0)\n",
    "G1.add_edge(1, 5, weight = 2.3)\n",
    "G1.add_edge(2, 6, weight = 1.0)\n",
    "G1.add_edge(3, 7, weight = 4.0)\n",
    "G1.add_edge(4, 8, weight = 2.0)\n",
    "G1.add_edge(5, 9, weight = 2.0)\n",
    "G1.add_edge(6, 10, weight = 2.0)\n",
    "G1.add_edge(7, 10, weight = 3.0)\n",
    "G1.add_edge(8, 10, weight = 1.0)\n",
    "G1.add_edge(9, 10, weight = 3.0)\n",
    "G1.add_edge(10, 11, weight = 2.0)\n",
    "G1.edges()"
   ]
  },
  {
   "cell_type": "code",
   "execution_count": 6,
   "id": "4c79d9aa",
   "metadata": {},
   "outputs": [],
   "source": [
    "# set the coordinates of each node\n",
    "G1.add_node(1, pos=(0,0))\n",
    "G1.add_node(2, pos=(4,2))\n",
    "G1.add_node(3, pos=(4,1))\n",
    "G1.add_node(4, pos=(4,-1))\n",
    "G1.add_node(5, pos=(4,-2))\n",
    "G1.add_node(6, pos= (8,2))\n",
    "G1.add_node(7, pos= (8,1))\n",
    "G1.add_node(8, pos= (8,-1))\n",
    "G1.add_node(9, pos= (8,-2))\n",
    "G1.add_node(10, pos= (12,0))\n",
    "G1.add_node(11, pos= (16,0))\n",
    "# The positions of each node are stored in a dictionary\n",
    "node_pos=nx.get_node_attributes(G1,'pos')"
   ]
  },
  {
   "cell_type": "code",
   "execution_count": 7,
   "id": "a8cde4a2",
   "metadata": {},
   "outputs": [
    {
     "name": "stdout",
     "output_type": "stream",
     "text": [
      "task relation graph\n"
     ]
    },
    {
     "data": {
      "image/png": "[encoded data removed]",
      "text/plain": [
       "<Figure size 432x288 with 1 Axes>"
      ]
     },
     "metadata": {},
     "output_type": "display_data"
    },
    {
     "name": "stdout",
     "output_type": "stream",
     "text": [
      "edge labels: weight\n",
      "node in red: critical path\n"
     ]
    }
   ],
   "source": [
    "node_color_highlighted = 'red'\n",
    "node_color = 'gray'\n",
    "def draw_task_relation_graph_with_critical_path(G, cp, pos=None):\n",
    "    node_color_highlighted = 'red'\n",
    "    node_color = 'gray'\n",
    "    edge_color_highlighted = 'red'\n",
    "    edge_color = 'gray'\n",
    "    metric = 'weight'\n",
    "    # set the coordinates of each node\n",
    "    node_pos=nx.get_node_attributes(G, 'pos') or pos\n",
    "    # The edge attribute of each arcs are stored in a dictionary\n",
    "    arc_weight=nx.get_edge_attributes(G,metric)\n",
    "    colored_edges = list(zip(cp,cp[1:]))\n",
    "    # If the node is in the shortest path, set it to red, else set it to grey color\n",
    "    node_col = [node_color if not node in cp else node_color_highlighted for node in G.nodes()]\n",
    "    # If the edge is in the critical path, else set it to white color\n",
    "    edge_col = [edge_color if not edge in colored_edges else edge_color_highlighted for edge in G.edges()]\n",
    "    # Draw the nodes\n",
    "    nx.draw_networkx(G, node_pos, node_color= node_col, node_size=450)\n",
    "    # Draw the node labels\n",
    "    # nx.draw_networkx_labels(G1, node_pos,node_color= node_col)\n",
    "    # Draw the edges\n",
    "    nx.draw_networkx_edges(G, node_pos, edge_color= edge_col, style='--')\n",
    "    # Draw the edge labels\n",
    "    nx.draw_networkx_edge_labels(G, node_pos, edge_labels=arc_weight)\n",
    "    # Remove the axis\n",
    "    plt.axis('off')\n",
    "    print('task relation graph')\n",
    "    # Show the plot\n",
    "    plt.show()\n",
    "    # description\n",
    "    print('edge labels: weight')\n",
    "    print('node in red: critical path')    \n",
    "cpath = nx.dag_longest_path(G1)\n",
    "draw_task_relation_graph_with_critical_path(G1, cpath, node_pos)"
   ]
  },
  {
   "cell_type": "code",
   "execution_count": 8,
   "id": "de7c19c6",
   "metadata": {},
   "outputs": [
    {
     "data": {
      "text/plain": [
       "({1: {2, 4, 5}, 3: set(), 7: set(), 10: set(), 11: set()}, 3, 7)"
      ]
     },
     "execution_count": 8,
     "metadata": {},
     "output_type": "execute_result"
    }
   ],
   "source": [
    "def node_space(nleaves):\n",
    "    return 1+int((nleaves-1)/2)\n",
    "\n",
    "def prepare_caterpillar_tree(G, path):\n",
    "    nb_leaves = {}\n",
    "    for node in path:\n",
    "        '''\n",
    "        tmp = []\n",
    "        for x in G1.in_edges(node):\n",
    "            if x[0] not in path:\n",
    "                tmp.append(x[0])\n",
    "        '''        \n",
    "        neighbors = set(G.neighbors(node)) #| set(tmp)\n",
    "        nb_leaves[node] = neighbors - set(path)\n",
    "    max_leaves = max(len(v) for v in nb_leaves.values())\n",
    "    space_needed = 1 + sum(node_space(len(v)) for v in nb_leaves.values())\n",
    "    return nb_leaves, max_leaves, space_needed\n",
    "\n",
    "nb_leaves, max_leaves, space_needed = prepare_caterpillar_tree(G1, cpath)\n",
    "nb_leaves, max_leaves, space_needed"
   ]
  },
  {
   "cell_type": "code",
   "execution_count": 9,
   "id": "0d79f915",
   "metadata": {},
   "outputs": [
    {
     "data": {
      "text/plain": [
       "{1: (-0.8333333333333333, 0),\n",
       " 2: (-0.9444444444444444, 0.7),\n",
       " 4: (-0.8333333333333333, -0.7),\n",
       " 5: (-0.7222222222222222, 0.7),\n",
       " 3: (-0.4999999999999999, 0),\n",
       " 7: (-0.2777777777777777, 0),\n",
       " 10: (-0.05555555555555547, 0),\n",
       " 11: (0.16666666666666674, 0)}"
      ]
     },
     "execution_count": 9,
     "metadata": {},
     "output_type": "execute_result"
    }
   ],
   "source": [
    "def count_leaves(nleaves, even):\n",
    "    leaf_cnt = int(nleaves/2)\n",
    "    if even:\n",
    "        leaf_cnt += nleaves % 2\n",
    "    return leaf_cnt\n",
    "\n",
    "def leaf_spacing(nleaves, even):\n",
    "    leaf_cnt = count_leaves(nleaves, even)\n",
    "    if leaf_cnt <= 1:\n",
    "        return 0\n",
    "    return 1 / (leaf_cnt-1)\n",
    "\n",
    "def position_of_caterpillar_tree(path, nb_leaves):\n",
    "    xhop = 2 / (space_needed+2)\n",
    "    yhop = 0.7\n",
    "    pos = {}\n",
    "    xcurr = -1 + xhop/4\n",
    "    for node in path:\n",
    "        pos[node] = (xcurr, 0)\n",
    "        if len(nb_leaves[node]) > 0:\n",
    "            leaves_cnt = len(nb_leaves[node])\n",
    "            extra_cnt = node_space(leaves_cnt) - 1\n",
    "            extra_space = xhop * extra_cnt / 2\n",
    "            xcurr += extra_space\n",
    "            pos[node] = (xcurr, 0)\n",
    "            l0hop = 2 * extra_space * leaf_spacing(leaves_cnt, True)\n",
    "            l1hop = 2 * extra_space * leaf_spacing(leaves_cnt, False)\n",
    "            l0curr = xcurr - extra_space\n",
    "            l1curr = xcurr - extra_space\n",
    "            if l1hop == 0:\n",
    "                l1curr = xcurr\n",
    "            for j,leaf in enumerate(nb_leaves[node]):\n",
    "                if j % 2 == 0:\n",
    "                    pos[leaf] = (l0curr, yhop)\n",
    "                    l0curr += l0hop\n",
    "                else:\n",
    "                    pos[leaf] = (l1curr, -yhop)\n",
    "                    l1curr += l1hop\n",
    "            yhop = -yhop\n",
    "            xcurr += xhop * extra_cnt / 2\n",
    "        prev_leaves = len(nb_leaves[node])\n",
    "        xcurr += xhop\n",
    "    return pos\n",
    "pos_for_caterpillar = position_of_caterpillar_tree(cpath, nb_leaves)\n",
    "pos_for_caterpillar"
   ]
  },
  {
   "cell_type": "code",
   "execution_count": 10,
   "id": "583d26d1",
   "metadata": {},
   "outputs": [
    {
     "data": {
      "text/plain": [
       "<networkx.classes.digraph.DiGraph at 0x7fc8b3c5f090>"
      ]
     },
     "execution_count": 10,
     "metadata": {},
     "output_type": "execute_result"
    }
   ],
   "source": [
    "def remove_node_from_graph(G, s_nodes):\n",
    "    G1_removed = G.copy()\n",
    "    nodes = list(G.nodes())\n",
    "    for x in nodes:\n",
    "        if x not in s_nodes:\n",
    "            G1_removed.remove_node(x)\n",
    "    return G1_removed\n",
    "G1_removed = remove_node_from_graph(G1, pos_for_caterpillar.keys())\n",
    "G1_removed"
   ]
  },
  {
   "cell_type": "code",
   "execution_count": 11,
   "id": "12b73148",
   "metadata": {},
   "outputs": [
    {
     "data": {
      "image/png": "[encoded data removed]",
      "text/plain": [
       "<Figure size 432x288 with 1 Axes>"
      ]
     },
     "metadata": {},
     "output_type": "display_data"
    }
   ],
   "source": [
    "def draw_caterpillar(G, cpath, pos, options=None):\n",
    "    node_color = 'gray'\n",
    "    node_color_highlighted = 'red'\n",
    "    node_col_removed = [node_color if not node in cpath else node_color_highlighted for node in G.nodes()]\n",
    "    if options is None:\n",
    "        options = {\n",
    "            \"font_size\": 9,\n",
    "            \"node_size\": 300,\n",
    "            \"node_color\": node_col_removed,\n",
    "            \"edgecolors\": \"black\",\n",
    "            \"linewidths\": 1,\n",
    "            \"width\": 1,\n",
    "        }\n",
    "    nx.draw_networkx(G, pos, **options)\n",
    "    ax = plt.gca()\n",
    "    ax.margins(0.10)\n",
    "    plt.axis(\"off\")\n",
    "    plt.show()\n",
    "draw_caterpillar(G1_removed, cpath, pos_for_caterpillar)"
   ]
  },
  {
   "cell_type": "code",
   "execution_count": 12,
   "id": "3f28cb1c",
   "metadata": {},
   "outputs": [
    {
     "data": {
      "text/plain": [
       "[2, 4, 5]"
      ]
     },
     "execution_count": 12,
     "metadata": {},
     "output_type": "execute_result"
    }
   ],
   "source": [
    "def get_leaf(G):\n",
    "    return [x for x in G.nodes() if G.out_degree(x)==0 and G.in_degree(x)==1]\n",
    "\n",
    "def leaf_with_no_critical_path(leaves, cpath):\n",
    "    for leaf_idx in range(len(leaves)):\n",
    "        if leaves[leaf_idx] in cpath:\n",
    "            del(leaves[leaf_idx])\n",
    "    return leaves\n",
    "\n",
    "def get_task_nodes(G, cpath):\n",
    "    return leaf_with_no_critical_path(get_leaf(G), cpath)\n",
    "\n",
    "possible_task_nodes = get_task_nodes(G1_removed, cpath)\n",
    "possible_task_nodes"
   ]
  },
  {
   "cell_type": "code",
   "execution_count": 13,
   "id": "a161b6af",
   "metadata": {},
   "outputs": [],
   "source": [
    "def task_node_plan(G, leaves, task_max_num, data_min_size):\n",
    "    edges = {}\n",
    "    for leaf in leaves:\n",
    "        edge_data = G.in_edges(leaf, data=True)\n",
    "        for u, v, attr in edge_data:\n",
    "            try:\n",
    "                edges[u][v] = attr\n",
    "            except:\n",
    "                edges[u] = {v: attr}\n",
    "    new_edges = {}\n",
    "    for k, v in edges.items():\n",
    "        task_cnt = len(v)\n",
    "        while task_cnt < task_max_num:\n",
    "            break#div_ = \n",
    "task_node_plan(G1_removed, possible_task_nodes, 42, 1.0)        "
   ]
  },
  {
   "cell_type": "code",
   "execution_count": 14,
   "id": "baf257f0",
   "metadata": {},
   "outputs": [
    {
     "data": {
      "image/png": "[encoded data removed]",
      "text/plain": [
       "<Figure size 432x288 with 1 Axes>"
      ]
     },
     "metadata": {},
     "output_type": "display_data"
    }
   ],
   "source": [
    "G1_planned = G1_removed.copy()\n",
    "G1_planned.remove_node(4)\n",
    "G1_planned.add_edge(1, 4.1, weight=1.0)\n",
    "G1_planned.add_edge(1, 4.2, weight=1.0)\n",
    "G1_planned.add_edge(1, 4.3, weight=1.0)\n",
    "pos = pos_for_caterpillar\n",
    "pos[4.1] = (pos[4][0] - 0.15, pos[4][1])\n",
    "pos[4.2] = (pos[4][0], pos[4][1])\n",
    "pos[4.3] = (pos[4][0] + 0.15, pos[4][1])\n",
    "new_edges = [(1, 4.1), (1, 4.2), (1, 4.3)]\n",
    "node_col_planned_ = []\n",
    "for node in G1_planned.nodes():\n",
    "    if node in cpath:\n",
    "        new_color = 'pink'\n",
    "    elif node in possible_task_nodes:\n",
    "        new_color = 'orange'\n",
    "    else:\n",
    "        new_color = 'white'\n",
    "    node_col_planned_.append(new_color)\n",
    "node_col_planned_\n",
    "options = {\n",
    "    \"font_size\": 9,\n",
    "    \"node_size\": 300,\n",
    "    \"node_color\": node_col_planned_,\n",
    "    \"edgecolors\": \"black\",\n",
    "    \"linewidths\": 1,\n",
    "    \"width\": 1,\n",
    "}\n",
    "nx.draw_networkx(G1_planned, pos, **options)\n",
    "edge_col = ['black' if not edge in new_edges else 'red' for edge in G1_planned.edges()]\n",
    "arc_weight = {}\n",
    "for k, v in nx.get_edge_attributes(G1_planned,'weight').items():\n",
    "    if k in new_edges:\n",
    "        arc_weight[k] = v\n",
    "nx.draw_networkx_edges(G1_planned, pos, edge_color= edge_col)#, style='--')\n",
    "nx.draw_networkx_edge_labels(G1_planned, pos, edge_labels=arc_weight)\n",
    "\n",
    "ax = plt.gca()\n",
    "ax.margins(0.10)\n",
    "plt.axis(\"off\")\n",
    "plt.show()"
   ]
  }
 ],
 "metadata": {
  "kernelspec": {
   "display_name": "Python 3",
   "language": "python",
   "name": "python3"
  },
  "language_info": {
   "codemirror_mode": {
    "name": "ipython",
    "version": 3
   },
   "file_extension": ".py",
   "mimetype": "text/x-python",
   "name": "python",
   "nbconvert_exporter": "python",
   "pygments_lexer": "ipython3",
   "version": "3.7.13"
  }
 },
 "nbformat": 4,
 "nbformat_minor": 5
}
